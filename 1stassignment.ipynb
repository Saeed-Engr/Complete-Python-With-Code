{
 "cells": [
  {
   "cell_type": "code",
   "execution_count": null,
   "id": "9e94c411-eb5e-467e-88c6-21f1e0c0bbaa",
   "metadata": {},
   "outputs": [],
   "source": [
    "                                                                   LIST[]"
   ]
  },
  {
   "cell_type": "code",
   "execution_count": null,
   "id": "496d4d9a-4069-4ece-81c2-ba6688bf46e6",
   "metadata": {},
   "outputs": [],
   "source": [
    "CREATING LISTS"
   ]
  },
  {
   "cell_type": "code",
   "execution_count": 2,
   "id": "0c7144f2-c4d3-4df4-8b66-2ca403d70e42",
   "metadata": {},
   "outputs": [
    {
     "name": "stdout",
     "output_type": "stream",
     "text": [
      "[1, 2, 3, 4, 5, 6]\n"
     ]
    }
   ],
   "source": [
    "num = [1,2,3,4,5,6]\n",
    "print(num)"
   ]
  },
  {
   "cell_type": "code",
   "execution_count": 4,
   "id": "4a02993d-4c6c-4f73-82d4-e72cfd468c1b",
   "metadata": {},
   "outputs": [
    {
     "name": "stdout",
     "output_type": "stream",
     "text": [
      "['pencils', 'copies', 'pens', 'books']\n"
     ]
    }
   ],
   "source": [
    "stationary =[ \"pencils\",\"copies\",\"pens\",\"books\"]\n",
    "print(stationary)"
   ]
  },
  {
   "cell_type": "code",
   "execution_count": 5,
   "id": "e1622727-f82d-4c52-86b4-8abbb19f9075",
   "metadata": {},
   "outputs": [
    {
     "name": "stdout",
     "output_type": "stream",
     "text": [
      "['red', 'green', 'blue', 'black']\n"
     ]
    }
   ],
   "source": [
    "colours =[\"red\",\"green\",\"blue\",\"black\"]\n",
    "print(colours)"
   ]
  },
  {
   "cell_type": "code",
   "execution_count": null,
   "id": "f0c49973-fd4e-4dce-90b1-463c579aa1c8",
   "metadata": {},
   "outputs": [],
   "source": [
    "                                                                   INDEX()"
   ]
  },
  {
   "cell_type": "code",
   "execution_count": 8,
   "id": "ff9b8c0a-4b9d-41fa-9913-e7fb24aa0cfa",
   "metadata": {},
   "outputs": [
    {
     "data": {
      "text/plain": [
       "'lahore'"
      ]
     },
     "execution_count": 8,
     "metadata": {},
     "output_type": "execute_result"
    }
   ],
   "source": [
    "cities=['bahawalpur','multan','lahore', 'islamabad','karachi']\n",
    "cities [4]\n",
    "cities[2]"
   ]
  },
  {
   "cell_type": "code",
   "execution_count": null,
   "id": "59b94b39-97b2-4c70-b5a4-de33817da707",
   "metadata": {},
   "outputs": [],
   "source": []
  },
  {
   "cell_type": "code",
   "execution_count": 9,
   "id": "a8e6b85e-f570-4dd5-aaa6-de3d1290368f",
   "metadata": {},
   "outputs": [
    {
     "data": {
      "text/plain": [
       "'islamabad'"
      ]
     },
     "execution_count": 9,
     "metadata": {},
     "output_type": "execute_result"
    }
   ],
   "source": [
    "cities[-2]"
   ]
  },
  {
   "cell_type": "code",
   "execution_count": 10,
   "id": "c9c092ab-3c27-4f43-b1b8-e47257f25277",
   "metadata": {},
   "outputs": [
    {
     "data": {
      "text/plain": [
       "'lahore'"
      ]
     },
     "execution_count": 10,
     "metadata": {},
     "output_type": "execute_result"
    }
   ],
   "source": [
    "cities[-3]"
   ]
  },
  {
   "cell_type": "code",
   "execution_count": null,
   "id": "fda4eefb-0580-45c3-8c84-8e682b9768cc",
   "metadata": {},
   "outputs": [],
   "source": []
  },
  {
   "cell_type": "code",
   "execution_count": null,
   "id": "372251ec-979d-4c1f-8ebf-75088adeb099",
   "metadata": {},
   "outputs": [],
   "source": [
    "                                     Access Value from the Lists     lst Name + index + = names[0]"
   ]
  },
  {
   "cell_type": "code",
   "execution_count": 11,
   "id": "67bfc5f0-1aef-4433-b9a5-0f6a10a8d8b2",
   "metadata": {},
   "outputs": [
    {
     "data": {
      "text/plain": [
       "'bahawalpur'"
      ]
     },
     "execution_count": 11,
     "metadata": {},
     "output_type": "execute_result"
    }
   ],
   "source": [
    "cities=['bahawalpur','multan','lahore', 'islamabad','karachi']\n",
    "cities[0]"
   ]
  },
  {
   "cell_type": "code",
   "execution_count": null,
   "id": "8453a843-5c41-4358-a776-ec31a9617ae0",
   "metadata": {},
   "outputs": [],
   "source": [
    "len()"
   ]
  },
  {
   "cell_type": "code",
   "execution_count": 15,
   "id": "11ec94fb-8ed7-4725-b2ce-75a729b538b8",
   "metadata": {},
   "outputs": [
    {
     "data": {
      "text/plain": [
       "5"
      ]
     },
     "execution_count": 15,
     "metadata": {},
     "output_type": "execute_result"
    }
   ],
   "source": [
    "len(cities)\n"
   ]
  },
  {
   "cell_type": "code",
   "execution_count": 17,
   "id": "a714c0bf-d9cf-4405-b9e8-da3cd56ca212",
   "metadata": {},
   "outputs": [
    {
     "name": "stdout",
     "output_type": "stream",
     "text": [
      "['bahawalpur', 'multan', 'lahore', 'islamabad', 'karachi']\n"
     ]
    },
    {
     "data": {
      "text/plain": [
       "5"
      ]
     },
     "execution_count": 17,
     "metadata": {},
     "output_type": "execute_result"
    }
   ],
   "source": [
    "cities=['bahawalpur','multan','lahore', 'islamabad','karachi']\n",
    "print(cities)\n",
    "len(cities)"
   ]
  },
  {
   "cell_type": "code",
   "execution_count": null,
   "id": "f8daf41b-34b1-477d-b03b-1d8179c1f2d5",
   "metadata": {},
   "outputs": [],
   "source": [
    "                                                          Add Value in list"
   ]
  },
  {
   "cell_type": "code",
   "execution_count": 21,
   "id": "16e7e14e-5c7a-4ec9-8d9e-461db5d2c56d",
   "metadata": {},
   "outputs": [],
   "source": [
    "cities=['bahawalpur','multan','lahore', 'islamabad','karachi']\n",
    "cities.append(\"quieta\")"
   ]
  },
  {
   "cell_type": "code",
   "execution_count": 26,
   "id": "ae8229c4-befa-42ba-bba5-3e8be92cc161",
   "metadata": {},
   "outputs": [
    {
     "data": {
      "text/plain": [
       "['bahawalpur',\n",
       " 'multan',\n",
       " 'lahore',\n",
       " 'islamabad',\n",
       " 'karachi',\n",
       " 'quieta',\n",
       " 'peshawar',\n",
       " 'murree',\n",
       " 'yazman']"
      ]
     },
     "execution_count": 26,
     "metadata": {},
     "output_type": "execute_result"
    }
   ],
   "source": [
    "cities"
   ]
  },
  {
   "cell_type": "code",
   "execution_count": 24,
   "id": "6b60b89a-12f5-4c16-b8b7-85368f1c8b3f",
   "metadata": {},
   "outputs": [],
   "source": [
    "cities.extend(['peshawar','murree','yazman'])"
   ]
  },
  {
   "cell_type": "code",
   "execution_count": null,
   "id": "50605a9a-0f90-403e-9663-7c2fcc2fcb9b",
   "metadata": {},
   "outputs": [],
   "source": []
  },
  {
   "cell_type": "code",
   "execution_count": 25,
   "id": "4b64a4f8-4943-4c17-a91e-813af9b4b8c6",
   "metadata": {},
   "outputs": [
    {
     "data": {
      "text/plain": [
       "['bahawalpur',\n",
       " 'multan',\n",
       " 'lahore',\n",
       " 'islamabad',\n",
       " 'karachi',\n",
       " 'quieta',\n",
       " 'peshawar',\n",
       " 'murree',\n",
       " 'yazman']"
      ]
     },
     "execution_count": 25,
     "metadata": {},
     "output_type": "execute_result"
    }
   ],
   "source": [
    "cities"
   ]
  },
  {
   "cell_type": "code",
   "execution_count": null,
   "id": "98edd19a-e6c2-4b2a-8586-0bb332f7ff61",
   "metadata": {},
   "outputs": [],
   "source": []
  },
  {
   "cell_type": "code",
   "execution_count": null,
   "id": "2df9bb36-8e63-484c-8ce3-32c8770cbd5a",
   "metadata": {},
   "outputs": [],
   "source": [
    "                                                             insert()"
   ]
  },
  {
   "cell_type": "code",
   "execution_count": 27,
   "id": "22594cfb-3707-4de2-8d84-f6b0f5296ef4",
   "metadata": {},
   "outputs": [
    {
     "data": {
      "text/plain": [
       "['bahawalpur',\n",
       " 'multan',\n",
       " 'lahore',\n",
       " 'islamabad',\n",
       " 'karachi',\n",
       " 'quieta',\n",
       " 'peshawar',\n",
       " 'murree',\n",
       " 'yazman']"
      ]
     },
     "execution_count": 27,
     "metadata": {},
     "output_type": "execute_result"
    }
   ],
   "source": [
    "cities"
   ]
  },
  {
   "cell_type": "code",
   "execution_count": 28,
   "id": "8b4833a9-d957-4cbd-b75a-a7d880e0f9b4",
   "metadata": {},
   "outputs": [],
   "source": [
    "cities.insert(2,'hasilpur')"
   ]
  },
  {
   "cell_type": "code",
   "execution_count": 29,
   "id": "0ec44f37-32e3-4151-99ba-f6952ff89b5c",
   "metadata": {},
   "outputs": [
    {
     "data": {
      "text/plain": [
       "['bahawalpur',\n",
       " 'multan',\n",
       " 'hasilpur',\n",
       " 'lahore',\n",
       " 'islamabad',\n",
       " 'karachi',\n",
       " 'quieta',\n",
       " 'peshawar',\n",
       " 'murree',\n",
       " 'yazman']"
      ]
     },
     "execution_count": 29,
     "metadata": {},
     "output_type": "execute_result"
    }
   ],
   "source": [
    "cities"
   ]
  },
  {
   "cell_type": "code",
   "execution_count": null,
   "id": "d9e1a754-db30-4e5a-9e5e-2523c2e55020",
   "metadata": {},
   "outputs": [],
   "source": []
  },
  {
   "cell_type": "code",
   "execution_count": 30,
   "id": "9226f8d4-dc71-4fec-acc8-fd3fc708a2e5",
   "metadata": {},
   "outputs": [],
   "source": [
    "cities.insert(0,'ahmadpur')"
   ]
  },
  {
   "cell_type": "code",
   "execution_count": 31,
   "id": "b85f0a77-685b-425c-9ee4-0f7b9489eb2a",
   "metadata": {},
   "outputs": [
    {
     "data": {
      "text/plain": [
       "['ahmadpur',\n",
       " 'bahawalpur',\n",
       " 'multan',\n",
       " 'hasilpur',\n",
       " 'lahore',\n",
       " 'islamabad',\n",
       " 'karachi',\n",
       " 'quieta',\n",
       " 'peshawar',\n",
       " 'murree',\n",
       " 'yazman']"
      ]
     },
     "execution_count": 31,
     "metadata": {},
     "output_type": "execute_result"
    }
   ],
   "source": [
    "cities"
   ]
  },
  {
   "cell_type": "code",
   "execution_count": null,
   "id": "cf0035f0-27f9-4883-b5c5-0d946ba03b27",
   "metadata": {},
   "outputs": [],
   "source": []
  },
  {
   "cell_type": "code",
   "execution_count": null,
   "id": "7b03bc5d-2d50-45db-a049-bc66a231a249",
   "metadata": {},
   "outputs": [],
   "source": [
    "                                                                    count()"
   ]
  },
  {
   "cell_type": "code",
   "execution_count": 32,
   "id": "f131cbac-6551-4971-8a2a-3ca35cbc0482",
   "metadata": {},
   "outputs": [
    {
     "data": {
      "text/plain": [
       "['ahmadpur',\n",
       " 'bahawalpur',\n",
       " 'multan',\n",
       " 'hasilpur',\n",
       " 'lahore',\n",
       " 'islamabad',\n",
       " 'karachi',\n",
       " 'quieta',\n",
       " 'peshawar',\n",
       " 'murree',\n",
       " 'yazman']"
      ]
     },
     "execution_count": 32,
     "metadata": {},
     "output_type": "execute_result"
    }
   ],
   "source": [
    "cities"
   ]
  },
  {
   "cell_type": "code",
   "execution_count": 33,
   "id": "97064189-8c33-4486-ba2a-3cd329554475",
   "metadata": {},
   "outputs": [
    {
     "data": {
      "text/plain": [
       "1"
      ]
     },
     "execution_count": 33,
     "metadata": {},
     "output_type": "execute_result"
    }
   ],
   "source": [
    "cities.count(\"karachi\")"
   ]
  },
  {
   "cell_type": "code",
   "execution_count": null,
   "id": "7398e5d1-7ab7-4b8a-baf6-291d86c7b37a",
   "metadata": {},
   "outputs": [],
   "source": [
    "                                                                   clear()"
   ]
  },
  {
   "cell_type": "code",
   "execution_count": 35,
   "id": "a9b8817b-c627-4224-b75e-a08fb6899553",
   "metadata": {},
   "outputs": [
    {
     "data": {
      "text/plain": [
       "['bahawalpur', 'multan', 'lahore', 'islamabad', 'karachi']"
      ]
     },
     "execution_count": 35,
     "metadata": {},
     "output_type": "execute_result"
    }
   ],
   "source": [
    "cities=['bahawalpur','multan','lahore', 'islamabad','karachi']\n",
    "cities"
   ]
  },
  {
   "cell_type": "code",
   "execution_count": 36,
   "id": "151fe7be-caff-4703-b471-ec2129b67f1b",
   "metadata": {},
   "outputs": [
    {
     "data": {
      "text/plain": [
       "<function list.clear()>"
      ]
     },
     "execution_count": 36,
     "metadata": {},
     "output_type": "execute_result"
    }
   ],
   "source": [
    "cities=['bahawalpur','multan','lahore', 'islamabad','karachi']\n",
    "cities.clear"
   ]
  },
  {
   "cell_type": "code",
   "execution_count": null,
   "id": "2d8a126a-3953-47a6-b960-e778d3c8c75e",
   "metadata": {},
   "outputs": [],
   "source": [
    "                                                                    copy()"
   ]
  },
  {
   "cell_type": "code",
   "execution_count": 39,
   "id": "caabb737-358e-436f-b862-75f9b096b706",
   "metadata": {},
   "outputs": [
    {
     "name": "stdout",
     "output_type": "stream",
     "text": [
      "['bahawalpur', 'multan', 'lahore', 'islamabad', 'karachi']\n"
     ]
    }
   ],
   "source": [
    "cities=['bahawalpur','multan','lahore', 'islamabad','karachi']\n",
    "cities1 = cities.copy() \n",
    "print(cities1)"
   ]
  },
  {
   "cell_type": "code",
   "execution_count": null,
   "id": "82a8cb63-8bc2-465f-ba78-bb34dff49503",
   "metadata": {},
   "outputs": [],
   "source": []
  },
  {
   "cell_type": "code",
   "execution_count": 40,
   "id": "263662b7-d3fd-4b82-b304-e0fa69adc43d",
   "metadata": {},
   "outputs": [
    {
     "name": "stdout",
     "output_type": "stream",
     "text": [
      "['bahawalpur', 'multan', 'lahore', 'islamabad', 'karachi']\n"
     ]
    }
   ],
   "source": [
    "cities2 = cities    \n",
    "\n",
    "# copy by refference\n",
    "\n",
    "print(cities2)"
   ]
  },
  {
   "cell_type": "code",
   "execution_count": null,
   "id": "200a4805-bb16-4c28-916d-9cba8e0dd24f",
   "metadata": {},
   "outputs": [],
   "source": [
    "                                                                     remove()"
   ]
  },
  {
   "cell_type": "code",
   "execution_count": 42,
   "id": "5f6a6a61-6d8e-430a-8b45-a1e4ec238418",
   "metadata": {},
   "outputs": [],
   "source": [
    "cities=['bahawalpur','multan','lahore', 'islamabad','karachi']\n",
    "cities.remove(\"lahore\")"
   ]
  },
  {
   "cell_type": "code",
   "execution_count": 43,
   "id": "8d30a79a-e22b-4bda-84f6-c3e755c3a356",
   "metadata": {},
   "outputs": [
    {
     "data": {
      "text/plain": [
       "['bahawalpur', 'multan', 'islamabad', 'karachi']"
      ]
     },
     "execution_count": 43,
     "metadata": {},
     "output_type": "execute_result"
    }
   ],
   "source": [
    "cities"
   ]
  },
  {
   "cell_type": "code",
   "execution_count": null,
   "id": "73d89204-8eda-4ca7-ab1f-6c87e447bf33",
   "metadata": {},
   "outputs": [],
   "source": [
    "                                                               del keywords"
   ]
  },
  {
   "cell_type": "code",
   "execution_count": 44,
   "id": "82617108-4c34-482f-ae79-dc5459d34e7b",
   "metadata": {},
   "outputs": [],
   "source": [
    "cities=['bahawalpur','multan','lahore', 'islamabad','karachi']\n",
    "del cities[2]"
   ]
  },
  {
   "cell_type": "code",
   "execution_count": 45,
   "id": "e362249a-a08a-4be1-aae7-64f4043dbea3",
   "metadata": {},
   "outputs": [
    {
     "data": {
      "text/plain": [
       "['bahawalpur', 'multan', 'islamabad', 'karachi']"
      ]
     },
     "execution_count": 45,
     "metadata": {},
     "output_type": "execute_result"
    }
   ],
   "source": [
    "cities"
   ]
  },
  {
   "cell_type": "code",
   "execution_count": null,
   "id": "e01e975b-719f-47d5-a14d-2f72d0ee4cdb",
   "metadata": {},
   "outputs": [],
   "source": [
    "                                                                 pop()"
   ]
  },
  {
   "cell_type": "code",
   "execution_count": 46,
   "id": "c9153905-c903-41ed-8007-2038c37649e7",
   "metadata": {},
   "outputs": [
    {
     "data": {
      "text/plain": [
       "['bahawalpur', 'multan', 'islamabad', 'karachi']"
      ]
     },
     "execution_count": 46,
     "metadata": {},
     "output_type": "execute_result"
    }
   ],
   "source": [
    "cities"
   ]
  },
  {
   "cell_type": "code",
   "execution_count": null,
   "id": "d009e5ca-ab4f-4864-bfbf-dc37bbdff7ba",
   "metadata": {},
   "outputs": [],
   "source": []
  },
  {
   "cell_type": "code",
   "execution_count": 47,
   "id": "bceddd35-f219-428f-8803-735a4cd30379",
   "metadata": {},
   "outputs": [],
   "source": [
    "na = cities.pop(0)"
   ]
  },
  {
   "cell_type": "code",
   "execution_count": 48,
   "id": "aee9aacf-664d-43fb-af9c-6f88995164cd",
   "metadata": {},
   "outputs": [
    {
     "data": {
      "text/plain": [
       "'bahawalpur'"
      ]
     },
     "execution_count": 48,
     "metadata": {},
     "output_type": "execute_result"
    }
   ],
   "source": [
    "na"
   ]
  },
  {
   "cell_type": "code",
   "execution_count": 49,
   "id": "e6842996-92b7-4aed-9620-aaae7a0d74f0",
   "metadata": {},
   "outputs": [],
   "source": [
    "cities.append(na)"
   ]
  },
  {
   "cell_type": "code",
   "execution_count": null,
   "id": "17cb36fe-4d6e-4998-9b9d-71034382c8a2",
   "metadata": {},
   "outputs": [],
   "source": []
  },
  {
   "cell_type": "code",
   "execution_count": 50,
   "id": "de71c826-6a73-48cb-b554-442b2f45a73e",
   "metadata": {},
   "outputs": [
    {
     "data": {
      "text/plain": [
       "['multan', 'islamabad', 'karachi', 'bahawalpur']"
      ]
     },
     "execution_count": 50,
     "metadata": {},
     "output_type": "execute_result"
    }
   ],
   "source": [
    "cities"
   ]
  },
  {
   "cell_type": "code",
   "execution_count": null,
   "id": "c18eac80-e2e9-4d0b-a7de-c6f708a7a2f7",
   "metadata": {},
   "outputs": [],
   "source": [
    "                                                                     sort()"
   ]
  },
  {
   "cell_type": "code",
   "execution_count": 51,
   "id": "3d7fe998-b0ad-49be-b09a-2e830b0f9314",
   "metadata": {},
   "outputs": [
    {
     "data": {
      "text/plain": [
       "['multan', 'islamabad', 'karachi', 'bahawalpur']"
      ]
     },
     "execution_count": 51,
     "metadata": {},
     "output_type": "execute_result"
    }
   ],
   "source": [
    "cities"
   ]
  },
  {
   "cell_type": "code",
   "execution_count": 52,
   "id": "6e7e525d-f933-44f1-ae54-5014c24c3da6",
   "metadata": {},
   "outputs": [],
   "source": [
    "cities.sort()"
   ]
  },
  {
   "cell_type": "code",
   "execution_count": 53,
   "id": "1ea8da1f-8bb8-4f4e-b160-4d262ed41016",
   "metadata": {},
   "outputs": [
    {
     "data": {
      "text/plain": [
       "['bahawalpur', 'islamabad', 'karachi', 'multan']"
      ]
     },
     "execution_count": 53,
     "metadata": {},
     "output_type": "execute_result"
    }
   ],
   "source": [
    "cities"
   ]
  },
  {
   "cell_type": "code",
   "execution_count": null,
   "id": "77d96568-4759-4d8c-bcb2-736d3cfa8e44",
   "metadata": {},
   "outputs": [],
   "source": [
    "                                                             Slicing in python"
   ]
  },
  {
   "cell_type": "code",
   "execution_count": 54,
   "id": "d93e477f-a6ea-4588-9fd7-c42c3ba77aab",
   "metadata": {},
   "outputs": [
    {
     "data": {
      "text/plain": [
       "['bahawalpur', 'islamabad', 'karachi', 'multan']"
      ]
     },
     "execution_count": 54,
     "metadata": {},
     "output_type": "execute_result"
    }
   ],
   "source": [
    "cities"
   ]
  },
  {
   "cell_type": "code",
   "execution_count": 55,
   "id": "6d922d9b-eea9-4cab-b955-a03e5e479b8f",
   "metadata": {},
   "outputs": [
    {
     "data": {
      "text/plain": [
       "['bahawalpur', 'islamabad']"
      ]
     },
     "execution_count": 55,
     "metadata": {},
     "output_type": "execute_result"
    }
   ],
   "source": [
    "cities[:2]"
   ]
  },
  {
   "cell_type": "code",
   "execution_count": 56,
   "id": "b13ed9b1-ea68-43c8-9d4e-8ebeaee94758",
   "metadata": {},
   "outputs": [
    {
     "data": {
      "text/plain": [
       "['bahawalpur', 'islamabad']"
      ]
     },
     "execution_count": 56,
     "metadata": {},
     "output_type": "execute_result"
    }
   ],
   "source": [
    "cities[:-2]"
   ]
  },
  {
   "cell_type": "code",
   "execution_count": null,
   "id": "8a7712a8-27c6-443e-8ed2-f15a2d76c25a",
   "metadata": {},
   "outputs": [],
   "source": [
    "                                                         Delete One or more values in the lsits"
   ]
  },
  {
   "cell_type": "code",
   "execution_count": 57,
   "id": "6703c875-3231-4d5b-aa3b-9ccf99a4fbd6",
   "metadata": {},
   "outputs": [
    {
     "data": {
      "text/plain": [
       "['bahawalpur', 'islamabad', 'karachi', 'multan']"
      ]
     },
     "execution_count": 57,
     "metadata": {},
     "output_type": "execute_result"
    }
   ],
   "source": [
    "cities"
   ]
  },
  {
   "cell_type": "code",
   "execution_count": null,
   "id": "7452d99e-89ee-4b1a-b8f4-85a9a070a9ac",
   "metadata": {},
   "outputs": [],
   "source": []
  },
  {
   "cell_type": "code",
   "execution_count": 58,
   "id": "4b54cbaf-e2cd-48fc-9c3d-5eeb107db6fe",
   "metadata": {},
   "outputs": [],
   "source": [
    "del cities[1:3]"
   ]
  },
  {
   "cell_type": "code",
   "execution_count": 59,
   "id": "8d06ea0c-58b6-46d2-8a2b-3b4657162579",
   "metadata": {},
   "outputs": [
    {
     "data": {
      "text/plain": [
       "['bahawalpur', 'multan']"
      ]
     },
     "execution_count": 59,
     "metadata": {},
     "output_type": "execute_result"
    }
   ],
   "source": [
    "cities"
   ]
  },
  {
   "cell_type": "code",
   "execution_count": 60,
   "id": "07b09939-51c3-4e11-af0f-5acfb5d3c52f",
   "metadata": {},
   "outputs": [],
   "source": [
    "del cities[2:]"
   ]
  },
  {
   "cell_type": "code",
   "execution_count": 61,
   "id": "05c363bd-04f5-42ee-8c20-348feb28c674",
   "metadata": {},
   "outputs": [
    {
     "data": {
      "text/plain": [
       "['bahawalpur', 'multan']"
      ]
     },
     "execution_count": 61,
     "metadata": {},
     "output_type": "execute_result"
    }
   ],
   "source": [
    "cities"
   ]
  },
  {
   "cell_type": "code",
   "execution_count": null,
   "id": "4b44fdc8-6108-4e77-8867-e24a67d84ce6",
   "metadata": {},
   "outputs": [],
   "source": [
    "                                                                    Condition structure"
   ]
  },
  {
   "cell_type": "code",
   "execution_count": 62,
   "id": "b6408cf5-2b99-4449-bc06-279992fec130",
   "metadata": {},
   "outputs": [
    {
     "name": "stdout",
     "output_type": "stream",
     "text": [
      "Yep, it's pen.\n"
     ]
    }
   ],
   "source": [
    "stationary = \"pen\"\n",
    "\n",
    "if stationary == \"pen\":\n",
    "    \n",
    "    print(\"Yep, it's pen.\")"
   ]
  },
  {
   "cell_type": "code",
   "execution_count": 65,
   "id": "5016cf71-7558-4ca6-8696-75679879f603",
   "metadata": {},
   "outputs": [
    {
     "name": "stdout",
     "output_type": "stream",
     "text": [
      "its a proper class\n"
     ]
    }
   ],
   "source": [
    "no_of_students = 20\n",
    "if no_of_students == 20:\n",
    "     print(\"its a proper class\")"
   ]
  },
  {
   "cell_type": "code",
   "execution_count": null,
   "id": "86a9dc22-59f5-40fd-8f30-dda4d7ce78da",
   "metadata": {},
   "outputs": [],
   "source": [
    "                                                         else and elif statements"
   ]
  },
  {
   "cell_type": "code",
   "execution_count": 66,
   "id": "9a9dd859-c5fd-44b0-92a3-9c9950e081c4",
   "metadata": {},
   "outputs": [
    {
     "name": "stdout",
     "output_type": "stream",
     "text": [
      "Yep, it's pen.\n"
     ]
    }
   ],
   "source": [
    "stationary = \"pen\"\n",
    "\n",
    "if stationary == \"pen\":\n",
    "    \n",
    "    print(\"Yep, it's pen.\")\n",
    "else:\n",
    "    print(\"its not pen\")"
   ]
  },
  {
   "cell_type": "code",
   "execution_count": 67,
   "id": "9ec2b6ea-2895-427e-bb47-92ba251e88fd",
   "metadata": {},
   "outputs": [
    {
     "name": "stdout",
     "output_type": "stream",
     "text": [
      "its a pencil\n"
     ]
    }
   ],
   "source": [
    "stationary = \"pencil\"\n",
    "\n",
    "if stationary == \"pen\":\n",
    "    \n",
    "    print(\"Yep, it's pen.\")\n",
    "else:\n",
    "    print(\"its a pencil\")"
   ]
  },
  {
   "cell_type": "code",
   "execution_count": 68,
   "id": "e00d0f04-ec76-4d96-a5dd-008216070a48",
   "metadata": {},
   "outputs": [
    {
     "name": "stdout",
     "output_type": "stream",
     "text": [
      "Negative number\n"
     ]
    }
   ],
   "source": [
    "num = -5\n",
    "\n",
    "# Try these two variations as well. \n",
    "# num = -5\n",
    "# num = 0\n",
    "\n",
    "if num >= 0:\n",
    "    print(\"Positive or Zero\")\n",
    "else:\n",
    "    print(\"Negative number\")"
   ]
  },
  {
   "cell_type": "code",
   "execution_count": null,
   "id": "51907bf6-dd81-43cc-b67c-d476d9e20bd0",
   "metadata": {},
   "outputs": [],
   "source": [
    "                                                       For LOOP"
   ]
  },
  {
   "cell_type": "code",
   "execution_count": 70,
   "id": "3df7f934-478a-40d6-a387-3b032a582208",
   "metadata": {},
   "outputs": [
    {
     "name": "stdout",
     "output_type": "stream",
     "text": [
      "It's one of the cleanest cities\n"
     ]
    }
   ],
   "source": [
    "cleanest_cities = [\"Cheyenne\", \"Santa Fe\", \"Tucson\",\"Great Falls\", \"Honolulu\"]\n",
    "\n",
    "city_to_check = \"Tucson\"\n",
    "\n",
    "\n",
    "for a_clean_city in cleanest_cities:\n",
    "   if city_to_check == a_clean_city:\n",
    "        print(\"It's one of the cleanest cities\")"
   ]
  },
  {
   "cell_type": "code",
   "execution_count": 87,
   "id": "7aac195b-5970-421d-83e8-fe6edb3918e9",
   "metadata": {},
   "outputs": [],
   "source": [
    "cities =['bahawalpur','multan','lahore', 'islamabad','karachi']\n",
    "clean_city == \"multan\"\n",
    "for clean_city in cities:\n",
    "   if cities == clean_city:\n",
    "     print(\"its beautiful city\")"
   ]
  },
  {
   "cell_type": "code",
   "execution_count": 89,
   "id": "ba7f1b9c-606e-4c73-ae7d-a858f0ed6f0a",
   "metadata": {},
   "outputs": [
    {
     "name": "stdout",
     "output_type": "stream",
     "text": [
      "The sum is 14\n"
     ]
    }
   ],
   "source": [
    "numbers = [6, 5, 3]\n",
    "\n",
    "sum = 0\n",
    "\n",
    "for val in numbers:\n",
    "    sum = sum+val\n",
    "\n",
    "print(\"The sum is\", sum)"
   ]
  },
  {
   "cell_type": "code",
   "execution_count": null,
   "id": "e845b656-0de1-4118-875d-b59731701231",
   "metadata": {},
   "outputs": [],
   "source": [
    "                                                         creating table"
   ]
  },
  {
   "cell_type": "code",
   "execution_count": 90,
   "id": "736edab4-17a4-40f3-99b4-c09038221a66",
   "metadata": {},
   "outputs": [
    {
     "name": "stdin",
     "output_type": "stream",
     "text": [
      "Enter the number 4\n"
     ]
    },
    {
     "name": "stdout",
     "output_type": "stream",
     "text": [
      " 4 * 1 = 4\n",
      " 4 * 2 = 8\n",
      " 4 * 3 = 12\n",
      " 4 * 4 = 16\n",
      " 4 * 5 = 20\n",
      " 4 * 6 = 24\n",
      " 4 * 7 = 28\n",
      " 4 * 8 = 32\n",
      " 4 * 9 = 36\n",
      " 4 * 10 = 40\n"
     ]
    }
   ],
   "source": [
    "table = int(input(\"Enter the number\"))\n",
    "\n",
    "for num in range(1,11):\n",
    "    print(f\" {table} * {num} = {table*num}\")"
   ]
  },
  {
   "cell_type": "code",
   "execution_count": null,
   "id": "35da93e1-d932-41e3-980c-3767eb1f65a8",
   "metadata": {},
   "outputs": [],
   "source": [
    "                                                                Nested Loops"
   ]
  },
  {
   "cell_type": "code",
   "execution_count": 91,
   "id": "bb670c6d-4ea7-4f7c-bd4c-7e14867897f3",
   "metadata": {},
   "outputs": [
    {
     "name": "stdin",
     "output_type": "stream",
     "text": [
      "Enter the number 3\n"
     ]
    },
    {
     "name": "stdout",
     "output_type": "stream",
     "text": [
      " \n",
      " 2 * 1 = 2\n",
      " 2 * 2 = 4\n",
      " 2 * 3 = 6\n",
      " 2 * 4 = 8\n",
      " 2 * 5 = 10\n",
      " 2 * 6 = 12\n",
      " 2 * 7 = 14\n",
      " 2 * 8 = 16\n",
      " 2 * 9 = 18\n",
      " 2 * 10 = 20\n",
      " \n",
      " 3 * 1 = 3\n",
      " 3 * 2 = 6\n",
      " 3 * 3 = 9\n",
      " 3 * 4 = 12\n",
      " 3 * 5 = 15\n",
      " 3 * 6 = 18\n",
      " 3 * 7 = 21\n",
      " 3 * 8 = 24\n",
      " 3 * 9 = 27\n",
      " 3 * 10 = 30\n"
     ]
    }
   ],
   "source": [
    "table = int(input(\"Enter the number\"))\n",
    "\n",
    "for table in range(2,table+1):\n",
    "    print(\" \")\n",
    "    for num in range(1,11):\n",
    "        \n",
    "        print(f\" {table} * {num} = {table*num}\")"
   ]
  },
  {
   "cell_type": "code",
   "execution_count": null,
   "id": "d22391ef-9106-471a-a4ef-1eaed17aad14",
   "metadata": {},
   "outputs": [],
   "source": []
  }
 ],
 "metadata": {
  "kernelspec": {
   "display_name": "Python 3 (ipykernel)",
   "language": "python",
   "name": "python3"
  },
  "language_info": {
   "codemirror_mode": {
    "name": "ipython",
    "version": 3
   },
   "file_extension": ".py",
   "mimetype": "text/x-python",
   "name": "python",
   "nbconvert_exporter": "python",
   "pygments_lexer": "ipython3",
   "version": "3.11.7"
  }
 },
 "nbformat": 4,
 "nbformat_minor": 5
}
