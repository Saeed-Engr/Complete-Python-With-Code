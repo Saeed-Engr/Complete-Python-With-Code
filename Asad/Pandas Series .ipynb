{
 "cells": [
  {
   "cell_type": "markdown",
   "id": "c7c1b891",
   "metadata": {},
   "source": [
    "# Pandas Series"
   ]
  },
  {
   "cell_type": "code",
   "execution_count": 1,
   "id": "30898228",
   "metadata": {},
   "outputs": [
    {
     "name": "stdout",
     "output_type": "stream",
     "text": [
      "0    4\n",
      "1    7\n",
      "2   -5\n",
      "3    3\n",
      "dtype: int64\n"
     ]
    }
   ],
   "source": [
    "# must need to import pandas\n",
    "# Creating Series in pandas\n",
    "\n",
    "import pandas as pd\n",
    "obj = pd.Series([4, 7, -5, 3])    \n",
    "print(obj)"
   ]
  },
  {
   "cell_type": "markdown",
   "id": "4cdd52e0",
   "metadata": {},
   "source": [
    "# pandas Series has two things in one object\n",
    "1 Values\n",
    "-  \n",
    "\n",
    "2 Index\n",
    "-"
   ]
  },
  {
   "cell_type": "code",
   "execution_count": 2,
   "id": "9c292e5d",
   "metadata": {},
   "outputs": [
    {
     "name": "stdout",
     "output_type": "stream",
     "text": [
      "[100 200 100 400]\n",
      "RangeIndex(start=0, stop=4, step=1)\n"
     ]
    }
   ],
   "source": [
    "sales = pd.Series([100, 200, 100, 400])\n",
    "print(sales.values)\n",
    "print(sales.index)"
   ]
  },
  {
   "cell_type": "code",
   "execution_count": 3,
   "id": "a52429f7",
   "metadata": {},
   "outputs": [
    {
     "name": "stdout",
     "output_type": "stream",
     "text": [
      "Jan    100\n",
      "Feb    200\n",
      "Mar    100\n",
      "Apr    400\n",
      "dtype: int64\n",
      "[100 200 100 400]\n",
      "Index(['Jan', 'Feb', 'Mar', 'Apr'], dtype='object')\n"
     ]
    }
   ],
   "source": [
    "sales = pd.Series([100, 200, 100, 400], index = ['Jan', 'Feb', 'Mar','Apr'])\n",
    "print(sales)\n",
    "print(sales.values)\n",
    "print(sales.index)"
   ]
  },
  {
   "cell_type": "markdown",
   "id": "c999477a",
   "metadata": {},
   "source": [
    "# create a pandas series to store a canteen data to hold values of how many sandwithes are sold each days (one week)"
   ]
  },
  {
   "cell_type": "code",
   "execution_count": 4,
   "id": "4ddc4c18",
   "metadata": {},
   "outputs": [
    {
     "name": "stdout",
     "output_type": "stream",
     "text": [
      "mon    20\n",
      "tue    30\n",
      "wed    20\n",
      "thr    25\n",
      "fri    30\n",
      "sat    40\n",
      "sun     0\n",
      "dtype: int64\n"
     ]
    }
   ],
   "source": [
    "sw = pd.Series([20, 30, 20, 25, 30, 40, 0], \n",
    "               index = ['mon', 'tue', 'wed', 'thr','fri', 'sat', 'sun'])\n",
    "print(sw)"
   ]
  },
  {
   "cell_type": "code",
   "execution_count": 8,
   "id": "8afd25ac",
   "metadata": {},
   "outputs": [
    {
     "name": "stdout",
     "output_type": "stream",
     "text": [
      "30\n",
      "30\n"
     ]
    }
   ],
   "source": [
    "print(sw[1])\n",
    "\n",
    "print(sw[\"tue\"])\n"
   ]
  },
  {
   "cell_type": "code",
   "execution_count": 11,
   "id": "76b67768",
   "metadata": {},
   "outputs": [
    {
     "name": "stdout",
     "output_type": "stream",
     "text": [
      "thr    25\n",
      "sat    40\n",
      "dtype: int64\n",
      "tue    30\n",
      "thr    25\n",
      "dtype: int64\n"
     ]
    }
   ],
   "source": [
    "print(sw[  [3,5] ])\n",
    "\n",
    "print(sw[ [ \"tue\", \"thr\"] ])"
   ]
  },
  {
   "cell_type": "code",
   "execution_count": null,
   "id": "f5557890",
   "metadata": {},
   "outputs": [],
   "source": []
  },
  {
   "cell_type": "markdown",
   "id": "11bfd543",
   "metadata": {},
   "source": [
    "# for providing multipe index for selecting element in an pd series, use array notation"
   ]
  },
  {
   "cell_type": "code",
   "execution_count": 12,
   "id": "7798fda5",
   "metadata": {},
   "outputs": [
    {
     "name": "stdout",
     "output_type": "stream",
     "text": [
      "mon    False\n",
      "tue     True\n",
      "wed    False\n",
      "thr     True\n",
      "fri     True\n",
      "sat     True\n",
      "sun    False\n",
      "dtype: bool\n",
      "\n",
      "tue    30\n",
      "thr    25\n",
      "fri    30\n",
      "sat    40\n",
      "dtype: int64\n"
     ]
    }
   ],
   "source": [
    "print(sw > 20)\n",
    "print()\n",
    "print(sw[sw > 20])"
   ]
  },
  {
   "cell_type": "code",
   "execution_count": 13,
   "id": "20031a79",
   "metadata": {},
   "outputs": [
    {
     "name": "stdout",
     "output_type": "stream",
     "text": [
      "mon    40\n",
      "tue    60\n",
      "wed    40\n",
      "thr    50\n",
      "fri    60\n",
      "sat    80\n",
      "sun     0\n",
      "dtype: int64\n"
     ]
    }
   ],
   "source": [
    "#sw * 2\n",
    "sw = sw * 2\n",
    "print(sw)"
   ]
  },
  {
   "cell_type": "code",
   "execution_count": 14,
   "id": "2ebd395a",
   "metadata": {},
   "outputs": [
    {
     "name": "stdout",
     "output_type": "stream",
     "text": [
      "mon    20.0\n",
      "tue    30.0\n",
      "wed    20.0\n",
      "thr    25.0\n",
      "fri    30.0\n",
      "sat    40.0\n",
      "sun     0.0\n",
      "dtype: float64\n"
     ]
    }
   ],
   "source": [
    "sw = sw /2\n",
    "print(sw)"
   ]
  },
  {
   "cell_type": "code",
   "execution_count": 16,
   "id": "3704c5e6",
   "metadata": {},
   "outputs": [
    {
     "data": {
      "text/plain": [
       "True"
      ]
     },
     "execution_count": 16,
     "metadata": {},
     "output_type": "execute_result"
    }
   ],
   "source": [
    "'mon' in sw"
   ]
  },
  {
   "cell_type": "markdown",
   "id": "4e3d8c49",
   "metadata": {},
   "source": [
    "# taking input from numpy arrays and converting to Pandas Series"
   ]
  },
  {
   "cell_type": "code",
   "execution_count": 17,
   "id": "e53427be",
   "metadata": {},
   "outputs": [
    {
     "name": "stdout",
     "output_type": "stream",
     "text": [
      "a    3\n",
      "b    2\n",
      "c    4\n",
      "d    5\n",
      "e    6\n",
      "dtype: int32\n"
     ]
    }
   ],
   "source": [
    "import numpy as np\n",
    "ar = np.array([3,2,4,5,6])   # creating array \n",
    "ind = np.array( ['a', 'b', 'c', 'd', 'e']) \n",
    "\n",
    "obj2 = pd.Series(ar, index = ind)    \n",
    "print(obj2)"
   ]
  },
  {
   "cell_type": "code",
   "execution_count": null,
   "id": "9d6be777",
   "metadata": {},
   "outputs": [],
   "source": []
  },
  {
   "cell_type": "markdown",
   "id": "2c6cbbe6",
   "metadata": {},
   "source": [
    "# creating dictionary and then converting to pandas series"
   ]
  },
  {
   "cell_type": "code",
   "execution_count": 19,
   "id": "bdb823c5",
   "metadata": {},
   "outputs": [
    {
     "name": "stdout",
     "output_type": "stream",
     "text": [
      "Sindh          35000\n",
      "Panjab         45000\n",
      "KPK            30000\n",
      "Balochistan    20000\n",
      "dtype: int64\n",
      "Index(['Sindh', 'Panjab', 'KPK', 'Balochistan'], dtype='object')\n"
     ]
    }
   ],
   "source": [
    "sdata = {\"Sindh\": 35000, \"Panjab\": 45000, \"KPK\": 30000, \"Balochistan\": 20000}   # creating dictionary\n",
    "tax_by_state = pd.Series(sdata)  # Converting to series\n",
    "print(tax_by_state)\n",
    "\n",
    "print(tax_by_state.index)"
   ]
  },
  {
   "cell_type": "markdown",
   "id": "817505cb",
   "metadata": {},
   "source": [
    "# if index more than values :"
   ]
  },
  {
   "cell_type": "code",
   "execution_count": 21,
   "id": "9a5e1b00",
   "metadata": {},
   "outputs": [
    {
     "name": "stdout",
     "output_type": "stream",
     "text": [
      "Panjab         45000.0\n",
      "Sindh          35000.0\n",
      "KPK            30000.0\n",
      "Balochistan    20000.0\n",
      "GB                 NaN\n",
      "dtype: float64\n",
      "Panjab         False\n",
      "Sindh          False\n",
      "KPK            False\n",
      "Balochistan    False\n",
      "GB              True\n",
      "dtype: bool\n"
     ]
    }
   ],
   "source": [
    "sdata = {\"Sindh\": 35000, \"Panjab\": 45000, \"KPK\": 30000, \"Balochistan\": 20000}\n",
    "tax_by_state = pd.Series(sdata, index = [\"Panjab\", \"Sindh\", \"KPK\", \"Balochistan\", \"GB\"])\n",
    "\n",
    "print(tax_by_state)\n",
    "\n",
    "print(pd.isnull(tax_by_state))     # isnull() function checking null values"
   ]
  },
  {
   "cell_type": "code",
   "execution_count": 24,
   "id": "2ab04fef",
   "metadata": {},
   "outputs": [
    {
     "name": "stdout",
     "output_type": "stream",
     "text": [
      "nan\n",
      "\n",
      "nan\n"
     ]
    }
   ],
   "source": [
    "print(tax_by_state[-1])\n",
    "print()\n",
    "print(tax_by_state['GB'])"
   ]
  },
  {
   "cell_type": "code",
   "execution_count": 25,
   "id": "9135e1de",
   "metadata": {},
   "outputs": [
    {
     "data": {
      "text/plain": [
       "Panjab         False\n",
       "Sindh          False\n",
       "KPK            False\n",
       "Balochistan    False\n",
       "GB              True\n",
       "dtype: bool"
      ]
     },
     "execution_count": 25,
     "metadata": {},
     "output_type": "execute_result"
    }
   ],
   "source": [
    "# NaN values mean, values does not exist in pandas series\n",
    "pd.isnull(tax_by_state)\n",
    "tax_by_state.isnull()"
   ]
  },
  {
   "cell_type": "code",
   "execution_count": 27,
   "id": "298b48d4",
   "metadata": {},
   "outputs": [
    {
     "name": "stdout",
     "output_type": "stream",
     "text": [
      "mon    20\n",
      "tue    30\n",
      "wed    20\n",
      "thr    25\n",
      "fri    30\n",
      "sat    40\n",
      "sun     0\n",
      "dtype: int64\n",
      "m    20\n",
      "t    30\n",
      "w    20\n",
      "t    25\n",
      "f    30\n",
      "s    40\n",
      "s     0\n",
      "dtype: int64\n"
     ]
    }
   ],
   "source": [
    "sw = pd.Series([20, 30, 20, 25, 30, 40, 0], \n",
    "               index = ['mon', 'tue', 'wed', 'thr','fri', 'sat', 'sun'])\n",
    "print(sw)\n",
    "sw.index = [\"m\", \"t\", \"w\", \"t\", \"f\", \"s\", \"s\"]   # changing index\n",
    "print(sw)"
   ]
  },
  {
   "cell_type": "code",
   "execution_count": null,
   "id": "65b8fdb7",
   "metadata": {},
   "outputs": [],
   "source": []
  }
 ],
 "metadata": {
  "kernelspec": {
   "display_name": "Python 3 (ipykernel)",
   "language": "python",
   "name": "python3"
  },
  "language_info": {
   "codemirror_mode": {
    "name": "ipython",
    "version": 3
   },
   "file_extension": ".py",
   "mimetype": "text/x-python",
   "name": "python",
   "nbconvert_exporter": "python",
   "pygments_lexer": "ipython3",
   "version": "3.9.7"
  }
 },
 "nbformat": 4,
 "nbformat_minor": 5
}
