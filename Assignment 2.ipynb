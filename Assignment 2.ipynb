{
 "cells": [
  {
   "cell_type": "markdown",
   "id": "9123e611",
   "metadata": {},
   "source": [
    " # Function"
   ]
  },
  {
   "cell_type": "code",
   "execution_count": 7,
   "id": "5fc84234-9825-4c12-b4ed-5f7ddd3371f6",
   "metadata": {},
   "outputs": [],
   "source": [
    "def add_number():\n",
    "    \n",
    "    \n",
    "    number1 = int(input(\"Enter the 1st number\"))\n",
    "\n",
    "    number2 = int(input(\"Enter the 2nd number\"))\n",
    "\n",
    "    print(number1 + number2)\n"
   ]
  },
  {
   "cell_type": "code",
   "execution_count": 8,
   "id": "de6ad1e5-ad59-426b-85a4-6b67828e49ea",
   "metadata": {},
   "outputs": [
    {
     "name": "stdout",
     "output_type": "stream",
     "text": [
      "Enter the 1st number 34\n",
      "Enter the 2nd number 45\n"
     ]
    },
    {
     "name": "stdout",
     "output_type": "stream",
     "text": [
      "79\n"
     ]
    }
   ],
   "source": [
    "add_number()"
   ]
  },
  {
   "cell_type": "code",
   "execution_count": 2,
   "id": "556efbd3-7f87-44ee-91b7-16d49b58cc1a",
   "metadata": {},
   "outputs": [],
   "source": [
    "def add_number(): \n",
    "                            \n",
    "    print(20+30)\n"
   ]
  },
  {
   "cell_type": "code",
   "execution_count": 3,
   "id": "c353c652-373d-41d4-bc8c-b7c0e225a6f7",
   "metadata": {},
   "outputs": [
    {
     "name": "stdout",
     "output_type": "stream",
     "text": [
      "50\n"
     ]
    }
   ],
   "source": [
    "add_number()"
   ]
  },
  {
   "cell_type": "code",
   "execution_count": 11,
   "id": "5b3a54c5-aca2-43d1-bd58-84a0814423e8",
   "metadata": {},
   "outputs": [],
   "source": [
    "def sub_number():\n",
    "    number1 = int(input(\"Enter the 1st number\"))\n",
    "\n",
    "    number2 = int(input(\"Enter the 2nd number\"))\n",
    "\n",
    "    number5 = number1 - number2\n",
    "\n",
    "    print(number5)\n"
   ]
  },
  {
   "cell_type": "code",
   "execution_count": 12,
   "id": "581933de-874f-440f-8b3a-748ee7dad610",
   "metadata": {},
   "outputs": [
    {
     "name": "stdout",
     "output_type": "stream",
     "text": [
      "Enter the 1st number 23\n",
      "Enter the 2nd number 2\n"
     ]
    },
    {
     "name": "stdout",
     "output_type": "stream",
     "text": [
      "21\n"
     ]
    }
   ],
   "source": [
    "sub_number()"
   ]
  },
  {
   "cell_type": "code",
   "execution_count": 4,
   "id": "10ad05b5-5c33-460d-8758-efa50892e401",
   "metadata": {},
   "outputs": [],
   "source": [
    "def mul():\n",
    "\n",
    "    num = 4*5\n",
    "\n",
    "    print(num)\n"
   ]
  },
  {
   "cell_type": "code",
   "execution_count": 5,
   "id": "40a0a7ff-7fe4-47f6-9bd7-5507fae40a34",
   "metadata": {},
   "outputs": [
    {
     "name": "stdout",
     "output_type": "stream",
     "text": [
      "20\n"
     ]
    }
   ],
   "source": [
    "mul()"
   ]
  },
  {
   "cell_type": "code",
   "execution_count": 15,
   "id": "00a69e10-4281-4851-9fbc-3eed304b0840",
   "metadata": {},
   "outputs": [],
   "source": [
    "def multiple():\n",
    "    num1 = int(input(\"Enter the 1st number\"))\n",
    "\n",
    "    num2 = int (input(\"Enter the 2nd number\"))\n",
    "\n",
    "    total = (num1 * num2)\n",
    "\n",
    "    print(total)"
   ]
  },
  {
   "cell_type": "code",
   "execution_count": 16,
   "id": "73c66d56-6898-457a-9309-89d293f3229a",
   "metadata": {},
   "outputs": [
    {
     "name": "stdout",
     "output_type": "stream",
     "text": [
      "Enter the 1st number 45\n",
      "Enter the 2nd number 56\n"
     ]
    },
    {
     "name": "stdout",
     "output_type": "stream",
     "text": [
      "2520\n"
     ]
    }
   ],
   "source": [
    "multiple()"
   ]
  },
  {
   "cell_type": "code",
   "execution_count": 17,
   "id": "f7af3bda-bb64-4069-93d8-35c8e880c6db",
   "metadata": {},
   "outputs": [],
   "source": [
    "def multiple():\n",
    "    num1 = float(input(\"Enter the 1st value\"))\n",
    "\n",
    "    num2 = int(input(\"Enter the 2nd number\"))\n",
    "\n",
    "    total = (num1 * num2)\n",
    "\n",
    "    print(total)"
   ]
  },
  {
   "cell_type": "code",
   "execution_count": 18,
   "id": "9cd24997-284a-4754-9707-ac695bffe707",
   "metadata": {},
   "outputs": [
    {
     "name": "stdout",
     "output_type": "stream",
     "text": [
      "Enter the 1st value 3\n",
      "Enter the 2nd number 2\n"
     ]
    },
    {
     "name": "stdout",
     "output_type": "stream",
     "text": [
      "6.0\n"
     ]
    }
   ],
   "source": [
    "multiple()"
   ]
  },
  {
   "cell_type": "code",
   "execution_count": 6,
   "id": "30633262-ad98-46b3-89ef-5750510d2c4b",
   "metadata": {},
   "outputs": [],
   "source": [
    "def div():\n",
    "    a = 100\n",
    "\n",
    "    b = 30\n",
    "\n",
    "    result = a/b # result in floating number by defult in python\n",
    "\n",
    "    print(result) # result = a//b , the result should be in intege"
   ]
  },
  {
   "cell_type": "code",
   "execution_count": 7,
   "id": "243adea8-c8d9-4513-a19e-1aa206fd8e7c",
   "metadata": {},
   "outputs": [
    {
     "name": "stdout",
     "output_type": "stream",
     "text": [
      "3.3333333333333335\n"
     ]
    }
   ],
   "source": [
    "div()"
   ]
  },
  {
   "cell_type": "code",
   "execution_count": 9,
   "id": "db821877-0122-48b1-af5f-b76c812403d5",
   "metadata": {},
   "outputs": [],
   "source": [
    "def reminder():\n",
    "    num1 = int(input(\"Enter the first value\"))\n",
    "\n",
    "    num2 = int(input(\"Enter the 2nd value\"))\n",
    "\n",
    "    total = num1 % num2\n",
    "\n",
    "    print(total)\n"
   ]
  },
  {
   "cell_type": "code",
   "execution_count": 24,
   "id": "7511ca22-9f76-499d-8e5d-35e0968a1936",
   "metadata": {},
   "outputs": [
    {
     "name": "stdout",
     "output_type": "stream",
     "text": [
      "Enter the first value 4\n",
      "Enter the 2nd value 2\n"
     ]
    },
    {
     "name": "stdout",
     "output_type": "stream",
     "text": [
      "0\n"
     ]
    }
   ],
   "source": [
    "reminder()"
   ]
  },
  {
   "cell_type": "markdown",
   "id": "debad3fa",
   "metadata": {},
   "source": [
    " # Parameterized Function"
   ]
  },
  {
   "cell_type": "code",
   "execution_count": 10,
   "id": "ea0ef6fa-f22c-493e-af3b-b1045f71015e",
   "metadata": {},
   "outputs": [],
   "source": [
    "def add_numbers(num1, num2):\n",
    "   print(num1+num2)\n"
   ]
  },
  {
   "cell_type": "code",
   "execution_count": 11,
   "id": "e259a5e9-93cf-42ad-a54d-24ed4b597535",
   "metadata": {},
   "outputs": [
    {
     "name": "stdout",
     "output_type": "stream",
     "text": [
      "130\n"
     ]
    }
   ],
   "source": [
    "add_numbers(20,110)"
   ]
  },
  {
   "cell_type": "markdown",
   "id": "2af92a05",
   "metadata": {},
   "source": [
    "# Postional Arguments"
   ]
  },
  {
   "cell_type": "code",
   "execution_count": 28,
   "id": "98ffedb3-449b-485b-803f-3e21152d64ef",
   "metadata": {},
   "outputs": [],
   "source": [
    "def sub(num1, num2):\n",
    "\n",
    "    print(num1-num2)\n"
   ]
  },
  {
   "cell_type": "code",
   "execution_count": 29,
   "id": "c5d115ba-48d0-4a88-b046-8f552b99aac1",
   "metadata": {},
   "outputs": [
    {
     "name": "stdout",
     "output_type": "stream",
     "text": [
      "130\n"
     ]
    }
   ],
   "source": [
    "sub(200,70)"
   ]
  },
  {
   "cell_type": "code",
   "execution_count": 36,
   "id": "4dc309c1",
   "metadata": {},
   "outputs": [],
   "source": [
    "def mul(num2, num4):\n",
    "     print(num2*num4)"
   ]
  },
  {
   "cell_type": "code",
   "execution_count": 39,
   "id": "c263fc19",
   "metadata": {},
   "outputs": [
    {
     "name": "stdout",
     "output_type": "stream",
     "text": [
      "8277\n"
     ]
    }
   ],
   "source": [
    "mul(93,89)"
   ]
  },
  {
   "cell_type": "code",
   "execution_count": null,
   "id": "7aacdd70",
   "metadata": {},
   "outputs": [],
   "source": []
  },
  {
   "cell_type": "markdown",
   "id": "b583c7fd",
   "metadata": {},
   "source": [
    "# Key Word Argument"
   ]
  },
  {
   "cell_type": "code",
   "execution_count": 12,
   "id": "6a1d66be-92fa-4a5a-9f29-dfc11544ee62",
   "metadata": {},
   "outputs": [],
   "source": [
    "def add_numbers(number1,number2):\n",
    "\n",
    "    print(number1+number2) \n"
   ]
  },
  {
   "cell_type": "code",
   "execution_count": 13,
   "id": "02eeb28c-6043-410c-98a8-fb59bed97762",
   "metadata": {},
   "outputs": [
    {
     "name": "stdout",
     "output_type": "stream",
     "text": [
      "1200\n"
     ]
    }
   ],
   "source": [
    "add_numbers(number2=400, number1=800)"
   ]
  },
  {
   "cell_type": "code",
   "execution_count": 15,
   "id": "b57d9a9f-9852-41fd-a459-f71796349c1c",
   "metadata": {},
   "outputs": [],
   "source": [
    "def full_name(Name,dept,section):\n",
    "\n",
    "    print(Name+dept+section)\n"
   ]
  },
  {
   "cell_type": "code",
   "execution_count": 21,
   "id": "45d06414-b030-4182-8656-4fb0f08e0486",
   "metadata": {},
   "outputs": [
    {
     "name": "stdout",
     "output_type": "stream",
     "text": [
      "SalihaAI1stM\n"
     ]
    }
   ],
   "source": [
    "full_name(\"Saliha\",\"AI\", \"1stM\")"
   ]
  },
  {
   "cell_type": "code",
   "execution_count": 23,
   "id": "5a68282c-0fa5-449b-a069-48ac8c4b2a63",
   "metadata": {},
   "outputs": [],
   "source": [
    "def fullName(dept=\"AI\",section=\"1stM\",Name=\"Saliha\"):\n",
    "\n",
    " print(Name+dept+section)\n"
   ]
  },
  {
   "cell_type": "code",
   "execution_count": 24,
   "id": "dc8697bc-dfd6-45ca-973b-9a8a4799e59c",
   "metadata": {},
   "outputs": [
    {
     "name": "stdout",
     "output_type": "stream",
     "text": [
      "SalihaAI1stM\n"
     ]
    }
   ],
   "source": [
    "fullName()"
   ]
  },
  {
   "cell_type": "code",
   "execution_count": 25,
   "id": "2ef429b5-f312-4dab-b6e6-c84d89030484",
   "metadata": {},
   "outputs": [],
   "source": [
    "def fullName(first,middle,last=\"Saliha\"):\n",
    "\n",
    "    print(first+middle+last)\n"
   ]
  },
  {
   "cell_type": "code",
   "execution_count": 27,
   "id": "a1060fcf-5c2e-42c9-9822-186c8bfe00cf",
   "metadata": {},
   "outputs": [
    {
     "name": "stdout",
     "output_type": "stream",
     "text": [
      "MisSalihaSaliha\n"
     ]
    }
   ],
   "source": [
    "fullName(\"Mis\",\"Saliha\")"
   ]
  },
  {
   "cell_type": "markdown",
   "id": "dc3fb599",
   "metadata": {},
   "source": [
    "# Arbitaray Numbers"
   ]
  },
  {
   "cell_type": "markdown",
   "id": "a30d7231",
   "metadata": {},
   "source": []
  },
  {
   "cell_type": "code",
   "execution_count": 41,
   "id": "94316184-42bb-4c3c-a4bc-2c0d5941a480",
   "metadata": {},
   "outputs": [],
   "source": [
    "def pizzaorder(size,flavour,*toppings):          # we first define toppings with steric\n",
    "\n",
    "    print(f\"your order for pizza of{size},flavour{flavour},and toppings{toppings} is ready\")\n"
   ]
  },
  {
   "cell_type": "code",
   "execution_count": 42,
   "id": "a4057320-83d2-4804-b512-d6b01864eca6",
   "metadata": {},
   "outputs": [
    {
     "name": "stdout",
     "output_type": "stream",
     "text": [
      "your order for pizza of12,flavourchikentikka,and toppings('olives', 'fruits', 'tea') is ready\n"
     ]
    }
   ],
   "source": [
    "pizzaorder(12,\"chikentikka\",\"olives\",\"fruits\",\"tea\")"
   ]
  },
  {
   "cell_type": "markdown",
   "id": "75aea522",
   "metadata": {},
   "source": [
    " # Local And Global Varaiable"
   ]
  },
  {
   "cell_type": "markdown",
   "id": "daf1c676",
   "metadata": {},
   "source": [
    "# Local Varaible"
   ]
  },
  {
   "cell_type": "code",
   "execution_count": 40,
   "id": "6fda67c2-ba7c-4801-9543-d2c4382c0969",
   "metadata": {},
   "outputs": [],
   "source": [
    "def beHappy():\n",
    "    \n",
    "    name =\"Ifra\"\n",
    "\n",
    "    print(f\"{name} is very happy today\")\n"
   ]
  },
  {
   "cell_type": "code",
   "execution_count": 42,
   "id": "49213efa-ed6c-4d40-add3-8ff45868a83f",
   "metadata": {},
   "outputs": [
    {
     "name": "stdout",
     "output_type": "stream",
     "text": [
      "Ifra is very happy today\n"
     ]
    }
   ],
   "source": [
    "beHappy()"
   ]
  },
  {
   "cell_type": "markdown",
   "id": "6deb73ac",
   "metadata": {},
   "source": [
    "# Global Variable"
   ]
  },
  {
   "cell_type": "code",
   "execution_count": 30,
   "id": "adcffcf2-75fc-4b81-a60e-8c33bb890f9c",
   "metadata": {},
   "outputs": [],
   "source": [
    "another_name = \"Momin\"\n",
    "            \n",
    "def active():\n",
    "\n",
    "    print(f\"{another_name} is very active today\")\n"
   ]
  },
  {
   "cell_type": "code",
   "execution_count": 31,
   "id": "8955ba5f-d883-42b3-8a06-8270d3645779",
   "metadata": {},
   "outputs": [
    {
     "name": "stdout",
     "output_type": "stream",
     "text": [
      "Momin is very active today\n"
     ]
    }
   ],
   "source": [
    "active()"
   ]
  },
  {
   "cell_type": "code",
   "execution_count": 32,
   "id": "90d297c3-5d88-42ef-a637-05c1d9ca46d3",
   "metadata": {},
   "outputs": [
    {
     "data": {
      "text/plain": [
       "'Momin'"
      ]
     },
     "execution_count": 32,
     "metadata": {},
     "output_type": "execute_result"
    }
   ],
   "source": [
    "another_name   "
   ]
  },
  {
   "cell_type": "code",
   "execution_count": null,
   "id": "67f34009-359a-4378-89e7-70c4e5bf938b",
   "metadata": {},
   "outputs": [],
   "source": []
  }
 ],
 "metadata": {
  "kernelspec": {
   "display_name": "Python 3 (ipykernel)",
   "language": "python",
   "name": "python3"
  },
  "language_info": {
   "codemirror_mode": {
    "name": "ipython",
    "version": 3
   },
   "file_extension": ".py",
   "mimetype": "text/x-python",
   "name": "python",
   "nbconvert_exporter": "python",
   "pygments_lexer": "ipython3",
   "version": "3.11.7"
  }
 },
 "nbformat": 4,
 "nbformat_minor": 5
}
