{
 "cells": [
  {
   "cell_type": "code",
   "execution_count": null,
   "id": "3c49c4bc-ffbf-4131-8c42-04a02c369878",
   "metadata": {},
   "outputs": [],
   "source": [
    "CONDITIONAL STRUCTURE"
   ]
  },
  {
   "cell_type": "code",
   "execution_count": 7,
   "id": "fa4b3e95-2bca-41b5-80ac-9e304396da3f",
   "metadata": {},
   "outputs": [
    {
     "name": "stdin",
     "output_type": "stream",
     "text": [
      "Enter Your Last Name Atif\n",
      "Enter Age 24\n",
      "Enter Science or Arts Science\n"
     ]
    },
    {
     "name": "stdout",
     "output_type": "stream",
     "text": [
      "Hi Atif Welcome to Science\n"
     ]
    }
   ],
   "source": [
    "name = input(\"Enter Your Last Name\")\n",
    "age = int(input(\"Enter Age\"))\n",
    "course= input(\"Enter Science or Arts\")\n",
    "\n",
    "if(age<29 and course==\"Science\"):\n",
    "    print(f\"Hi {name} Welcome to {course}\")"
   ]
  },
  {
   "cell_type": "code",
   "execution_count": 10,
   "id": "a4d67c17-8116-4353-9e42-8bf791a2c397",
   "metadata": {},
   "outputs": [
    {
     "name": "stdin",
     "output_type": "stream",
     "text": [
      "Enter Your Last Name Atif\n",
      "Enter Age 29\n",
      "Enter Science or Arts Arts\n"
     ]
    },
    {
     "name": "stdout",
     "output_type": "stream",
     "text": [
      "SorryAtif You Belong to Arts Group\n"
     ]
    }
   ],
   "source": [
    "name = input(\"Enter Your Last Name\")\n",
    "age = int(input(\"Enter Age\"))\n",
    "course= input(\"Enter Science or Arts\")\n",
    "\n",
    "if(age<29 and course==\"Science\"):\n",
    "    print(f\"Hi {name} Welcome to {course}\")\n",
    "else:\n",
    "        print(f\" Sorry {name} You Belong to Arts Group\")"
   ]
  },
  {
   "cell_type": "code",
   "execution_count": 13,
   "id": "b95c1294-7718-4289-8aa7-601196fc5ab7",
   "metadata": {},
   "outputs": [
    {
     "name": "stdin",
     "output_type": "stream",
     "text": [
      "enter number 33\n"
     ]
    },
    {
     "name": "stdout",
     "output_type": "stream",
     "text": [
      "Number is Odd\n"
     ]
    }
   ],
   "source": [
    "num = int(input(\"enter number\"))\n",
    "if(num%2 == 0):\n",
    "    print(\"YOU enter Even Number\")\n",
    "else:\n",
    "    print(\"Number is Odd\")"
   ]
  },
  {
   "cell_type": "code",
   "execution_count": null,
   "id": "09631cd9-5264-4d4a-970c-3775158986d4",
   "metadata": {},
   "outputs": [],
   "source": [
    "# python if elif statement"
   ]
  },
  {
   "cell_type": "code",
   "execution_count": 16,
   "id": "61296046-0faa-49eb-8e27-846b1943856b",
   "metadata": {},
   "outputs": [
    {
     "name": "stdin",
     "output_type": "stream",
     "text": [
      "Enter age 22\n"
     ]
    },
    {
     "name": "stdout",
     "output_type": "stream",
     "text": [
      "Your Remaining age to apply for gov job is 8\n"
     ]
    }
   ],
   "source": [
    "age = int(input(\"Enter age\"))\n",
    "\n",
    "if (age==30):\n",
    "    print(\"You have last year to apply for giv job\")\n",
    "elif (age > 30):\n",
    "    print(\"Overage Sorry \")\n",
    "else:\n",
    "    print(f\"Your Remaining age to apply for gov job is {30-age}\")"
   ]
  },
  {
   "cell_type": "code",
   "execution_count": null,
   "id": "e71a5f41-f510-4e35-b191-5c9a46a1d403",
   "metadata": {},
   "outputs": [],
   "source": [
    "#For LOOP"
   ]
  },
  {
   "cell_type": "code",
   "execution_count": 18,
   "id": "085ae687-666f-4d0b-a2f1-fd14fcf7d441",
   "metadata": {},
   "outputs": [
    {
     "name": "stdin",
     "output_type": "stream",
     "text": [
      "enter shoe number 1\n"
     ]
    },
    {
     "name": "stdout",
     "output_type": "stream",
     "text": [
      "sorry out is stock\n",
      "sorry out is stock\n",
      "sorry out is stock\n",
      "sorry out is stock\n",
      "sorry out is stock\n",
      "sorry out is stock\n",
      "sorry out is stock\n",
      "sorry out is stock\n",
      "sorry out is stock\n"
     ]
    }
   ],
   "source": [
    "numbers = [6, 5, 3, 8, 4, 2, 5, 4, 11]\n",
    "rnum=int(input(\"enter shoe number\"))\n",
    "for number in numbers :\n",
    "    if rnum==number:\n",
    "        print(\"Shoes available\")\n",
    "    else:\n",
    "        print(\"sorry out is stock\")"
   ]
  },
  {
   "cell_type": "code",
   "execution_count": 21,
   "id": "df78483c-6079-4eb7-ac88-e1887eb05e56",
   "metadata": {},
   "outputs": [
    {
     "name": "stdin",
     "output_type": "stream",
     "text": [
      "enter shoe number 1\n"
     ]
    },
    {
     "name": "stdout",
     "output_type": "stream",
     "text": [
      "sorry out is stock\n"
     ]
    }
   ],
   "source": [
    "numbers = [6, 5, 3, 8, 4, 2, 5, 4, 11]\n",
    "rnum=int(input(\"enter shoe number\"))\n",
    "for number in numbers :\n",
    "    if rnum==number:\n",
    "        print(\"Shoes available\")\n",
    "else:\n",
    "        print(\"sorry out is stock\")"
   ]
  },
  {
   "cell_type": "code",
   "execution_count": 23,
   "id": "6e1719f1-ed31-48b5-b711-bedeb60b42b1",
   "metadata": {},
   "outputs": [
    {
     "name": "stdin",
     "output_type": "stream",
     "text": [
      "enter shoe number 22\n"
     ]
    }
   ],
   "source": [
    "numbers = [6, 5, 3, 8, 4, 2, 5, 4, 11]\n",
    "rnum=int(input(\"enter shoe number\"))\n",
    "for number in numbers :\n",
    "    if rnum==number:\n",
    "        print(\"Shoes available\")\n"
   ]
  },
  {
   "cell_type": "code",
   "execution_count": null,
   "id": "a4043203-bb50-45b7-bb17-5289fb5df81e",
   "metadata": {},
   "outputs": [],
   "source": [
    "#NUMBER SUM FROM USER"
   ]
  },
  {
   "cell_type": "code",
   "execution_count": 26,
   "id": "b3febe6f-f82a-46d1-adc2-3d1a2f03a435",
   "metadata": {},
   "outputs": [
    {
     "name": "stdin",
     "output_type": "stream",
     "text": [
      "enter number of values to be added 4\n",
      "enter 0 value  1\n",
      "enter 1 value  2\n",
      "enter 2 value  3\n",
      "enter 3 value  4\n"
     ]
    }
   ],
   "source": [
    "List=[]\n",
    "total_number= int(input(\"enter number of values to be added\"))\n",
    "for num in range(0,total_number):\n",
    "    value=int(input(f\"enter {num} value \"))"
   ]
  },
  {
   "cell_type": "code",
   "execution_count": 27,
   "id": "58e91f05-a596-49fd-b9fe-02b0169e4764",
   "metadata": {},
   "outputs": [
    {
     "name": "stdin",
     "output_type": "stream",
     "text": [
      "enter number of values to be added 5\n",
      "enter 1 value  3\n",
      "enter 2 value  4\n",
      "enter 3 value  7\n",
      "enter 4 value  9\n",
      "enter 5 value  3\n"
     ]
    },
    {
     "name": "stdout",
     "output_type": "stream",
     "text": [
      "[3, 4, 7, 9, 3]\n"
     ]
    }
   ],
   "source": [
    "list=[]\n",
    "total_number= int(input(\"enter number of values to be added\"))\n",
    "for num in range(1,total_number+1):\n",
    "    value=int(input(f\"enter {num} value \"))\n",
    "    list.append(value)\n",
    "print(list)"
   ]
  },
  {
   "cell_type": "code",
   "execution_count": 28,
   "id": "25fa1671-1a30-4ed6-90ec-b2033adaa835",
   "metadata": {},
   "outputs": [
    {
     "name": "stdin",
     "output_type": "stream",
     "text": [
      "enter number of values to be added 4\n",
      "enter 1 value  2\n",
      "enter 2 value  3\n",
      "enter 3 value  4\n",
      "enter 4 value  5\n"
     ]
    },
    {
     "name": "stdout",
     "output_type": "stream",
     "text": [
      "[2, 3, 4, 5]\n",
      "sum is 14\n"
     ]
    }
   ],
   "source": [
    "list=[]\n",
    "total_number= int(input(\"enter number of values to be added\"))\n",
    "for num in range(1,total_number+1):\n",
    "    value=int(input(f\"enter {num} value \"))\n",
    "    list.append(value)\n",
    "print(list)\n",
    "total=0\n",
    "\n",
    "for num in list:\n",
    "    total=total + num\n",
    "\n",
    "print(f\"Sum is {total}\")\n",
    "    "
   ]
  },
  {
   "cell_type": "code",
   "execution_count": null,
   "id": "eafbad70-20ba-4fc4-8518-9a22dd4257f2",
   "metadata": {},
   "outputs": [],
   "source": [
    "#Table creater"
   ]
  },
  {
   "cell_type": "code",
   "execution_count": 30,
   "id": "89e720c2-8850-4343-ab67-dae002c7296f",
   "metadata": {},
   "outputs": [
    {
     "name": "stdin",
     "output_type": "stream",
     "text": [
      "enter value 6\n"
     ]
    },
    {
     "name": "stdout",
     "output_type": "stream",
     "text": [
      "6 * 1 = 6\n",
      "6 * 2 = 12\n",
      "6 * 3 = 18\n",
      "6 * 4 = 24\n",
      "6 * 5 = 30\n",
      "6 * 6 = 36\n",
      "6 * 7 = 42\n",
      "6 * 8 = 48\n",
      "6 * 9 = 54\n",
      "6 * 10 = 60\n"
     ]
    }
   ],
   "source": [
    "table = int(input(\"enter value\"))\n",
    "\n",
    "for  num in range(1,11):\n",
    "    print(f\"{table} * {num} = {table*num}\")"
   ]
  },
  {
   "cell_type": "code",
   "execution_count": null,
   "id": "92c85aa1-2a9e-4f76-b7a5-f663f36a853b",
   "metadata": {},
   "outputs": [],
   "source": [
    "#NESTED LOOP IN PYTHON"
   ]
  },
  {
   "cell_type": "code",
   "execution_count": null,
   "id": "bc99aec3-7935-467a-a7eb-34b7f5c4a59c",
   "metadata": {},
   "outputs": [],
   "source": []
  }
 ],
 "metadata": {
  "kernelspec": {
   "display_name": "Python 3 (ipykernel)",
   "language": "python",
   "name": "python3"
  },
  "language_info": {
   "codemirror_mode": {
    "name": "ipython",
    "version": 3
   },
   "file_extension": ".py",
   "mimetype": "text/x-python",
   "name": "python",
   "nbconvert_exporter": "python",
   "pygments_lexer": "ipython3",
   "version": "3.12.4"
  }
 },
 "nbformat": 4,
 "nbformat_minor": 5
}
