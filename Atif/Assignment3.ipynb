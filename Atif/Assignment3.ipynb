{
 "cells": [
  {
   "cell_type": "code",
   "execution_count": null,
   "id": "ed57e70c-704e-48e6-8ded-a2bd49066156",
   "metadata": {},
   "outputs": [],
   "source": [
    "#CREATE FUNCTION Parameterized"
   ]
  },
  {
   "cell_type": "code",
   "execution_count": 4,
   "id": "f3de1a23-e25b-43fc-830d-fe4144944c83",
   "metadata": {},
   "outputs": [
    {
     "name": "stdout",
     "output_type": "stream",
     "text": [
      "9\n"
     ]
    }
   ],
   "source": [
    "def add(num1,num2):\n",
    "    print(num1+num2)\n",
    "\n",
    "add(4,5)"
   ]
  },
  {
   "cell_type": "code",
   "execution_count": 6,
   "id": "6778f11b-6277-4fb3-95e9-f4a6425c480b",
   "metadata": {},
   "outputs": [
    {
     "name": "stdin",
     "output_type": "stream",
     "text": [
      "enter 1st name Muhammad\n",
      "enter mid name Atif\n",
      "enter last name HAnif\n"
     ]
    },
    {
     "name": "stdout",
     "output_type": "stream",
     "text": [
      "Muhammad Atif HAnif\n"
     ]
    }
   ],
   "source": [
    "def Display(first,mid,last):\n",
    "    print(f\"{first} {mid} {last}\")\n",
    "\n",
    "first = input(\"enter 1st name\")\n",
    "mid = input(\"enter mid name\")\n",
    "last = input(\"enter last name\")\n",
    "\n",
    "Display(first,mid,last)"
   ]
  },
  {
   "cell_type": "code",
   "execution_count": null,
   "id": "d2bffa48-dfad-4145-a1d2-bee2da8ab342",
   "metadata": {},
   "outputs": [],
   "source": [
    "#DEALING WITH AN UNKNOWN NUMBER OR ARBITARARY NUMBER"
   ]
  },
  {
   "cell_type": "code",
   "execution_count": 9,
   "id": "52b47e38-62e4-49a7-95a5-2e52a693bd81",
   "metadata": {},
   "outputs": [
    {
     "name": "stdout",
     "output_type": "stream",
     "text": [
      "YOUR CAR MAKER HONDA MOdel 2017 Extra ('Alloy-RIM', 'Heated-Seats', 'Automatic') \n"
     ]
    }
   ],
   "source": [
    "def car(maker,model,*variation):\n",
    "    print(f\"YOUR CAR MAKER {maker} MOdel {model} Extra {variation} \")\n",
    "\n",
    "car(\"HONDA\",2017,\"Alloy-RIM\",\"Heated-Seats\",\"Automatic\")"
   ]
  },
  {
   "cell_type": "code",
   "execution_count": null,
   "id": "2cb11d8f-0057-4e1f-bb09-483832800753",
   "metadata": {},
   "outputs": [],
   "source": [
    "#LOCAL AND GLOBAL VARIABLES in function"
   ]
  },
  {
   "cell_type": "code",
   "execution_count": 10,
   "id": "592caf5b-ed27-4634-be91-400340bb9471",
   "metadata": {},
   "outputs": [
    {
     "name": "stdout",
     "output_type": "stream",
     "text": [
      "your total price for  5 installment are 210000.0\n"
     ]
    }
   ],
   "source": [
    "def interest(noOfYears,markup,price):\n",
    "    totalInterest=markup*price\n",
    "    \n",
    "    print(f\"your total price for  {noOfYears} installment are {totalInterest+price}\")\n",
    "interest(5,0.75,120000)\n",
    "    "
   ]
  },
  {
   "cell_type": "code",
   "execution_count": null,
   "id": "25711a13-77e7-4c4f-abe3-bc768b8906c9",
   "metadata": {},
   "outputs": [],
   "source": []
  }
 ],
 "metadata": {
  "kernelspec": {
   "display_name": "Python 3 (ipykernel)",
   "language": "python",
   "name": "python3"
  },
  "language_info": {
   "codemirror_mode": {
    "name": "ipython",
    "version": 3
   },
   "file_extension": ".py",
   "mimetype": "text/x-python",
   "name": "python",
   "nbconvert_exporter": "python",
   "pygments_lexer": "ipython3",
   "version": "3.12.4"
  }
 },
 "nbformat": 4,
 "nbformat_minor": 5
}
