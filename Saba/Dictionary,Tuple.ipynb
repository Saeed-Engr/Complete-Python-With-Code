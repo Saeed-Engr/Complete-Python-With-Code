{
 "cells": [
  {
   "cell_type": "code",
   "execution_count": 28,
   "id": "0d91c9c9",
   "metadata": {},
   "outputs": [
    {
     "name": "stdout",
     "output_type": "stream",
     "text": [
      "{'name': 'zain', 'roll': 36, 'uni': 'UMT', 'campus': 'Lahore', 'semester': 5, 'department': 'IT', 'section': '2M'}\n"
     ]
    }
   ],
   "source": [
    "dict={\"name\":\"zain\",\"roll\":36,\"uni\":\"UMT\",\"campus\":\"Lahore\",\"semester\":5,\"department\":\"IT\",\"section\":\"2M\"}\n",
    "print(dict)"
   ]
  },
  {
   "cell_type": "code",
   "execution_count": 29,
   "id": "672c2e47",
   "metadata": {},
   "outputs": [
    {
     "data": {
      "text/plain": [
       "{'name': 'zain',\n",
       " 'roll': 36,\n",
       " 'uni': 'UMT',\n",
       " 'campus': 'Lahore',\n",
       " 'semester': 5,\n",
       " 'department': 'IT',\n",
       " 'section': '2M'}"
      ]
     },
     "execution_count": 29,
     "metadata": {},
     "output_type": "execute_result"
    }
   ],
   "source": [
    "dict={\"name\":\"zain\",\"roll\":36,\"uni\":\"UMT\",\"campus\":\"Lahore\",\"semester\":5,\"department\":\"IT\",\"section\":\"2M\"}\n",
    "(dict)"
   ]
  },
  {
   "cell_type": "markdown",
   "id": "488a0980",
   "metadata": {},
   "source": [
    "# adding data in dictionary"
   ]
  },
  {
   "cell_type": "code",
   "execution_count": null,
   "id": "c033e3ff",
   "metadata": {},
   "outputs": [],
   "source": [
    "#var[\"key\"]=\"value\""
   ]
  },
  {
   "cell_type": "code",
   "execution_count": 15,
   "id": "80d99511",
   "metadata": {},
   "outputs": [
    {
     "name": "stdout",
     "output_type": "stream",
     "text": [
      "{'name': 'zain', 'roll': 36, 'uni': 'UMT', 'campus': 'Lahore', 'semester': 5, 'department': 'IT', 'section': '2M', 'address': 'DHA'}\n"
     ]
    }
   ],
   "source": [
    "dict[\"address\"]=\"DHA\"\n",
    "print(dict)"
   ]
  },
  {
   "cell_type": "markdown",
   "id": "e0baa5d6",
   "metadata": {},
   "source": [
    "# updating data in dict"
   ]
  },
  {
   "cell_type": "code",
   "execution_count": 19,
   "id": "686971cb",
   "metadata": {},
   "outputs": [
    {
     "name": "stdout",
     "output_type": "stream",
     "text": [
      "{'name': 'zain', 'roll': 36, 'uni': 'Fast', 'campus': 'Lahore', 'semester': 5, 'department': 'IT', 'section': '2M', 'address': 'DHA'}\n"
     ]
    }
   ],
   "source": [
    "{'name': 'zain', 'roll': 36, 'uni': 'UMT', 'campus': 'Lahore', 'semester': 5, 'department': 'IT', 'section': '2M', 'address': 'DHA'}\n",
    "print(dict)"
   ]
  },
  {
   "cell_type": "code",
   "execution_count": 20,
   "id": "f32e66f0",
   "metadata": {},
   "outputs": [],
   "source": [
    "dict[\"uni\"]=\"fast\""
   ]
  },
  {
   "cell_type": "markdown",
   "id": "6d03f6de",
   "metadata": {},
   "source": [
    "# accessing value from dict "
   ]
  },
  {
   "cell_type": "code",
   "execution_count": 16,
   "id": "ad747131",
   "metadata": {},
   "outputs": [
    {
     "data": {
      "text/plain": [
       "'Lahore'"
      ]
     },
     "execution_count": 16,
     "metadata": {},
     "output_type": "execute_result"
    }
   ],
   "source": [
    "dict[\"campus\"]"
   ]
  },
  {
   "cell_type": "markdown",
   "id": "c8d57062",
   "metadata": {},
   "source": [
    "# del data from dict"
   ]
  },
  {
   "cell_type": "code",
   "execution_count": 22,
   "id": "7ab0ee61",
   "metadata": {},
   "outputs": [
    {
     "name": "stdout",
     "output_type": "stream",
     "text": [
      "{'name': 'zain', 'roll': 36, 'uni': 'fast', 'campus': 'Lahore', 'department': 'IT', 'section': '2M', 'address': 'DHA'}\n"
     ]
    }
   ],
   "source": [
    "print(dict)"
   ]
  },
  {
   "cell_type": "code",
   "execution_count": 21,
   "id": "5ca9fc80",
   "metadata": {},
   "outputs": [],
   "source": [
    "del dict[\"semester\"]"
   ]
  },
  {
   "cell_type": "markdown",
   "id": "103142cd",
   "metadata": {},
   "source": [
    "# length"
   ]
  },
  {
   "cell_type": "code",
   "execution_count": 23,
   "id": "65b1d4a5",
   "metadata": {},
   "outputs": [
    {
     "data": {
      "text/plain": [
       "7"
      ]
     },
     "execution_count": 23,
     "metadata": {},
     "output_type": "execute_result"
    }
   ],
   "source": [
    "len(dict)"
   ]
  },
  {
   "cell_type": "markdown",
   "id": "5892cf44",
   "metadata": {},
   "source": [
    "# required data is present or not"
   ]
  },
  {
   "cell_type": "code",
   "execution_count": 24,
   "id": "1db473ec",
   "metadata": {},
   "outputs": [
    {
     "data": {
      "text/plain": [
       "{'name': 'zain',\n",
       " 'roll': 36,\n",
       " 'uni': 'fast',\n",
       " 'campus': 'Lahore',\n",
       " 'department': 'IT',\n",
       " 'section': '2M',\n",
       " 'address': 'DHA'}"
      ]
     },
     "execution_count": 24,
     "metadata": {},
     "output_type": "execute_result"
    }
   ],
   "source": [
    "dict"
   ]
  },
  {
   "cell_type": "code",
   "execution_count": 25,
   "id": "1f21ade8",
   "metadata": {},
   "outputs": [
    {
     "data": {
      "text/plain": [
       "True"
      ]
     },
     "execution_count": 25,
     "metadata": {},
     "output_type": "execute_result"
    }
   ],
   "source": [
    "\"department\" in dict "
   ]
  },
  {
   "cell_type": "code",
   "execution_count": 26,
   "id": "c7c9e902",
   "metadata": {},
   "outputs": [
    {
     "data": {
      "text/plain": [
       "False"
      ]
     },
     "execution_count": 26,
     "metadata": {},
     "output_type": "execute_result"
    }
   ],
   "source": [
    "\"sub-campus\" in dict "
   ]
  },
  {
   "cell_type": "markdown",
   "id": "b5e6d6b6",
   "metadata": {},
   "source": [
    "# tuple"
   ]
  },
  {
   "cell_type": "code",
   "execution_count": 4,
   "id": "44f561fc",
   "metadata": {},
   "outputs": [],
   "source": [
    "tup=1,2,3"
   ]
  },
  {
   "cell_type": "code",
   "execution_count": 5,
   "id": "2afcff24",
   "metadata": {},
   "outputs": [
    {
     "data": {
      "text/plain": [
       "(1, 2, 3)"
      ]
     },
     "execution_count": 5,
     "metadata": {},
     "output_type": "execute_result"
    }
   ],
   "source": [
    "tup"
   ]
  },
  {
   "cell_type": "markdown",
   "id": "a8858fad",
   "metadata": {},
   "source": [
    "# nested tuple "
   ]
  },
  {
   "cell_type": "code",
   "execution_count": 6,
   "id": "fb86593d",
   "metadata": {},
   "outputs": [
    {
     "name": "stdout",
     "output_type": "stream",
     "text": [
      "((12, 2, 3, 4, 5), (3, 4, 5, 6, 90))\n"
     ]
    }
   ],
   "source": [
    "tup=(12,2,3,4,5),(3,4,5,6,90)\n",
    "print(tup)"
   ]
  },
  {
   "cell_type": "markdown",
   "id": "cf560108",
   "metadata": {},
   "source": [
    "# changing list into tuple"
   ]
  },
  {
   "cell_type": "code",
   "execution_count": 12,
   "id": "28077f2e",
   "metadata": {},
   "outputs": [
    {
     "data": {
      "text/plain": [
       "(1, 2, 3, 45, 67)"
      ]
     },
     "execution_count": 12,
     "metadata": {},
     "output_type": "execute_result"
    }
   ],
   "source": [
    "b=tuple([1,2,3,45,67])\n",
    "b"
   ]
  },
  {
   "cell_type": "code",
   "execution_count": 13,
   "id": "132ccb40",
   "metadata": {},
   "outputs": [
    {
     "data": {
      "text/plain": [
       "(1, 2, 3, 45, 67)"
      ]
     },
     "execution_count": 13,
     "metadata": {},
     "output_type": "execute_result"
    }
   ],
   "source": [
    "tuple([1,2,3,45,67])"
   ]
  },
  {
   "cell_type": "markdown",
   "id": "fea0dba4",
   "metadata": {},
   "source": [
    "# changing string into tuple"
   ]
  },
  {
   "cell_type": "code",
   "execution_count": 11,
   "id": "f50bd927",
   "metadata": {},
   "outputs": [
    {
     "data": {
      "text/plain": [
       "('a', 'p', 'p', 'l', 'e')"
      ]
     },
     "execution_count": 11,
     "metadata": {},
     "output_type": "execute_result"
    }
   ],
   "source": [
    "a=tuple(\"apple\")\n",
    "a"
   ]
  },
  {
   "cell_type": "code",
   "execution_count": 14,
   "id": "911d19cf",
   "metadata": {},
   "outputs": [
    {
     "data": {
      "text/plain": [
       "('a', 'p', 'p', 'l', 'e')"
      ]
     },
     "execution_count": 14,
     "metadata": {},
     "output_type": "execute_result"
    }
   ],
   "source": [
    "tuple(\"apple\")"
   ]
  },
  {
   "cell_type": "markdown",
   "id": "275a1b09",
   "metadata": {},
   "source": [
    "# cancatenation of different tuples"
   ]
  },
  {
   "cell_type": "code",
   "execution_count": 28,
   "id": "5e46c5b2",
   "metadata": {},
   "outputs": [
    {
     "data": {
      "text/plain": [
       "(1, 4, 7, 1, 6, 'cherry')"
      ]
     },
     "execution_count": 28,
     "metadata": {},
     "output_type": "execute_result"
    }
   ],
   "source": [
    "v=(1,4,7)+(1,6,\"cherry\")\n",
    "v"
   ]
  },
  {
   "cell_type": "markdown",
   "id": "19db18a8",
   "metadata": {},
   "source": [
    "# multiplication of tuple"
   ]
  },
  {
   "cell_type": "code",
   "execution_count": 32,
   "id": "2b16ab80",
   "metadata": {},
   "outputs": [
    {
     "name": "stdout",
     "output_type": "stream",
     "text": [
      "('m', 'nm', 'm', 'nm')\n"
     ]
    }
   ],
   "source": [
    "mul=(\"m\",\"nm\")*2\n",
    "print(mul)"
   ]
  },
  {
   "cell_type": "code",
   "execution_count": 33,
   "id": "c71442aa",
   "metadata": {},
   "outputs": [
    {
     "name": "stdout",
     "output_type": "stream",
     "text": [
      "(3, 7, 3, 7, 3, 7, 3, 7, 3, 7, 3, 7, 3, 7)\n"
     ]
    }
   ],
   "source": [
    "mul=(3,7)*7\n",
    "print(mul)"
   ]
  },
  {
   "cell_type": "markdown",
   "id": "280da7ee",
   "metadata": {},
   "source": [
    "# swapping data "
   ]
  },
  {
   "cell_type": "code",
   "execution_count": 36,
   "id": "f1151c3f",
   "metadata": {},
   "outputs": [
    {
     "data": {
      "text/plain": [
       "7"
      ]
     },
     "execution_count": 36,
     "metadata": {},
     "output_type": "execute_result"
    }
   ],
   "source": [
    "w,m=7,2\n",
    "w"
   ]
  },
  {
   "cell_type": "code",
   "execution_count": 37,
   "id": "6afeafcc",
   "metadata": {},
   "outputs": [
    {
     "data": {
      "text/plain": [
       "2"
      ]
     },
     "execution_count": 37,
     "metadata": {},
     "output_type": "execute_result"
    }
   ],
   "source": [
    "m"
   ]
  },
  {
   "cell_type": "code",
   "execution_count": 43,
   "id": "7c00c187",
   "metadata": {},
   "outputs": [
    {
     "data": {
      "text/plain": [
       "10"
      ]
     },
     "execution_count": 43,
     "metadata": {},
     "output_type": "execute_result"
    }
   ],
   "source": [
    "m,w=10,9\n",
    "m"
   ]
  },
  {
   "cell_type": "code",
   "execution_count": 44,
   "id": "d6adf94f",
   "metadata": {},
   "outputs": [
    {
     "data": {
      "text/plain": [
       "9"
      ]
     },
     "execution_count": 44,
     "metadata": {},
     "output_type": "execute_result"
    }
   ],
   "source": [
    "w"
   ]
  },
  {
   "cell_type": "code",
   "execution_count": 45,
   "id": "2d2aa6d5",
   "metadata": {},
   "outputs": [
    {
     "data": {
      "text/plain": [
       "10"
      ]
     },
     "execution_count": 45,
     "metadata": {},
     "output_type": "execute_result"
    }
   ],
   "source": [
    "w,m=m,w\n",
    "w"
   ]
  },
  {
   "cell_type": "code",
   "execution_count": 46,
   "id": "95a60530",
   "metadata": {},
   "outputs": [
    {
     "data": {
      "text/plain": [
       "9"
      ]
     },
     "execution_count": 46,
     "metadata": {},
     "output_type": "execute_result"
    }
   ],
   "source": [
    "m"
   ]
  },
  {
   "cell_type": "code",
   "execution_count": 47,
   "id": "a7f09b3f",
   "metadata": {},
   "outputs": [
    {
     "data": {
      "text/plain": [
       "14"
      ]
     },
     "execution_count": 47,
     "metadata": {},
     "output_type": "execute_result"
    }
   ],
   "source": [
    "a_b=((2*3)*2)+2\n",
    "a_b"
   ]
  }
 ],
 "metadata": {
  "kernelspec": {
   "display_name": "Python 3 (ipykernel)",
   "language": "python",
   "name": "python3"
  },
  "language_info": {
   "codemirror_mode": {
    "name": "ipython",
    "version": 3
   },
   "file_extension": ".py",
   "mimetype": "text/x-python",
   "name": "python",
   "nbconvert_exporter": "python",
   "pygments_lexer": "ipython3",
   "version": "3.11.5"
  }
 },
 "nbformat": 4,
 "nbformat_minor": 5
}
