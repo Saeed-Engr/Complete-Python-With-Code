{
 "cells": [
  {
   "cell_type": "markdown",
   "id": "e6809fa9",
   "metadata": {},
   "source": [
    "# input()"
   ]
  },
  {
   "cell_type": "code",
   "execution_count": 52,
   "id": "d70ae72b",
   "metadata": {},
   "outputs": [
    {
     "name": "stdout",
     "output_type": "stream",
     "text": [
      "user valuecherry\n",
      "cherry\n"
     ]
    }
   ],
   "source": [
    "a=input(\"user value\")\n",
    "print(a)"
   ]
  },
  {
   "cell_type": "markdown",
   "id": "9dc8e021",
   "metadata": {},
   "source": [
    "# add no()                     # 1st method"
   ]
  },
  {
   "cell_type": "code",
   "execution_count": 31,
   "id": "a69b9558",
   "metadata": {},
   "outputs": [],
   "source": [
    "def add_no():\n",
    "    no1=int(input(\"enter ur 1st no\"))\n",
    "    no2=int(input(\"enter ur 2nd no\"))\n",
    "    print(no1+no2)"
   ]
  },
  {
   "cell_type": "code",
   "execution_count": 32,
   "id": "3855cf60",
   "metadata": {},
   "outputs": [
    {
     "name": "stdout",
     "output_type": "stream",
     "text": [
      "enter ur 1st no1000\n",
      "enter ur 2nd no2000\n",
      "3000\n"
     ]
    }
   ],
   "source": [
    "add_no()"
   ]
  },
  {
   "cell_type": "markdown",
   "id": "bb6f4ce5",
   "metadata": {},
   "source": [
    "#    2nd method "
   ]
  },
  {
   "cell_type": "code",
   "execution_count": null,
   "id": "5685f5df",
   "metadata": {},
   "outputs": [],
   "source": [
    "def add_no():\n",
    "    no1=int(input(\"enter ur 1st no\"))\n",
    "    no2=int(input(\"enter ur 2nd no\"))\n",
    "    no3=no1+no2\n",
    "    print(no3)"
   ]
  },
  {
   "cell_type": "code",
   "execution_count": 51,
   "id": "60cdefff",
   "metadata": {},
   "outputs": [
    {
     "name": "stdout",
     "output_type": "stream",
     "text": [
      "enter ur 1st no1000\n",
      "enter ur 2nd no2000\n",
      "3000\n"
     ]
    }
   ],
   "source": [
    "add_no()"
   ]
  },
  {
   "cell_type": "markdown",
   "id": "077404ff",
   "metadata": {},
   "source": [
    "#                   3rd method "
   ]
  },
  {
   "cell_type": "code",
   "execution_count": 33,
   "id": "98bb43ba",
   "metadata": {},
   "outputs": [],
   "source": [
    "def add_number():\n",
    "    print(1000+2000)"
   ]
  },
  {
   "cell_type": "code",
   "execution_count": 34,
   "id": "3691693c",
   "metadata": {},
   "outputs": [
    {
     "name": "stdout",
     "output_type": "stream",
     "text": [
      "3000\n"
     ]
    }
   ],
   "source": [
    "add_number()"
   ]
  },
  {
   "cell_type": "markdown",
   "id": "9966f169",
   "metadata": {},
   "source": [
    "#  subtract ()                   1st method "
   ]
  },
  {
   "cell_type": "code",
   "execution_count": 12,
   "id": "72bcf095",
   "metadata": {},
   "outputs": [],
   "source": [
    "def sub_number():\n",
    "    no4=int(input(\"enter ur 1st no\"))\n",
    "    no5=int(input(\"enter ur 2nd no\"))\n",
    "    print(no4-no5)"
   ]
  },
  {
   "cell_type": "code",
   "execution_count": 13,
   "id": "50b56f2e",
   "metadata": {},
   "outputs": [
    {
     "name": "stdout",
     "output_type": "stream",
     "text": [
      "enter ur 1st no3000\n",
      "enter ur 2nd no5000\n",
      "-2000\n"
     ]
    }
   ],
   "source": [
    "sub_number()"
   ]
  },
  {
   "cell_type": "code",
   "execution_count": null,
   "id": "cfbbac43",
   "metadata": {},
   "outputs": [],
   "source": []
  },
  {
   "cell_type": "markdown",
   "id": "27b2dd10",
   "metadata": {},
   "source": [
    "#                           2nd method "
   ]
  },
  {
   "cell_type": "code",
   "execution_count": 14,
   "id": "be94f9c2",
   "metadata": {},
   "outputs": [],
   "source": [
    "def sub_number():\n",
    "    no1=int(input(\"enter ur 1st no\"))\n",
    "    no2=int(input(\"enter ur 2nd no\"))\n",
    "    no3=no1-no2\n",
    "    print(no3)"
   ]
  },
  {
   "cell_type": "code",
   "execution_count": 15,
   "id": "797026a8",
   "metadata": {},
   "outputs": [
    {
     "name": "stdout",
     "output_type": "stream",
     "text": [
      "enter ur 1st no6000\n",
      "enter ur 2nd no2000\n",
      "4000\n"
     ]
    }
   ],
   "source": [
    "sub_number()"
   ]
  },
  {
   "cell_type": "markdown",
   "id": "92c09e66",
   "metadata": {},
   "source": [
    "# 3rd method"
   ]
  },
  {
   "cell_type": "code",
   "execution_count": 1,
   "id": "b10c2ef1",
   "metadata": {},
   "outputs": [],
   "source": [
    "def sub_number():\n",
    "    print(1000-2000)"
   ]
  },
  {
   "cell_type": "code",
   "execution_count": 2,
   "id": "9c0db623",
   "metadata": {},
   "outputs": [
    {
     "name": "stdout",
     "output_type": "stream",
     "text": [
      "-1000\n"
     ]
    }
   ],
   "source": [
    "sub_number()"
   ]
  },
  {
   "cell_type": "markdown",
   "id": "559de0e4",
   "metadata": {},
   "source": [
    "# multiple                    1st method"
   ]
  },
  {
   "cell_type": "code",
   "execution_count": 29,
   "id": "26d6a762",
   "metadata": {},
   "outputs": [],
   "source": [
    "def multiple():\n",
    "    no14=float(input(\"enter ur 1st no\"))\n",
    "    no15=int(input(\"enter ur 2nd no\"))\n",
    "    print(no14*no15)"
   ]
  },
  {
   "cell_type": "code",
   "execution_count": 30,
   "id": "2b17a6b7",
   "metadata": {},
   "outputs": [
    {
     "name": "stdout",
     "output_type": "stream",
     "text": [
      "enter ur 1st no1.2\n",
      "enter ur 2nd no3\n",
      "3.5999999999999996\n"
     ]
    }
   ],
   "source": [
    "multiple()"
   ]
  },
  {
   "cell_type": "markdown",
   "id": "56d85e22",
   "metadata": {},
   "source": [
    "# 2nd method"
   ]
  },
  {
   "cell_type": "code",
   "execution_count": 31,
   "id": "7195ff91",
   "metadata": {},
   "outputs": [],
   "source": [
    "def multiple():\n",
    "    no10=int(input(\"enter ur 1st no\"))\n",
    "    no11=int(input(\"enter ur 2nd no\"))\n",
    "    no12=no10*no11\n",
    "    print(no12)"
   ]
  },
  {
   "cell_type": "code",
   "execution_count": 32,
   "id": "50e4d65e",
   "metadata": {},
   "outputs": [
    {
     "name": "stdout",
     "output_type": "stream",
     "text": [
      "enter ur 1st no2\n",
      "enter ur 2nd no3\n",
      "6\n"
     ]
    }
   ],
   "source": [
    "multiple()"
   ]
  },
  {
   "cell_type": "markdown",
   "id": "fd68617f",
   "metadata": {},
   "source": [
    "#   3rd method "
   ]
  },
  {
   "cell_type": "code",
   "execution_count": 33,
   "id": "624166cd",
   "metadata": {},
   "outputs": [],
   "source": [
    "def multiple():\n",
    "    print(2*3)"
   ]
  },
  {
   "cell_type": "code",
   "execution_count": 34,
   "id": "4934db3f",
   "metadata": {},
   "outputs": [
    {
     "name": "stdout",
     "output_type": "stream",
     "text": [
      "6\n"
     ]
    }
   ],
   "source": [
    "multiple()"
   ]
  },
  {
   "cell_type": "markdown",
   "id": "6abc779d",
   "metadata": {},
   "source": [
    "# division      (result in integer  for double slash  //)"
   ]
  },
  {
   "cell_type": "code",
   "execution_count": 41,
   "id": "38a87ab5",
   "metadata": {},
   "outputs": [],
   "source": [
    "def div():\n",
    "    a=6\n",
    "    b=3\n",
    "    c=a//b\n",
    "    print(c)"
   ]
  },
  {
   "cell_type": "code",
   "execution_count": 42,
   "id": "e2b0e970",
   "metadata": {},
   "outputs": [
    {
     "name": "stdout",
     "output_type": "stream",
     "text": [
      "2\n"
     ]
    }
   ],
   "source": [
    "div()"
   ]
  },
  {
   "cell_type": "markdown",
   "id": "9216c92e",
   "metadata": {},
   "source": [
    "# result in float for  single slash /"
   ]
  },
  {
   "cell_type": "code",
   "execution_count": 45,
   "id": "a2643ac3",
   "metadata": {},
   "outputs": [],
   "source": [
    "def div():\n",
    "    a=9\n",
    "    b=3\n",
    "    c=a/b\n",
    "    print(c)"
   ]
  },
  {
   "cell_type": "code",
   "execution_count": 46,
   "id": "b186833c",
   "metadata": {},
   "outputs": [
    {
     "name": "stdout",
     "output_type": "stream",
     "text": [
      "3.0\n"
     ]
    }
   ],
   "source": [
    "div()"
   ]
  },
  {
   "cell_type": "markdown",
   "id": "c3f2b210",
   "metadata": {},
   "source": [
    "# remainder                    "
   ]
  },
  {
   "cell_type": "code",
   "execution_count": null,
   "id": "42c43951",
   "metadata": {},
   "outputs": [],
   "source": [
    "def remainder():\n",
    "    val1=int(\"enter ur value 1 \")\n",
    "    val2=int(\"enter ur value 2\")"
   ]
  },
  {
   "cell_type": "code",
   "execution_count": null,
   "id": "5514f333",
   "metadata": {},
   "outputs": [],
   "source": [
    "def remainder():"
   ]
  },
  {
   "cell_type": "markdown",
   "id": "b2d7bb6d",
   "metadata": {},
   "source": [
    "# types of function     1-parameterized function         2-  parameterized less function "
   ]
  },
  {
   "cell_type": "code",
   "execution_count": null,
   "id": "903d0233",
   "metadata": {},
   "outputs": [],
   "source": [
    "# parameterized less function "
   ]
  },
  {
   "cell_type": "code",
   "execution_count": null,
   "id": "75a98923",
   "metadata": {},
   "outputs": [],
   "source": [
    "def div():"
   ]
  },
  {
   "cell_type": "code",
   "execution_count": null,
   "id": "d0cd9a65",
   "metadata": {},
   "outputs": [],
   "source": [
    " # parameterized function, \n",
    "    types: postional and keyword argument\n",
    "    1- positional arguments ------> in this we can give arguments as many as we want and we can't change the place of arguments"
   ]
  },
  {
   "cell_type": "code",
   "execution_count": 1,
   "id": "98224a81",
   "metadata": {},
   "outputs": [],
   "source": [
    "def add_number(no20,no21):\n",
    "    print(no20+no21)"
   ]
  },
  {
   "cell_type": "code",
   "execution_count": 2,
   "id": "f2b8d3f0",
   "metadata": {},
   "outputs": [
    {
     "name": "stdout",
     "output_type": "stream",
     "text": [
      "40\n"
     ]
    }
   ],
   "source": [
    "add_number(10,30)"
   ]
  },
  {
   "cell_type": "code",
   "execution_count": null,
   "id": "e0b435e5",
   "metadata": {},
   "outputs": [],
   "source": [
    " # 2-keyword arguments ------->   in this we can change the place of the arguments "
   ]
  },
  {
   "cell_type": "code",
   "execution_count": 7,
   "id": "d1c4f85b",
   "metadata": {},
   "outputs": [],
   "source": [
    "def add_number(no20,no21):\n",
    "   print(no21+no20)"
   ]
  },
  {
   "cell_type": "code",
   "execution_count": 8,
   "id": "891dcae9",
   "metadata": {},
   "outputs": [
    {
     "name": "stdout",
     "output_type": "stream",
     "text": [
      "40\n"
     ]
    }
   ],
   "source": [
    "add_number(30,10)"
   ]
  },
  {
   "cell_type": "markdown",
   "id": "3be93535",
   "metadata": {},
   "source": [
    "# arbitrary or unknown data"
   ]
  },
  {
   "cell_type": "code",
   "execution_count": 26,
   "id": "623c89ed",
   "metadata": {},
   "outputs": [],
   "source": [
    "def pizzaorder(size,flavour,*toppings):\n",
    "\n",
    "    print(f\"your order for pizza of size{size},flavour{flavour},and toppings {toppings} is ready\")"
   ]
  },
  {
   "cell_type": "code",
   "execution_count": 27,
   "id": "f990d1f6",
   "metadata": {},
   "outputs": [
    {
     "name": "stdout",
     "output_type": "stream",
     "text": [
      "your order for pizza of size12,flavourchikentikka,and toppings ('olives', 'fruits', 'tea') is ready\n"
     ]
    }
   ],
   "source": [
    "pizzaorder(12,\"chikentikka\",\"olives\",\"fruits\",\"tea\")"
   ]
  },
  {
   "cell_type": "markdown",
   "id": "e048294f",
   "metadata": {},
   "source": [
    "# local variable"
   ]
  },
  {
   "cell_type": "code",
   "execution_count": 24,
   "id": "a4362807",
   "metadata": {},
   "outputs": [],
   "source": [
    "def be_active():\n",
    "    name =\"Aimen\"\n",
    "    print( f\"{name} is active today\")"
   ]
  },
  {
   "cell_type": "code",
   "execution_count": 25,
   "id": "54afebe5",
   "metadata": {},
   "outputs": [
    {
     "name": "stdout",
     "output_type": "stream",
     "text": [
      "Aimen is active today\n"
     ]
    }
   ],
   "source": [
    "be_active()"
   ]
  },
  {
   "cell_type": "markdown",
   "id": "562dfe47",
   "metadata": {},
   "source": [
    "# global variable"
   ]
  },
  {
   "cell_type": "code",
   "execution_count": 29,
   "id": "9a16045b",
   "metadata": {},
   "outputs": [],
   "source": [
    "name1=\"Saif\"\n",
    "def be_sad():\n",
    "        print(f\"{name1} is very sad\")"
   ]
  },
  {
   "cell_type": "code",
   "execution_count": 30,
   "id": "d616125b",
   "metadata": {},
   "outputs": [
    {
     "name": "stdout",
     "output_type": "stream",
     "text": [
      "Saif is very sad\n"
     ]
    }
   ],
   "source": [
    "be_sad()"
   ]
  }
 ],
 "metadata": {
  "kernelspec": {
   "display_name": "Python 3 (ipykernel)",
   "language": "python",
   "name": "python3"
  },
  "language_info": {
   "codemirror_mode": {
    "name": "ipython",
    "version": 3
   },
   "file_extension": ".py",
   "mimetype": "text/x-python",
   "name": "python",
   "nbconvert_exporter": "python",
   "pygments_lexer": "ipython3",
   "version": "3.11.5"
  }
 },
 "nbformat": 4,
 "nbformat_minor": 5
}
