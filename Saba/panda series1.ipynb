{
 "cells": [
  {
   "cell_type": "code",
   "execution_count": 2,
   "metadata": {},
   "outputs": [
    {
     "name": "stdout",
     "output_type": "stream",
     "text": [
      "0    10\n",
      "1    23\n",
      "2     4\n",
      "3     5\n",
      "4     6\n",
      "5     7\n",
      "6     8\n",
      "dtype: int64\n"
     ]
    }
   ],
   "source": [
    "import pandas as pd\n",
    "zain=pd.Series([10,23,4,5,6,7,8])\n",
    "print(zain)\n"
   ]
  },
  {
   "cell_type": "code",
   "execution_count": 3,
   "metadata": {},
   "outputs": [
    {
     "name": "stdout",
     "output_type": "stream",
     "text": [
      "[10 23  4  5  6  7  8]\n"
     ]
    }
   ],
   "source": [
    "print(zain.values)"
   ]
  },
  {
   "cell_type": "code",
   "execution_count": 4,
   "metadata": {},
   "outputs": [
    {
     "name": "stdout",
     "output_type": "stream",
     "text": [
      "RangeIndex(start=0, stop=7, step=1)\n"
     ]
    }
   ],
   "source": [
    "print(zain.index)"
   ]
  },
  {
   "cell_type": "code",
   "execution_count": 14,
   "metadata": {},
   "outputs": [
    {
     "name": "stdout",
     "output_type": "stream",
     "text": [
      "a      2\n",
      "b      4\n",
      "f     66\n",
      "g    890\n",
      "e    323\n",
      "l     56\n",
      "t      8\n",
      "dtype: int64\n"
     ]
    }
   ],
   "source": [
    "import pandas as df\n",
    "aimen=pd.Series([2,4,66,890,323,56,8],index=[\"a\",\"b\",\"f\",\"g\",\"e\",\"l\",\"t\"])\n",
    "print(aimen)"
   ]
  },
  {
   "cell_type": "markdown",
   "metadata": {},
   "source": [
    "consider that u have make series of books read by the readers in 5 days "
   ]
  },
  {
   "cell_type": "code",
   "execution_count": 25,
   "metadata": {},
   "outputs": [
    {
     "name": "stdout",
     "output_type": "stream",
     "text": [
      "days    books\n",
      "day1       23\n",
      "day2       67\n",
      "day3       12\n",
      "day4       32\n",
      "day5       51\n",
      "dtype: object\n"
     ]
    }
   ],
   "source": [
    "\n",
    "books=pd.Series([\"books\",23,67,12,32,51],index=[\"days\",\"day1\",\"day2\",\"day3\",\"day4\",\"day5\"])\n",
    "print(books)"
   ]
  },
  {
   "cell_type": "code",
   "execution_count": 34,
   "metadata": {},
   "outputs": [
    {
     "name": "stdout",
     "output_type": "stream",
     "text": [
      "51\n"
     ]
    }
   ],
   "source": [
    "print(books[-1])"
   ]
  },
  {
   "cell_type": "code",
   "execution_count": 70,
   "metadata": {},
   "outputs": [
    {
     "name": "stdout",
     "output_type": "stream",
     "text": [
      "day1    23\n",
      "day2    67\n",
      "day3    12\n",
      "day4    32\n",
      "day5    51\n",
      "dtype: int64\n"
     ]
    }
   ],
   "source": [
    "\n",
    "books=pd.Series([23,67,12,32,51],index=[\"day1\",\"day2\",\"day3\",\"day4\",\"day5\"])\n",
    "print(books)"
   ]
  },
  {
   "cell_type": "code",
   "execution_count": 37,
   "metadata": {},
   "outputs": [
    {
     "name": "stdout",
     "output_type": "stream",
     "text": [
      "23\n"
     ]
    }
   ],
   "source": [
    "print(books[0])"
   ]
  },
  {
   "cell_type": "code",
   "execution_count": 39,
   "metadata": {},
   "outputs": [
    {
     "name": "stdout",
     "output_type": "stream",
     "text": [
      "day4    32\n",
      "day5    51\n",
      "dtype: int64\n"
     ]
    }
   ],
   "source": [
    "print(books[[3,4]])"
   ]
  },
  {
   "cell_type": "code",
   "execution_count": 42,
   "metadata": {},
   "outputs": [
    {
     "name": "stdout",
     "output_type": "stream",
     "text": [
      "day3    12\n",
      "day2    67\n",
      "dtype: int64\n"
     ]
    }
   ],
   "source": [
    "print(books[[\"day3\",\"day2\"]])"
   ]
  },
  {
   "cell_type": "code",
   "execution_count": 46,
   "metadata": {},
   "outputs": [
    {
     "name": "stdout",
     "output_type": "stream",
     "text": [
      "day1    23\n",
      "day2    67\n",
      "day3    12\n",
      "day4    32\n",
      "day5    51\n",
      "dtype: int64\n",
      "day1    False\n",
      "day2     True\n",
      "day3    False\n",
      "day4     True\n",
      "day5     True\n",
      "dtype: bool\n",
      "day2    67\n",
      "day4    32\n",
      "day5    51\n",
      "dtype: int64\n"
     ]
    }
   ],
   "source": [
    "print(books)\n",
    "print(books>30)\n",
    "print(books[books>30])"
   ]
  },
  {
   "cell_type": "code",
   "execution_count": 48,
   "metadata": {},
   "outputs": [
    {
     "name": "stdout",
     "output_type": "stream",
     "text": [
      "day1     46\n",
      "day2    134\n",
      "day3     24\n",
      "day4     64\n",
      "day5    102\n",
      "dtype: int64\n"
     ]
    }
   ],
   "source": [
    "books=books*2\n",
    "print(books)"
   ]
  },
  {
   "cell_type": "code",
   "execution_count": 85,
   "metadata": {},
   "outputs": [
    {
     "name": "stdout",
     "output_type": "stream",
     "text": [
      "day1    0.000488\n",
      "day2    0.001953\n",
      "day3    0.000000\n",
      "day4    0.000977\n",
      "day5    0.001465\n",
      "dtype: float64\n"
     ]
    }
   ],
   "source": [
    "books=books/2\n",
    "print(books)"
   ]
  },
  {
   "cell_type": "code",
   "execution_count": 74,
   "metadata": {},
   "outputs": [
    {
     "name": "stdout",
     "output_type": "stream",
     "text": [
      "day1    1.0\n",
      "day2    4.0\n",
      "day3    0.0\n",
      "day4    2.0\n",
      "day5    3.0\n",
      "dtype: float64\n"
     ]
    }
   ],
   "source": [
    "books=books//2\n",
    "print(books)"
   ]
  },
  {
   "cell_type": "code",
   "execution_count": 92,
   "metadata": {},
   "outputs": [
    {
     "name": "stdout",
     "output_type": "stream",
     "text": [
      "2      1\n",
      "3      2\n",
      "4      3\n",
      "5      4\n",
      "6     55\n",
      "67     6\n",
      "7      7\n",
      "dtype: int32\n"
     ]
    }
   ],
   "source": [
    "import numpy as np\n",
    "arr1=np.array([1,2,3,4,55,6,7])\n",
    "arr2=np.array([2,3,4,5,6,67,7,])\n",
    "panda=pd.Series(arr1,arr2)\n",
    "print(panda)"
   ]
  },
  {
   "cell_type": "code",
   "execution_count": 93,
   "metadata": {},
   "outputs": [
    {
     "name": "stdout",
     "output_type": "stream",
     "text": [
      "zain      1\n",
      "sem     6th\n",
      "add     lhr\n",
      "dtype: object\n"
     ]
    }
   ],
   "source": [
    "pak={\"zain\":1,\"sem\":\"6th\",\"add\":\"lhr\"}\n",
    "pak1=pd.Series(pak)\n",
    "print(pak1)"
   ]
  },
  {
   "cell_type": "code",
   "execution_count": 94,
   "metadata": {},
   "outputs": [
    {
     "name": "stdout",
     "output_type": "stream",
     "text": [
      "[1 '6th' 'lhr']\n"
     ]
    }
   ],
   "source": [
    "print(pak1.values)"
   ]
  },
  {
   "cell_type": "code",
   "execution_count": 95,
   "metadata": {},
   "outputs": [
    {
     "name": "stdout",
     "output_type": "stream",
     "text": [
      "Index(['zain', 'sem', 'add'], dtype='object')\n"
     ]
    }
   ],
   "source": [
    "print(pak1.index)"
   ]
  },
  {
   "cell_type": "code",
   "execution_count": 98,
   "metadata": {},
   "outputs": [
    {
     "name": "stdout",
     "output_type": "stream",
     "text": [
      "<bound method Series.keys of zain      1\n",
      "sem     6th\n",
      "add     lhr\n",
      "dtype: object>\n"
     ]
    }
   ],
   "source": [
    "print(pak1.keys)"
   ]
  },
  {
   "cell_type": "code",
   "execution_count": 100,
   "metadata": {},
   "outputs": [
    {
     "name": "stdout",
     "output_type": "stream",
     "text": [
      "zain      1\n",
      "sem     6th\n",
      "add     lhr\n",
      "city    NaN\n",
      "dtype: object\n"
     ]
    }
   ],
   "source": [
    "pak={\"zain\":1,\"sem\":\"6th\",\"add\":\"lhr\"}\n",
    "pak1=pd.Series(pak,index=[\"zain\",\"sem\",\"add\",\"city\"])\n",
    "print(pak1)"
   ]
  },
  {
   "cell_type": "code",
   "execution_count": 104,
   "metadata": {},
   "outputs": [
    {
     "data": {
      "text/plain": [
       "True"
      ]
     },
     "execution_count": 104,
     "metadata": {},
     "output_type": "execute_result"
    }
   ],
   "source": [
    "\"zain\" in pak"
   ]
  },
  {
   "cell_type": "code",
   "execution_count": 106,
   "metadata": {},
   "outputs": [
    {
     "name": "stdout",
     "output_type": "stream",
     "text": [
      "zain    False\n",
      "sem     False\n",
      "add     False\n",
      "city     True\n",
      "dtype: bool\n"
     ]
    }
   ],
   "source": [
    "pak={\"zain\":1,\"sem\":\"6th\",\"add\":\"lhr\"}\n",
    "pak1=pd.Series(pak,index=[\"zain\",\"sem\",\"add\",\"city\"])\n",
    "print(pd.isnull(pak1))"
   ]
  },
  {
   "cell_type": "code",
   "execution_count": 109,
   "metadata": {},
   "outputs": [
    {
     "name": "stdout",
     "output_type": "stream",
     "text": [
      "nan\n"
     ]
    }
   ],
   "source": [
    "print(pak1[\"city\"])"
   ]
  },
  {
   "cell_type": "code",
   "execution_count": 110,
   "metadata": {},
   "outputs": [
    {
     "data": {
      "text/plain": [
       "zain    False\n",
       "sem     False\n",
       "add     False\n",
       "city     True\n",
       "dtype: bool"
      ]
     },
     "execution_count": 110,
     "metadata": {},
     "output_type": "execute_result"
    }
   ],
   "source": [
    "pd.isnull(pak1)"
   ]
  },
  {
   "cell_type": "code",
   "execution_count": 111,
   "metadata": {},
   "outputs": [
    {
     "name": "stdout",
     "output_type": "stream",
     "text": [
      "1    23\n",
      "2    67\n",
      "3    12\n",
      "4    32\n",
      "5    51\n",
      "dtype: int64\n"
     ]
    }
   ],
   "source": [
    "\n",
    "books=pd.Series([23,67,12,32,51],index=[\"day1\",\"day2\",\"day3\",\"day4\",\"day5\"])\n",
    "books.index=[1,2,3,4,5]\n",
    "print(books)"
   ]
  }
 ],
 "metadata": {
  "kernelspec": {
   "display_name": "base",
   "language": "python",
   "name": "python3"
  },
  "language_info": {
   "codemirror_mode": {
    "name": "ipython",
    "version": 3
   },
   "file_extension": ".py",
   "mimetype": "text/x-python",
   "name": "python",
   "nbconvert_exporter": "python",
   "pygments_lexer": "ipython3",
   "version": "3.11.5"
  }
 },
 "nbformat": 4,
 "nbformat_minor": 2
}
