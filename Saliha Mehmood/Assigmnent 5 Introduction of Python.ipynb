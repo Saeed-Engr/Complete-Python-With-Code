{
 "cells": [
  {
   "cell_type": "markdown",
   "id": "2d70a499",
   "metadata": {},
   "source": [
    "# Python"
   ]
  },
  {
   "cell_type": "code",
   "execution_count": 1,
   "id": "e3e2132d-cb23-4143-b93b-2024a76d3529",
   "metadata": {},
   "outputs": [
    {
     "name": "stdout",
     "output_type": "stream",
     "text": [
      "23\n"
     ]
    }
   ],
   "source": [
    "print(23)"
   ]
  },
  {
   "cell_type": "code",
   "execution_count": 2,
   "id": "81152b84-14e9-4702-9073-bf9cc2aa8d65",
   "metadata": {},
   "outputs": [
    {
     "name": "stdout",
     "output_type": "stream",
     "text": [
      "Saliha\n"
     ]
    }
   ],
   "source": [
    "print(\"Saliha\")"
   ]
  },
  {
   "cell_type": "code",
   "execution_count": 3,
   "id": "a5c2fcd5-1387-4212-92a7-a26364398718",
   "metadata": {},
   "outputs": [
    {
     "name": "stdout",
     "output_type": "stream",
     "text": [
      "20.3\n"
     ]
    }
   ],
   "source": [
    "print(20.3)"
   ]
  },
  {
   "cell_type": "code",
   "execution_count": 6,
   "id": "79a0c7c9-617d-4c64-99d7-ba518cdd1b94",
   "metadata": {},
   "outputs": [
    {
     "name": "stdout",
     "output_type": "stream",
     "text": [
      "<class 'str'>\n"
     ]
    }
   ],
   "source": [
    "name = \"saliha\"\n",
    "print(type(name))"
   ]
  },
  {
   "cell_type": "code",
   "execution_count": 7,
   "id": "cd4efa1c-5cde-4270-859f-0e9f150b7dac",
   "metadata": {},
   "outputs": [
    {
     "name": "stdout",
     "output_type": "stream",
     "text": [
      "<class 'int'>\n"
     ]
    }
   ],
   "source": [
    "data= 20\n",
    "print(type(data))"
   ]
  },
  {
   "cell_type": "code",
   "execution_count": 8,
   "id": "8effb1fe-70c1-4e31-a713-eafe4c021c56",
   "metadata": {},
   "outputs": [
    {
     "name": "stdout",
     "output_type": "stream",
     "text": [
      "<class 'float'>\n"
     ]
    }
   ],
   "source": [
    "a = 40.3\n",
    "print(type(a))"
   ]
  },
  {
   "cell_type": "markdown",
   "id": "5256bb1f",
   "metadata": {},
   "source": [
    "# Using Arithmatic Operator"
   ]
  },
  {
   "cell_type": "code",
   "execution_count": 9,
   "id": "2d68c603-eff8-4e14-ab48-8552ff8d84a5",
   "metadata": {},
   "outputs": [
    {
     "name": "stdout",
     "output_type": "stream",
     "text": [
      "43\n"
     ]
    }
   ],
   "source": [
    "\n",
    "a = 20\n",
    "b = 23\n",
    "sum = a+b\n",
    "print(sum)"
   ]
  },
  {
   "cell_type": "code",
   "execution_count": 10,
   "id": "8f1ab2b4-ea11-4a3b-baa2-8bb5420c5d3c",
   "metadata": {},
   "outputs": [
    {
     "name": "stdout",
     "output_type": "stream",
     "text": [
      "6\n"
     ]
    }
   ],
   "source": [
    "num = 29\n",
    "obj= 23\n",
    "sub = num-obj\n",
    "print(sub)"
   ]
  },
  {
   "cell_type": "code",
   "execution_count": 11,
   "id": "b88f5775-4661-4e8b-8b6e-ac7dfe1078d8",
   "metadata": {},
   "outputs": [
    {
     "name": "stdout",
     "output_type": "stream",
     "text": [
      "667\n"
     ]
    }
   ],
   "source": [
    "n = 29\n",
    "j= 23\n",
    "mul = n*j\n",
    "print(mul)"
   ]
  },
  {
   "cell_type": "code",
   "execution_count": 12,
   "id": "3624ad0f-b07e-427b-9989-7e97dd4e08d2",
   "metadata": {},
   "outputs": [
    {
     "name": "stdout",
     "output_type": "stream",
     "text": [
      "2.0\n"
     ]
    }
   ],
   "source": [
    "a = 4\n",
    "b = 2\n",
    "div = a/2\n",
    "print(div)"
   ]
  },
  {
   "cell_type": "markdown",
   "id": "6e220266",
   "metadata": {},
   "source": [
    "# By taking User Input"
   ]
  },
  {
   "cell_type": "code",
   "execution_count": 14,
   "id": "21ff0e9a-225a-4ab9-a761-9058f41a29c5",
   "metadata": {},
   "outputs": [
    {
     "name": "stdout",
     "output_type": "stream",
     "text": [
      "Enter the value 45\n"
     ]
    },
    {
     "name": "stdout",
     "output_type": "stream",
     "text": [
      "45\n"
     ]
    }
   ],
   "source": [
    "\n",
    "a = input(\"Enter the value\")\n",
    "print(a)"
   ]
  },
  {
   "cell_type": "code",
   "execution_count": 15,
   "id": "4742a7c6-89f2-48b2-9177-a4d1033bb834",
   "metadata": {},
   "outputs": [
    {
     "data": {
      "text/plain": [
       "str"
      ]
     },
     "execution_count": 15,
     "metadata": {},
     "output_type": "execute_result"
    }
   ],
   "source": [
    "type(a)"
   ]
  },
  {
   "cell_type": "markdown",
   "id": "d2ea606d",
   "metadata": {},
   "source": [
    "# List in python"
   ]
  },
  {
   "cell_type": "code",
   "execution_count": 20,
   "id": "1a6441e0-f8d0-4423-96c7-2cdbb55758fb",
   "metadata": {},
   "outputs": [
    {
     "name": "stdout",
     "output_type": "stream",
     "text": [
      "[12, 20, 34, 55]\n"
     ]
    }
   ],
   "source": [
    "\n",
    "num = [12,20,34,55,]\n",
    "print(num)"
   ]
  },
  {
   "cell_type": "code",
   "execution_count": 5,
   "id": "e7da16a7-cd04-4d19-88de-a490dff3ed23",
   "metadata": {},
   "outputs": [
    {
     "name": "stdout",
     "output_type": "stream",
     "text": [
      "['grapes', 'apple', 'bnanana']\n"
     ]
    }
   ],
   "source": [
    "fruits = [\"grapes\",\"apple\",\"bnanana\"]\n",
    "print(fruits)"
   ]
  },
  {
   "cell_type": "code",
   "execution_count": 16,
   "id": "80030345-08ae-4e6c-ac25-9538f36c534b",
   "metadata": {},
   "outputs": [
    {
     "name": "stdout",
     "output_type": "stream",
     "text": [
      "['Saliha', 'Hina', 'Shafa', 'Serrat', 'Summan', 'laiba', 'ansa']\n"
     ]
    }
   ],
   "source": [
    "names=[\"Saliha\",\"Hina\",\"Shafa\",\"Serrat\",\"Summan\",\"laiba\",\"ansa\",]\n",
    "print(names)"
   ]
  },
  {
   "cell_type": "code",
   "execution_count": 2,
   "id": "c1fba261-2b94-4cb8-a6a7-b7ebc7aa33da",
   "metadata": {},
   "outputs": [
    {
     "name": "stdout",
     "output_type": "stream",
     "text": [
      "['papa', 'mama', 'chachu', 'chachi', 'sister']\n"
     ]
    }
   ],
   "source": [
    "family = [\"papa\",\"mama\",\"chachu\",\"chachi\",\"sister\"]\n",
    "print(family)"
   ]
  },
  {
   "cell_type": "markdown",
   "id": "377967dc",
   "metadata": {},
   "source": [
    "# Indexes"
   ]
  },
  {
   "cell_type": "code",
   "execution_count": 23,
   "id": "c185f3c5-b6eb-4072-b4dd-897175d5a310",
   "metadata": {},
   "outputs": [
    {
     "data": {
      "text/plain": [
       "'sister'"
      ]
     },
     "execution_count": 23,
     "metadata": {},
     "output_type": "execute_result"
    }
   ],
   "source": [
    "\n",
    "family[-1]"
   ]
  },
  {
   "cell_type": "code",
   "execution_count": 24,
   "id": "73e52c22-f1f6-45fb-9f14-821e7583cba9",
   "metadata": {},
   "outputs": [
    {
     "data": {
      "text/plain": [
       "'Summan'"
      ]
     },
     "execution_count": 24,
     "metadata": {},
     "output_type": "execute_result"
    }
   ],
   "source": [
    "names[4]"
   ]
  },
  {
   "cell_type": "code",
   "execution_count": 28,
   "id": "78073428-838d-43f6-b8e4-9b84263a0956",
   "metadata": {},
   "outputs": [
    {
     "data": {
      "text/plain": [
       "['bnanana']"
      ]
     },
     "execution_count": 28,
     "metadata": {},
     "output_type": "execute_result"
    }
   ],
   "source": [
    "fruits[2:3]"
   ]
  },
  {
   "cell_type": "code",
   "execution_count": 29,
   "id": "920526ed-431f-4be5-bcc7-ffc1885a6afd",
   "metadata": {},
   "outputs": [
    {
     "data": {
      "text/plain": [
       "7"
      ]
     },
     "execution_count": 29,
     "metadata": {},
     "output_type": "execute_result"
    }
   ],
   "source": [
    "# length\n",
    "len(names)"
   ]
  },
  {
   "cell_type": "code",
   "execution_count": 30,
   "id": "89e7e5c1-5cfc-4058-9e84-55e523ec44ea",
   "metadata": {},
   "outputs": [
    {
     "data": {
      "text/plain": [
       "5"
      ]
     },
     "execution_count": 30,
     "metadata": {},
     "output_type": "execute_result"
    }
   ],
   "source": [
    "len(family)"
   ]
  },
  {
   "cell_type": "code",
   "execution_count": 31,
   "id": "26a3ad62-068a-4e4e-b014-218c23b9a162",
   "metadata": {},
   "outputs": [
    {
     "data": {
      "text/plain": [
       "4"
      ]
     },
     "execution_count": 31,
     "metadata": {},
     "output_type": "execute_result"
    }
   ],
   "source": [
    "len(num)"
   ]
  },
  {
   "cell_type": "markdown",
   "id": "8666d98a",
   "metadata": {},
   "source": [
    "# Append"
   ]
  },
  {
   "cell_type": "code",
   "execution_count": 3,
   "id": "8bc55a24",
   "metadata": {},
   "outputs": [
    {
     "name": "stdout",
     "output_type": "stream",
     "text": [
      "['Saliha', 'Hina', 'Shafa', 'Serrat', 'Summan', 'laiba', 'ansa', 'mami']\n"
     ]
    }
   ],
   "source": [
    "names.append(\"mami\")\n",
    "print(names)"
   ]
  },
  {
   "cell_type": "code",
   "execution_count": 6,
   "id": "d8d798ef",
   "metadata": {},
   "outputs": [
    {
     "name": "stdout",
     "output_type": "stream",
     "text": [
      "['grapes', 'apple', 'bnanana', 'pear']\n"
     ]
    }
   ],
   "source": [
    "fruits.append(\"pear\")\n",
    "print(fruits)"
   ]
  },
  {
   "cell_type": "code",
   "execution_count": 44,
   "id": "69727ec1-c07d-46d9-9b34-2cb9059f5fc3",
   "metadata": {},
   "outputs": [
    {
     "name": "stdout",
     "output_type": "stream",
     "text": [
      "[1, 2, 3, 4, 5]\n"
     ]
    }
   ],
   "source": [
    "data = [1,2,3,4]\n",
    "data.append(5)\n",
    "print(data)"
   ]
  },
  {
   "cell_type": "code",
   "execution_count": 7,
   "id": "42d4c878",
   "metadata": {},
   "outputs": [
    {
     "name": "stdout",
     "output_type": "stream",
     "text": [
      "[1, 2, 3, 4, 5, 0]\n"
     ]
    }
   ],
   "source": [
    "num = [1,2,3,4,5]\n",
    "# len(num)\n",
    "num.append(0)\n",
    "print(num)"
   ]
  },
  {
   "cell_type": "markdown",
   "id": "6f2d6029",
   "metadata": {},
   "source": [
    "# Extend"
   ]
  },
  {
   "cell_type": "code",
   "execution_count": 1,
   "id": "3d08afcc-7fdb-402e-96d4-f3de0ab1e588",
   "metadata": {},
   "outputs": [
    {
     "name": "stdout",
     "output_type": "stream",
     "text": [
      "[1, 2, 3, 4, 5]\n"
     ]
    }
   ],
   "source": [
    "data = [1,2,3,4]\n",
    "data.extend([5])\n",
    "print(data)"
   ]
  },
  {
   "cell_type": "code",
   "execution_count": 7,
   "id": "682242e9-0965-42cb-b19c-2c0874a6f4a0",
   "metadata": {},
   "outputs": [
    {
     "name": "stdout",
     "output_type": "stream",
     "text": [
      "['Saliha', 'Hina', 'Shafa', 'Serrat', 'Summan', 'laiba', 'ansa', 'lala', 'mamo']\n"
     ]
    }
   ],
   "source": [
    "names.extend([\"lala\",\"mamo\"])\n",
    "print(names)"
   ]
  },
  {
   "cell_type": "markdown",
   "id": "ad506627",
   "metadata": {},
   "source": [
    "# Insert"
   ]
  },
  {
   "cell_type": "code",
   "execution_count": 19,
   "id": "20529692-37d1-40e0-bc4f-455f353b92ca",
   "metadata": {},
   "outputs": [
    {
     "data": {
      "text/plain": [
       "['papa', 'mama', 'chachu', 'chachi', 'sister']"
      ]
     },
     "execution_count": 19,
     "metadata": {},
     "output_type": "execute_result"
    }
   ],
   "source": [
    "family"
   ]
  },
  {
   "cell_type": "code",
   "execution_count": 33,
   "id": "6b961947-2528-4735-a34c-1497cddce617",
   "metadata": {},
   "outputs": [
    {
     "data": {
      "text/plain": [
       "['papa', 'mama', 'brother', 'chachu', 'chachi', 'sister']"
      ]
     },
     "execution_count": 33,
     "metadata": {},
     "output_type": "execute_result"
    }
   ],
   "source": [
    "family.insert(2,\"brother\")\n",
    "family\n"
   ]
  },
  {
   "cell_type": "code",
   "execution_count": 12,
   "id": "f1af217a-38ed-4f65-b905-3d565c02893a",
   "metadata": {},
   "outputs": [
    {
     "data": {
      "text/plain": [
       "[1, 2, 3, 4, 5, 6]"
      ]
     },
     "execution_count": 12,
     "metadata": {},
     "output_type": "execute_result"
    }
   ],
   "source": [
    "val = [1,2,3,4,5,6]\n",
    "val"
   ]
  },
  {
   "cell_type": "code",
   "execution_count": 36,
   "id": "49f21231-10ea-419b-a47b-85c5b820055d",
   "metadata": {},
   "outputs": [
    {
     "data": {
      "text/plain": [
       "[1, 2, 8, 3, 4, 5, 6]"
      ]
     },
     "execution_count": 36,
     "metadata": {},
     "output_type": "execute_result"
    }
   ],
   "source": [
    "val.insert(2,8)\n",
    "val"
   ]
  },
  {
   "cell_type": "markdown",
   "id": "ab61f215",
   "metadata": {},
   "source": [
    "# Count"
   ]
  },
  {
   "cell_type": "code",
   "execution_count": 38,
   "id": "7644cd37-06db-48d3-9d94-22fbecd428c0",
   "metadata": {},
   "outputs": [
    {
     "data": {
      "text/plain": [
       "['papa', 'mama', 'brother', 'chachu', 'chachi', 'sister']"
      ]
     },
     "execution_count": 38,
     "metadata": {},
     "output_type": "execute_result"
    }
   ],
   "source": [
    "\n",
    "family\n"
   ]
  },
  {
   "cell_type": "code",
   "execution_count": 68,
   "id": "62bfda74-8473-4cbe-a3ea-f00730ae4681",
   "metadata": {},
   "outputs": [
    {
     "data": {
      "text/plain": [
       "0"
      ]
     },
     "execution_count": 68,
     "metadata": {},
     "output_type": "execute_result"
    }
   ],
   "source": [
    "family.count(\"lala\")\n",
    "#family\n"
   ]
  },
  {
   "cell_type": "code",
   "execution_count": 69,
   "id": "868434dd-0d54-490a-b8d8-eaed816a3e29",
   "metadata": {},
   "outputs": [
    {
     "data": {
      "text/plain": [
       "1"
      ]
     },
     "execution_count": 69,
     "metadata": {},
     "output_type": "execute_result"
    }
   ],
   "source": [
    "family.count(\"brother\")"
   ]
  },
  {
   "cell_type": "code",
   "execution_count": 84,
   "id": "8d8dcb52-4e7d-4db4-bf31-5371974a800f",
   "metadata": {},
   "outputs": [],
   "source": [
    "str=[\"Rana\",\"saeed\",\"Ramzan\",\"Ijaz\",\"Irfan\",\"Ali\",\"Abbas\",\"Imran\",\"Amjad\"]"
   ]
  },
  {
   "cell_type": "code",
   "execution_count": 80,
   "id": "e6fc2dac-72df-4199-9b35-f63c5bef092e",
   "metadata": {},
   "outputs": [
    {
     "data": {
      "text/plain": [
       "['Rana', 'saeed', 'Ramzan', 'Ijaz', 'Irfan', 'Ali', 'Abbas', 'Imran', 'Amjad']"
      ]
     },
     "execution_count": 80,
     "metadata": {},
     "output_type": "execute_result"
    }
   ],
   "source": [
    "str"
   ]
  },
  {
   "cell_type": "code",
   "execution_count": 82,
   "id": "95c8a67d-6ee5-4b25-8c72-9426bdcb4d60",
   "metadata": {},
   "outputs": [
    {
     "data": {
      "text/plain": [
       "1"
      ]
     },
     "execution_count": 82,
     "metadata": {},
     "output_type": "execute_result"
    }
   ],
   "source": [
    "str.count(\"Amjad\")"
   ]
  },
  {
   "cell_type": "markdown",
   "id": "563ef0d9",
   "metadata": {},
   "source": [
    "# Clear"
   ]
  },
  {
   "cell_type": "code",
   "execution_count": 85,
   "id": "2d8316ab-6efc-4b2c-9629-9c5ed3b53d99",
   "metadata": {},
   "outputs": [
    {
     "data": {
      "text/plain": [
       "['papa', 'mama', 'brother', 'chachu', 'chachi', 'sister']"
      ]
     },
     "execution_count": 85,
     "metadata": {},
     "output_type": "execute_result"
    }
   ],
   "source": [
    "\n",
    "family"
   ]
  },
  {
   "cell_type": "code",
   "execution_count": 89,
   "id": "5b5129bf-6454-4a97-96d2-2c8663eb41a2",
   "metadata": {},
   "outputs": [
    {
     "data": {
      "text/plain": [
       "[]"
      ]
     },
     "execution_count": 89,
     "metadata": {},
     "output_type": "execute_result"
    }
   ],
   "source": [
    "family.clear()\n",
    "family\n"
   ]
  },
  {
   "cell_type": "code",
   "execution_count": 91,
   "id": "90977e8c-0d7f-4c81-8757-9eafd5a95618",
   "metadata": {},
   "outputs": [
    {
     "data": {
      "text/plain": [
       "[]"
      ]
     },
     "execution_count": 91,
     "metadata": {},
     "output_type": "execute_result"
    }
   ],
   "source": [
    "val.clear()\n",
    "val"
   ]
  },
  {
   "cell_type": "code",
   "execution_count": 92,
   "id": "cc47be3a-be70-4fd0-9928-0edae154755b",
   "metadata": {},
   "outputs": [
    {
     "data": {
      "text/plain": [
       "0"
      ]
     },
     "execution_count": 92,
     "metadata": {},
     "output_type": "execute_result"
    }
   ],
   "source": [
    "len(val)"
   ]
  },
  {
   "cell_type": "markdown",
   "id": "5a4716da",
   "metadata": {},
   "source": [
    "# Copy"
   ]
  },
  {
   "cell_type": "code",
   "execution_count": 93,
   "id": "a02eeb56-ea29-4f1e-b4be-0af8a6fafa31",
   "metadata": {},
   "outputs": [
    {
     "data": {
      "text/plain": [
       "['AI', 'CS', 'IT']"
      ]
     },
     "execution_count": 93,
     "metadata": {},
     "output_type": "execute_result"
    }
   ],
   "source": [
    "\n",
    "dept = [\"AI\",\"CS\",\"IT\"]\n",
    "dept"
   ]
  },
  {
   "cell_type": "code",
   "execution_count": 95,
   "id": "d8023bc2-9895-469c-a0a2-f32eec27a2f4",
   "metadata": {},
   "outputs": [
    {
     "data": {
      "text/plain": [
       "['AI', 'CS', 'IT']"
      ]
     },
     "execution_count": 95,
     "metadata": {},
     "output_type": "execute_result"
    }
   ],
   "source": [
    "dept1 = dept.copy()\n",
    "dept1"
   ]
  },
  {
   "cell_type": "code",
   "execution_count": 96,
   "id": "a46e2be9-fd00-488d-b6c5-9da03c175a2f",
   "metadata": {},
   "outputs": [
    {
     "data": {
      "text/plain": [
       "['AI', 'CS', 'IT']"
      ]
     },
     "execution_count": 96,
     "metadata": {},
     "output_type": "execute_result"
    }
   ],
   "source": [
    "dept2 = dept1.copy()\n",
    "dept2"
   ]
  },
  {
   "cell_type": "code",
   "execution_count": 102,
   "id": "1ea62624-9351-4459-a15a-b3c57a11dd36",
   "metadata": {},
   "outputs": [
    {
     "data": {
      "text/plain": [
       "['AI', 'CS', 'IT', 'S.E', 'S.E', 'S.E', 'S.E']"
      ]
     },
     "execution_count": 102,
     "metadata": {},
     "output_type": "execute_result"
    }
   ],
   "source": [
    "dept.append(\"S.E\")\n",
    "dept"
   ]
  },
  {
   "cell_type": "code",
   "execution_count": 103,
   "id": "6da4674f-8ea3-4312-8cb9-7063d46dbcf8",
   "metadata": {},
   "outputs": [
    {
     "data": {
      "text/plain": [
       "['AI', 'CS', 'IT']"
      ]
     },
     "execution_count": 103,
     "metadata": {},
     "output_type": "execute_result"
    }
   ],
   "source": [
    "dept2"
   ]
  },
  {
   "cell_type": "markdown",
   "id": "a5b2e575",
   "metadata": {},
   "source": [
    "# Remove"
   ]
  },
  {
   "cell_type": "code",
   "execution_count": 105,
   "id": "05d4cfaa-e36c-4140-80e9-49599469df16",
   "metadata": {},
   "outputs": [
    {
     "data": {
      "text/plain": [
       "['AI', 'CS', 'IT']"
      ]
     },
     "execution_count": 105,
     "metadata": {},
     "output_type": "execute_result"
    }
   ],
   "source": [
    "\n",
    "dept1"
   ]
  },
  {
   "cell_type": "code",
   "execution_count": 112,
   "id": "31578184-3adb-4481-8257-020dee0910df",
   "metadata": {},
   "outputs": [
    {
     "data": {
      "text/plain": [
       "['CS']"
      ]
     },
     "execution_count": 112,
     "metadata": {},
     "output_type": "execute_result"
    }
   ],
   "source": [
    "dept1.remove('AI')\n",
    "dept1"
   ]
  },
  {
   "cell_type": "code",
   "execution_count": 114,
   "id": "1c9dd48e-eda1-4a9b-beed-f5820ac806af",
   "metadata": {},
   "outputs": [
    {
     "data": {
      "text/plain": [
       "['grapes',\n",
       " 'apple',\n",
       " 'mango',\n",
       " 'watermelon',\n",
       " 'watermelon',\n",
       " 'watermelon',\n",
       " 'watermelon',\n",
       " 'watermelon',\n",
       " 'bnanana']"
      ]
     },
     "execution_count": 114,
     "metadata": {},
     "output_type": "execute_result"
    }
   ],
   "source": [
    "fruits"
   ]
  },
  {
   "cell_type": "code",
   "execution_count": 5,
   "id": "2e9c4f49-32e5-47b4-8302-aa2c3eb5f045",
   "metadata": {},
   "outputs": [
    {
     "data": {
      "text/plain": [
       "['papa', 'mama', 'chachu', 'chachi', 'sister']"
      ]
     },
     "execution_count": 5,
     "metadata": {},
     "output_type": "execute_result"
    }
   ],
   "source": [
    "family"
   ]
  },
  {
   "cell_type": "code",
   "execution_count": 10,
   "id": "dada6ef3-37d9-4935-a4b3-6dc79754fe98",
   "metadata": {},
   "outputs": [
    {
     "data": {
      "text/plain": [
       "['chachu', 'chachi']"
      ]
     },
     "execution_count": 10,
     "metadata": {},
     "output_type": "execute_result"
    }
   ],
   "source": [
    "family.remove('sister')\n",
    "family"
   ]
  },
  {
   "cell_type": "code",
   "execution_count": 13,
   "id": "56f47cb6-df8d-4c2e-b597-76b1e8d73f84",
   "metadata": {},
   "outputs": [
    {
     "data": {
      "text/plain": [
       "[1, 2, 3, 4, 5, 6]"
      ]
     },
     "execution_count": 13,
     "metadata": {},
     "output_type": "execute_result"
    }
   ],
   "source": [
    "val"
   ]
  },
  {
   "cell_type": "code",
   "execution_count": 18,
   "id": "29f41a61-e3f9-4d71-8474-5fa56b84b78e",
   "metadata": {},
   "outputs": [
    {
     "data": {
      "text/plain": [
       "[3, 4, 6]"
      ]
     },
     "execution_count": 18,
     "metadata": {},
     "output_type": "execute_result"
    }
   ],
   "source": [
    "val.remove(5)\n",
    "val"
   ]
  },
  {
   "cell_type": "markdown",
   "id": "466d30f4",
   "metadata": {},
   "source": [
    "# Del Keyword"
   ]
  },
  {
   "cell_type": "code",
   "execution_count": 19,
   "id": "bfaa9e04-906f-411a-a708-2ea2e60ee00d",
   "metadata": {},
   "outputs": [
    {
     "data": {
      "text/plain": [
       "[3, 4, 6]"
      ]
     },
     "execution_count": 19,
     "metadata": {},
     "output_type": "execute_result"
    }
   ],
   "source": [
    "\n",
    "val"
   ]
  },
  {
   "cell_type": "code",
   "execution_count": 22,
   "id": "780051a9-844f-4577-b21a-caa8aaa285d6",
   "metadata": {},
   "outputs": [
    {
     "data": {
      "text/plain": [
       "[3, 6]"
      ]
     },
     "execution_count": 22,
     "metadata": {},
     "output_type": "execute_result"
    }
   ],
   "source": [
    "del val[1]\n",
    "val"
   ]
  },
  {
   "cell_type": "markdown",
   "id": "c25b400a",
   "metadata": {},
   "source": [
    "# Pop"
   ]
  },
  {
   "cell_type": "code",
   "execution_count": 28,
   "id": "fdc497ad-5d25-4c1d-bee3-bd5d71a4453c",
   "metadata": {},
   "outputs": [
    {
     "data": {
      "text/plain": [
       "['grapes', 'apple', 'bnanana']"
      ]
     },
     "execution_count": 28,
     "metadata": {},
     "output_type": "execute_result"
    }
   ],
   "source": [
    "\n",
    "fruits"
   ]
  },
  {
   "cell_type": "code",
   "execution_count": 29,
   "id": "50a0cd29-3410-4a7c-bc45-5635f482a272",
   "metadata": {},
   "outputs": [],
   "source": [
    "es =fruits.pop(0)"
   ]
  },
  {
   "cell_type": "code",
   "execution_count": 30,
   "id": "b7ffe8cf-f23a-4b60-bb14-35fede01896b",
   "metadata": {},
   "outputs": [
    {
     "data": {
      "text/plain": [
       "'grapes'"
      ]
     },
     "execution_count": 30,
     "metadata": {},
     "output_type": "execute_result"
    }
   ],
   "source": [
    "es"
   ]
  },
  {
   "cell_type": "code",
   "execution_count": 31,
   "id": "9a8e11e4-4083-4c9e-9631-0182be92aa9a",
   "metadata": {},
   "outputs": [
    {
     "data": {
      "text/plain": [
       "['apple', 'bnanana']"
      ]
     },
     "execution_count": 31,
     "metadata": {},
     "output_type": "execute_result"
    }
   ],
   "source": [
    "fruits"
   ]
  },
  {
   "cell_type": "code",
   "execution_count": 33,
   "id": "4d3d26bd-e618-47ca-be3e-507cc866b62d",
   "metadata": {},
   "outputs": [
    {
     "data": {
      "text/plain": [
       "['apple', 'bnanana', 'grapes', 'grapes']"
      ]
     },
     "execution_count": 33,
     "metadata": {},
     "output_type": "execute_result"
    }
   ],
   "source": [
    "fruits.append(\"grapes\")\n",
    "fruits"
   ]
  },
  {
   "cell_type": "markdown",
   "id": "47ca16a7",
   "metadata": {},
   "source": [
    "# Sort"
   ]
  },
  {
   "cell_type": "code",
   "execution_count": 34,
   "id": "6dc3e425-037f-4cad-b1e5-2f4ddaab7816",
   "metadata": {},
   "outputs": [
    {
     "data": {
      "text/plain": [
       "[10, 20, 30, 37, 80, 90, 123, 6789]"
      ]
     },
     "execution_count": 34,
     "metadata": {},
     "output_type": "execute_result"
    }
   ],
   "source": [
    "\n",
    "data = [10,20,30,80,37,123,6789,90]\n",
    "data.sort()\n",
    "data"
   ]
  },
  {
   "cell_type": "code",
   "execution_count": 35,
   "id": "9a233638-c2d5-4061-97cb-c91d70bac730",
   "metadata": {},
   "outputs": [
    {
     "data": {
      "text/plain": [
       "['a', 'd', 'e']"
      ]
     },
     "execution_count": 35,
     "metadata": {},
     "output_type": "execute_result"
    }
   ],
   "source": [
    "a = ['e','d','a']\n",
    "a.sort()\n",
    "a"
   ]
  },
  {
   "cell_type": "markdown",
   "id": "8965f3a0",
   "metadata": {},
   "source": [
    "# Sliicing in Python"
   ]
  },
  {
   "cell_type": "code",
   "execution_count": 38,
   "id": "c1c0fbb0-272a-4db3-9a4f-30aaae582589",
   "metadata": {},
   "outputs": [
    {
     "data": {
      "text/plain": [
       "['Saliha', 'Hina']"
      ]
     },
     "execution_count": 38,
     "metadata": {},
     "output_type": "execute_result"
    }
   ],
   "source": [
    "names\n",
    "names[:2]\n",
    "#start : end"
   ]
  },
  {
   "cell_type": "markdown",
   "id": "f43cb141",
   "metadata": {},
   "source": [
    "# Step in Slicing"
   ]
  },
  {
   "cell_type": "code",
   "execution_count": 3,
   "id": "62a5f88d-65cf-4323-87c7-dd6482f33eb3",
   "metadata": {},
   "outputs": [
    {
     "data": {
      "text/plain": [
       "['papa', 'mama', 'chachu', 'chachi', 'sister']"
      ]
     },
     "execution_count": 3,
     "metadata": {},
     "output_type": "execute_result"
    }
   ],
   "source": [
    "family"
   ]
  },
  {
   "cell_type": "code",
   "execution_count": 5,
   "id": "88fd783b",
   "metadata": {},
   "outputs": [
    {
     "data": {
      "text/plain": [
       "['papa', 'chachu', 'sister']"
      ]
     },
     "execution_count": 5,
     "metadata": {},
     "output_type": "execute_result"
    }
   ],
   "source": [
    "family[0::2]  "
   ]
  },
  {
   "cell_type": "markdown",
   "id": "00ff341a",
   "metadata": {},
   "source": [
    " # Delete One or more values in the lsits"
   ]
  },
  {
   "cell_type": "code",
   "execution_count": 6,
   "id": "4633c41e",
   "metadata": {},
   "outputs": [
    {
     "data": {
      "text/plain": [
       "['papa', 'chachi', 'sister']"
      ]
     },
     "execution_count": 6,
     "metadata": {},
     "output_type": "execute_result"
    }
   ],
   "source": [
    "del family[1:3]\n",
    "family"
   ]
  },
  {
   "cell_type": "code",
   "execution_count": null,
   "id": "94d1b9f4",
   "metadata": {},
   "outputs": [],
   "source": []
  }
 ],
 "metadata": {
  "kernelspec": {
   "display_name": "Python 3 (ipykernel)",
   "language": "python",
   "name": "python3"
  },
  "language_info": {
   "codemirror_mode": {
    "name": "ipython",
    "version": 3
   },
   "file_extension": ".py",
   "mimetype": "text/x-python",
   "name": "python",
   "nbconvert_exporter": "python",
   "pygments_lexer": "ipython3",
   "version": "3.11.7"
  }
 },
 "nbformat": 4,
 "nbformat_minor": 5
}
