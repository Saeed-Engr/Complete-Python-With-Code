{
 "cells": [
  {
   "cell_type": "markdown",
   "id": "464c28fc",
   "metadata": {},
   "source": [
    " # Pandas Series"
   ]
  },
  {
   "cell_type": "code",
   "execution_count": 1,
   "id": "d7c6d0b7-6732-4bae-ba1b-9b13c915c862",
   "metadata": {},
   "outputs": [
    {
     "name": "stdout",
     "output_type": "stream",
     "text": [
      "0    1\n",
      "1    2\n",
      "2    3\n",
      "3    4\n",
      "4    5\n",
      "dtype: int64\n"
     ]
    }
   ],
   "source": [
    "import pandas as pd\n",
    "a = pd.Series([1,2,3,4,5])\n",
    "print(a)"
   ]
  },
  {
   "cell_type": "code",
   "execution_count": 5,
   "id": "aba8b59e-d917-4b61-8369-ccd3242cb712",
   "metadata": {},
   "outputs": [
    {
     "name": "stdout",
     "output_type": "stream",
     "text": [
      "[1 2 3 4 5]\n"
     ]
    }
   ],
   "source": [
    "print(a.values)"
   ]
  },
  {
   "cell_type": "code",
   "execution_count": 6,
   "id": "431f95fc-470d-4835-880f-7bd3c8445231",
   "metadata": {},
   "outputs": [
    {
     "name": "stdout",
     "output_type": "stream",
     "text": [
      "RangeIndex(start=0, stop=5, step=1)\n"
     ]
    }
   ],
   "source": [
    "print(a.index)"
   ]
  },
  {
   "cell_type": "code",
   "execution_count": 67,
   "id": "65f2e830-6d4d-4002-a80a-8e5fb4bb2a4e",
   "metadata": {},
   "outputs": [
    {
     "name": "stdout",
     "output_type": "stream",
     "text": [
      "0    2\n",
      "1    3\n",
      "2    4\n",
      "3    5\n",
      "4    6\n",
      "5    7\n",
      "dtype: int64\n"
     ]
    }
   ],
   "source": [
    "data = pd.Series([2,3,4,5,6,7])\n",
    "print(data)"
   ]
  },
  {
   "cell_type": "code",
   "execution_count": 68,
   "id": "755d6161-f1b2-4634-aaba-2d23fe55edea",
   "metadata": {},
   "outputs": [
    {
     "name": "stdout",
     "output_type": "stream",
     "text": [
      "[2 3 4 5 6 7]\n"
     ]
    }
   ],
   "source": [
    "print(data.values)"
   ]
  },
  {
   "cell_type": "code",
   "execution_count": 69,
   "id": "f91db409-7358-4a85-8880-7eccfaf1ceab",
   "metadata": {},
   "outputs": [
    {
     "name": "stdout",
     "output_type": "stream",
     "text": [
      "RangeIndex(start=0, stop=6, step=1)\n"
     ]
    }
   ],
   "source": [
    "print(data.index)"
   ]
  },
  {
   "cell_type": "code",
   "execution_count": 13,
   "id": "5b540c9b-6ad6-42a0-aef0-e2b9afa744a8",
   "metadata": {},
   "outputs": [
    {
     "name": "stdout",
     "output_type": "stream",
     "text": [
      "mon    1\n",
      "tue    2\n",
      "wed    3\n",
      "thr    4\n",
      "fri    5\n",
      "dtype: int64\n"
     ]
    }
   ],
   "source": [
    "section = pd.Series( [1,2,3,4,5], index=['mon', 'tue','wed','thr','fri'] )\n",
    "print(section)"
   ]
  },
  {
   "cell_type": "code",
   "execution_count": 17,
   "id": "e1a41094-b77d-4793-8f1e-a8a18c5039d6",
   "metadata": {},
   "outputs": [
    {
     "name": "stdout",
     "output_type": "stream",
     "text": [
      "2\n"
     ]
    },
    {
     "name": "stderr",
     "output_type": "stream",
     "text": [
      "C:\\Users\\AHMEE\\AppData\\Local\\Temp\\ipykernel_16980\\2532567042.py:1: FutureWarning: Series.__getitem__ treating keys as positions is deprecated. In a future version, integer keys will always be treated as labels (consistent with DataFrame behavior). To access a value by position, use `ser.iloc[pos]`\n",
      "  print(section [1])\n"
     ]
    }
   ],
   "source": [
    "print(section [1])"
   ]
  },
  {
   "cell_type": "code",
   "execution_count": 19,
   "id": "f95c7735-03a0-4ce2-8135-72202b8d970c",
   "metadata": {},
   "outputs": [
    {
     "name": "stdout",
     "output_type": "stream",
     "text": [
      "tue    2\n",
      "thr    4\n",
      "dtype: int64\n"
     ]
    },
    {
     "name": "stderr",
     "output_type": "stream",
     "text": [
      "C:\\Users\\AHMEE\\AppData\\Local\\Temp\\ipykernel_16980\\304256907.py:1: FutureWarning: Series.__getitem__ treating keys as positions is deprecated. In a future version, integer keys will always be treated as labels (consistent with DataFrame behavior). To access a value by position, use `ser.iloc[pos]`\n",
      "  print(section[ [ 1,3] ])\n"
     ]
    }
   ],
   "source": [
    "print(section[ [ 1,3] ])"
   ]
  },
  {
   "cell_type": "code",
   "execution_count": 25,
   "id": "a84b438b-90ff-4360-8570-6e6f9d3610e9",
   "metadata": {},
   "outputs": [
    {
     "name": "stdout",
     "output_type": "stream",
     "text": [
      "mon    1\n",
      "wed    3\n",
      "dtype: int64\n"
     ]
    }
   ],
   "source": [
    "print(section[ ['mon','wed'] ])"
   ]
  },
  {
   "cell_type": "code",
   "execution_count": 26,
   "id": "500f29ce-9fa5-4b1e-a9df-aa348c1ae05b",
   "metadata": {},
   "outputs": [
    {
     "name": "stdout",
     "output_type": "stream",
     "text": [
      "tue    2\n",
      "fri    5\n",
      "dtype: int64\n",
      "mon    1\n",
      "wed    3\n",
      "dtype: int64\n"
     ]
    },
    {
     "name": "stderr",
     "output_type": "stream",
     "text": [
      "C:\\Users\\AHMEE\\AppData\\Local\\Temp\\ipykernel_16980\\4103950000.py:1: FutureWarning: Series.__getitem__ treating keys as positions is deprecated. In a future version, integer keys will always be treated as labels (consistent with DataFrame behavior). To access a value by position, use `ser.iloc[pos]`\n",
      "  print(section[ [1,4] ])\n"
     ]
    }
   ],
   "source": [
    "print(section[ [1,4] ])\n",
    "print(section[ ['mon','wed'] ])"
   ]
  },
  {
   "cell_type": "markdown",
   "id": "7e1a71d7",
   "metadata": {},
   "source": [
    "# For providing multipe index for selecting element in an pd Series, use Array Notation"
   ]
  },
  {
   "cell_type": "code",
   "execution_count": 28,
   "id": "160c203a-43fe-4061-8a54-dad5878c852a",
   "metadata": {},
   "outputs": [
    {
     "name": "stdout",
     "output_type": "stream",
     "text": [
      "mon     True\n",
      "tue     True\n",
      "wed     True\n",
      "thr    False\n",
      "fri    False\n",
      "dtype: bool\n"
     ]
    }
   ],
   "source": [
    "\n",
    "print(section<4)"
   ]
  },
  {
   "cell_type": "code",
   "execution_count": 29,
   "id": "d5a5ead1-223c-4e70-bb7f-fdbd06b8d3de",
   "metadata": {},
   "outputs": [
    {
     "name": "stdout",
     "output_type": "stream",
     "text": [
      "wed    3\n",
      "thr    4\n",
      "fri    5\n",
      "dtype: int64\n"
     ]
    }
   ],
   "source": [
    "print(section[section>2])"
   ]
  },
  {
   "cell_type": "code",
   "execution_count": 34,
   "id": "53785c7f-a70d-43f1-8ecf-11c16122905e",
   "metadata": {},
   "outputs": [
    {
     "name": "stdout",
     "output_type": "stream",
     "text": [
      "mon    3\n",
      "tue    4\n",
      "wed    5\n",
      "thr    6\n",
      "fri    7\n",
      "dtype: int64\n"
     ]
    }
   ],
   "source": [
    "section + 2\n",
    "section = section+2\n",
    "print(section)"
   ]
  },
  {
   "cell_type": "markdown",
   "id": "3840e3a9",
   "metadata": {},
   "source": [
    "# Taking input from numpy arrays and Converting to Pandas Series "
   ]
  },
  {
   "cell_type": "code",
   "execution_count": 5,
   "id": "b532cbe8-d166-42fa-a554-890b33d8fad4",
   "metadata": {},
   "outputs": [
    {
     "name": "stdout",
     "output_type": "stream",
     "text": [
      "one    1\n",
      "tue    2\n",
      "wed    3\n",
      "thu    4\n",
      "fri    5\n",
      "dtype: int32\n"
     ]
    }
   ],
   "source": [
    "# import numpy as np\n",
    "array= np.array([1,2,3,4,5])\n",
    "ind = np.array(['one','tue','wed','thu','fri'])\n",
    "a = pd.Series(array,ind)\n",
    "print(a)"
   ]
  },
  {
   "cell_type": "code",
   "execution_count": 8,
   "id": "6c862119",
   "metadata": {},
   "outputs": [
    {
     "name": "stdout",
     "output_type": "stream",
     "text": [
      "1     m\n",
      "2     t\n",
      "3     w\n",
      "4    th\n",
      "dtype: object\n"
     ]
    }
   ],
   "source": [
    "b = np.array(['m','t','w','th'])\n",
    "c = np.array([1,2,3,4])\n",
    "a = pd.Series(b,c)\n",
    "print(a)"
   ]
  },
  {
   "cell_type": "code",
   "execution_count": 9,
   "id": "05bbbbaa",
   "metadata": {},
   "outputs": [
    {
     "name": "stdout",
     "output_type": "stream",
     "text": [
      "['m' 't' 'w' 'th']\n"
     ]
    }
   ],
   "source": [
    "print(a.values)"
   ]
  },
  {
   "cell_type": "code",
   "execution_count": 10,
   "id": "ed9016bd",
   "metadata": {},
   "outputs": [
    {
     "name": "stdout",
     "output_type": "stream",
     "text": [
      "Index([1, 2, 3, 4], dtype='int32')\n"
     ]
    }
   ],
   "source": [
    "print(a.index)"
   ]
  },
  {
   "cell_type": "markdown",
   "id": "51d9d7f6",
   "metadata": {},
   "source": [
    "# Creating Dictionary and then Converting to pandas Series "
   ]
  },
  {
   "cell_type": "code",
   "execution_count": 55,
   "id": "a25c1fef-e4d1-4567-ad09-1f53bc94f26e",
   "metadata": {},
   "outputs": [
    {
     "name": "stdout",
     "output_type": "stream",
     "text": [
      "saliha    1\n",
      "lala      2\n",
      "momin     3\n",
      "dtype: int64\n"
     ]
    }
   ],
   "source": [
    "\n",
    "a = {\"saliha\":1,\"lala\":2,\"momin\":3}\n",
    "b = pd.Series(a)\n",
    "print(b)\n"
   ]
  },
  {
   "cell_type": "code",
   "execution_count": 56,
   "id": "6d86505d-ea96-4db1-97dc-9b9318e9f782",
   "metadata": {},
   "outputs": [
    {
     "name": "stdout",
     "output_type": "stream",
     "text": [
      "[1 2 3]\n"
     ]
    }
   ],
   "source": [
    "print(b.values)\n"
   ]
  },
  {
   "cell_type": "code",
   "execution_count": 57,
   "id": "397b6a0f-09d9-4df6-8c14-9acd9f995b89",
   "metadata": {},
   "outputs": [
    {
     "name": "stdout",
     "output_type": "stream",
     "text": [
      "Index(['saliha', 'lala', 'momin'], dtype='object')\n"
     ]
    }
   ],
   "source": [
    "print(b.index)"
   ]
  },
  {
   "cell_type": "code",
   "execution_count": 11,
   "id": "a55a4596",
   "metadata": {},
   "outputs": [
    {
     "name": "stdout",
     "output_type": "stream",
     "text": [
      "1    2\n",
      "3    4\n",
      "5    6\n",
      "dtype: int64\n"
     ]
    }
   ],
   "source": [
    "num = {1:2,3:4,5:6}\n",
    "d = pd.Series(num)\n",
    "print(d)"
   ]
  },
  {
   "cell_type": "markdown",
   "id": "a03be220",
   "metadata": {},
   "source": [
    "# If Index more than Values"
   ]
  },
  {
   "cell_type": "code",
   "execution_count": 58,
   "id": "98a21490-339e-4e4e-a0ee-4a4e6f6e5855",
   "metadata": {},
   "outputs": [
    {
     "name": "stdout",
     "output_type": "stream",
     "text": [
      "saliha    1.0\n",
      "lala      2.0\n",
      "mama      NaN\n",
      "momin     3.0\n",
      "dtype: float64\n"
     ]
    }
   ],
   "source": [
    "\n",
    " # \n",
    "a = {\"saliha\":1, \"lala\":2,\"momin\":3}\n",
    "b = pd.Series(a, index=[\"saliha\",\"lala\",\"mama\",\"momin\"])\n",
    "print(b)\n"
   ]
  },
  {
   "cell_type": "code",
   "execution_count": 60,
   "id": "8e2fef66-ad9b-42c0-b733-08169c648b9b",
   "metadata": {},
   "outputs": [
    {
     "name": "stdout",
     "output_type": "stream",
     "text": [
      "False\n"
     ]
    }
   ],
   "source": [
    "print(pd.isnull(a))"
   ]
  },
  {
   "cell_type": "code",
   "execution_count": 61,
   "id": "11068acb-bfcd-40a2-bfbb-8deb045534c3",
   "metadata": {},
   "outputs": [
    {
     "name": "stdout",
     "output_type": "stream",
     "text": [
      "saliha    False\n",
      "lala      False\n",
      "mama       True\n",
      "momin     False\n",
      "dtype: bool\n"
     ]
    }
   ],
   "source": [
    "print(pd.isnull(b))"
   ]
  },
  {
   "cell_type": "code",
   "execution_count": 63,
   "id": "e058616a-98a7-42a1-b3e2-da25142775da",
   "metadata": {},
   "outputs": [
    {
     "name": "stdout",
     "output_type": "stream",
     "text": [
      "2.0\n"
     ]
    },
    {
     "name": "stderr",
     "output_type": "stream",
     "text": [
      "C:\\Users\\AHMEE\\AppData\\Local\\Temp\\ipykernel_16980\\2309727203.py:1: FutureWarning: Series.__getitem__ treating keys as positions is deprecated. In a future version, integer keys will always be treated as labels (consistent with DataFrame behavior). To access a value by position, use `ser.iloc[pos]`\n",
      "  print(b[1])\n"
     ]
    }
   ],
   "source": [
    "print(b[1])"
   ]
  },
  {
   "cell_type": "code",
   "execution_count": 64,
   "id": "a9547e1a-aa43-4203-99ca-1d8233f9a5b4",
   "metadata": {},
   "outputs": [
    {
     "name": "stdout",
     "output_type": "stream",
     "text": [
      "1.0\n"
     ]
    }
   ],
   "source": [
    "print(b[\"saliha\"])"
   ]
  },
  {
   "cell_type": "markdown",
   "id": "de3616a9",
   "metadata": {},
   "source": [
    "# Different Index"
   ]
  },
  {
   "cell_type": "code",
   "execution_count": 65,
   "id": "bb717929-67f3-4dd6-92b7-b711ae90e9c8",
   "metadata": {},
   "outputs": [
    {
     "name": "stdout",
     "output_type": "stream",
     "text": [
      "bad       1\n",
      "ugly      2\n",
      "strong    3\n",
      "weak      4\n",
      "good      5\n",
      "dtype: int64\n"
     ]
    }
   ],
   "source": [
    "\n",
    "section = pd.Series([1,2,3,4,5],index=[\"bad\",\"ugly\",\"strong\",\"weak\",\"good\"])\n",
    "print(section)"
   ]
  },
  {
   "cell_type": "code",
   "execution_count": 66,
   "id": "5cf764b0-0e14-4f72-b595-f6e6f1755651",
   "metadata": {},
   "outputs": [
    {
     "name": "stdout",
     "output_type": "stream",
     "text": [
      "m     1\n",
      "t     2\n",
      "w     3\n",
      "th    4\n",
      "f     5\n",
      "dtype: int64\n"
     ]
    }
   ],
   "source": [
    "section.index = [\"m\",'t','w','th','f',]\n",
    "print(section)"
   ]
  },
  {
   "cell_type": "code",
   "execution_count": null,
   "id": "ce7c6a02-b377-4a1f-b8ef-6a583a73ec8c",
   "metadata": {},
   "outputs": [],
   "source": []
  }
 ],
 "metadata": {
  "kernelspec": {
   "display_name": "Python 3 (ipykernel)",
   "language": "python",
   "name": "python3"
  },
  "language_info": {
   "codemirror_mode": {
    "name": "ipython",
    "version": 3
   },
   "file_extension": ".py",
   "mimetype": "text/x-python",
   "name": "python",
   "nbconvert_exporter": "python",
   "pygments_lexer": "ipython3",
   "version": "3.11.7"
  }
 },
 "nbformat": 4,
 "nbformat_minor": 5
}
