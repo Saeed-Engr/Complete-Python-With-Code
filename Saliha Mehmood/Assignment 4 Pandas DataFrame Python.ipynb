{
 "cells": [
  {
   "cell_type": "markdown",
   "id": "89181bf0",
   "metadata": {},
   "source": [
    "# DataFrame"
   ]
  },
  {
   "cell_type": "code",
   "execution_count": 2,
   "id": "fa5c37cb-a815-4c01-944b-9bbab55a63a8",
   "metadata": {},
   "outputs": [
    {
     "name": "stdout",
     "output_type": "stream",
     "text": [
      "0    4\n",
      "1    2\n",
      "2    7\n",
      "dtype: int64 0    4\n",
      "1    7\n",
      "2    3\n",
      "dtype: int64\n"
     ]
    }
   ],
   "source": [
    "import pandas as pd\n",
    "\n",
    "apples = pd.Series([4,2,7])\n",
    "oranges = pd.Series([4,7,3,])\n",
    "\n",
    "print(apples, oranges)\n"
   ]
  },
  {
   "cell_type": "code",
   "execution_count": 7,
   "id": "3b3970fb-41f6-4a0e-901a-c2604f141ae6",
   "metadata": {},
   "outputs": [
    {
     "name": "stdout",
     "output_type": "stream",
     "text": [
      "0    1\n",
      "1    2\n",
      "2    3\n",
      "3    4\n",
      "4    5\n",
      "dtype: int64 0     m\n",
      "1     t\n",
      "2     w\n",
      "3    th\n",
      "4     f\n",
      "dtype: object\n"
     ]
    }
   ],
   "source": [
    "a = pd.Series([1,2,3,4,5])\n",
    "obj = pd.Series(['m','t','w','th','f'])\n",
    "print(a,obj)"
   ]
  },
  {
   "cell_type": "code",
   "execution_count": 6,
   "id": "ab514bc8-23f2-4845-bb07-03c09621418e",
   "metadata": {},
   "outputs": [
    {
     "name": "stdout",
     "output_type": "stream",
     "text": [
      "   apples  oranges\n",
      "0       3        3\n",
      "1       2        4\n",
      "2       0        7\n",
      "3       1        8\n"
     ]
    }
   ],
   "source": [
    "import pandas as pd\n",
    "\n",
    "apples = pd.Series([3,2,0,1])\n",
    "oranges = pd.Series([3,4,7,8])\n",
    "\n",
    "#print(apples, oranges)\n",
    "\n",
    "data = {\"apples\": apples, \"oranges\": oranges}\n",
    "fruits_df = pd.DataFrame(data)\n",
    "print(fruits_df)"
   ]
  },
  {
   "cell_type": "code",
   "execution_count": 14,
   "id": "93b2f8cf-8fc2-4e0d-a901-ce097db5b55f",
   "metadata": {},
   "outputs": [
    {
     "name": "stdout",
     "output_type": "stream",
     "text": [
      "   d   j\n",
      "0  1   m\n",
      "1  2  tu\n",
      "2  3   w\n",
      "3  4   t\n",
      "4  5   f\n"
     ]
    }
   ],
   "source": [
    "a = pd.Series([1,2,3,4,5])\n",
    "b = pd.Series(['m','tu','w','t','f'])\n",
    "data = {\"d\":a,\"j\":b}\n",
    "obj_df = pd.DataFrame(data)\n",
    "print(obj_df)"
   ]
  },
  {
   "cell_type": "code",
   "execution_count": 15,
   "id": "1295a081-1433-40bf-ad1c-5fb113995943",
   "metadata": {},
   "outputs": [
    {
     "name": "stdout",
     "output_type": "stream",
     "text": [
      "           a             b\n",
      "0  beautiful          ugly\n",
      "1     famous      notorius\n",
      "2   gorgeous  unattractive\n"
     ]
    }
   ],
   "source": [
    "nice = ([\"beautiful\",\"famous\",\"gorgeous\"])\n",
    "bad = ([\"ugly\",\"notorius\",\"unattractive\",])\n",
    "data = {\"a\":nice,\"b\":bad}\n",
    "good_obj = pd.DataFrame(data)\n",
    "print(good_obj)"
   ]
  },
  {
   "cell_type": "code",
   "execution_count": 32,
   "id": "7908f1c1-28db-4a2d-87ee-44e689be7b4d",
   "metadata": {},
   "outputs": [
    {
     "name": "stdout",
     "output_type": "stream",
     "text": [
      "     apples  oranges\n",
      "a       3.0      NaN\n",
      "b       2.0      NaN\n",
      "c       0.0      NaN\n",
      "d       1.0      NaN\n",
      "mon     NaN      3.0\n",
      "thr     NaN      1.0\n",
      "tue     NaN      2.0\n",
      "wed     NaN      0.0\n"
     ]
    }
   ],
   "source": [
    "a = pd.Series([3,2,0,1],[\"a\", \"b\", \"c\", \"d\"])\n",
    "b= pd.Series([3,2,0,1],  [\"mon\", \"tue\", \"wed\", \"thr\"])\n",
    "\n",
    "#print(apples, oranges)\n",
    "data = {\"apples\": a, \"oranges\": b}\n",
    "fruits_df = pd.DataFrame(data)\n",
    "print(fruits_df)"
   ]
  },
  {
   "cell_type": "code",
   "execution_count": 16,
   "id": "95696625-ea39-4dd4-9857-96654146a301",
   "metadata": {},
   "outputs": [
    {
     "name": "stdout",
     "output_type": "stream",
     "text": [
      "  mango grapes\n",
      "1   mon      a\n",
      "2   tue      b\n",
      "3   wed      x\n",
      "4    th      r\n"
     ]
    }
   ],
   "source": [
    "\n",
    "b_Series = pd.Series(['a','b','x','r'],[1,2,3,4])\n",
    "a_Series = pd.Series([\"mon\",\"tue\",\"wed\",\"th\"],[1,2,3,4],)\n",
    "Data = {\"mango\":a_Series,\"grapes\":b_Series}\n",
    "fruits_df = pd.DataFrame(Data)\n",
    "print(fruits_df)\n",
    "                "
   ]
  },
  {
   "cell_type": "code",
   "execution_count": 20,
   "id": "fbc05eb9-89a5-4370-8e48-fc5f17df235c",
   "metadata": {},
   "outputs": [
    {
     "name": "stdout",
     "output_type": "stream",
     "text": [
      "     saliha  rimsha\n",
      "jan       1       1\n",
      "feb       2       2\n",
      "mar       3       3\n",
      "dec       4       4\n"
     ]
    }
   ],
   "source": [
    "b = pd.Series([1,2,3,4],[\"jan\",\"feb\",\"mar\",\"dec\"])\n",
    "a = pd.Series([1,2,3,4],[\"jan\",\"feb\",\"mar\",\"dec\"])\n",
    "data = {\"saliha\":b,\"rimsha\":a}\n",
    "my_df = pd.DataFrame(data)\n",
    "print(my_df)\n"
   ]
  },
  {
   "cell_type": "code",
   "execution_count": 2,
   "id": "f23a3192-739f-44bf-b647-f0268229e89c",
   "metadata": {},
   "outputs": [
    {
     "name": "stdout",
     "output_type": "stream",
     "text": [
      "      state  year  pop\n",
      "1st    Ohio  2000  1.5\n",
      "2nd    Ohio  2001  1.7\n",
      "3rd    Ohio  2002  3.6\n",
      "4th  Nevada  2001  2.4\n",
      "5th  Nevada  2002  2.9\n",
      "6th  Nevada  2003  3.2\n"
     ]
    }
   ],
   "source": [
    "import pandas as pd\n",
    "state = ['Ohio', 'Ohio','Ohio','Nevada', 'Nevada', 'Nevada']\n",
    "data = {'state': state ,\n",
    "        'year' : [2000, 2001, 2002, 2001, 2002, 2003],\n",
    "        'pop'  : [1.5, 1.7, 3.6, 2.4, 2.9, 3.2]}\n",
    "\n",
    "df = pd.DataFrame(data \n",
    "                     , index = ['1st', '2nd', '3rd', \n",
    "                                '4th', '5th','6th'] )\n",
    "print(df)"
   ]
  },
  {
   "cell_type": "code",
   "execution_count": 3,
   "id": "e501c36a-3416-4229-bcee-c8cb752eb91e",
   "metadata": {},
   "outputs": [
    {
     "name": "stdout",
     "output_type": "stream",
     "text": [
      "state    Ohio\n",
      "year     2001\n",
      "pop       1.7\n",
      "Name: 2nd, dtype: object\n"
     ]
    }
   ],
   "source": [
    "print(df.loc['2nd'])  "
   ]
  },
  {
   "cell_type": "code",
   "execution_count": 4,
   "id": "40db2f08-9f94-4181-97f2-f4574725af75",
   "metadata": {},
   "outputs": [
    {
     "data": {
      "text/html": [
       "<div>\n",
       "<style scoped>\n",
       "    .dataframe tbody tr th:only-of-type {\n",
       "        vertical-align: middle;\n",
       "    }\n",
       "\n",
       "    .dataframe tbody tr th {\n",
       "        vertical-align: top;\n",
       "    }\n",
       "\n",
       "    .dataframe thead th {\n",
       "        text-align: right;\n",
       "    }\n",
       "</style>\n",
       "<table border=\"1\" class=\"dataframe\">\n",
       "  <thead>\n",
       "    <tr style=\"text-align: right;\">\n",
       "      <th></th>\n",
       "      <th>state</th>\n",
       "      <th>year</th>\n",
       "      <th>pop</th>\n",
       "    </tr>\n",
       "  </thead>\n",
       "  <tbody>\n",
       "    <tr>\n",
       "      <th>4th</th>\n",
       "      <td>Nevada</td>\n",
       "      <td>2001</td>\n",
       "      <td>2.4</td>\n",
       "    </tr>\n",
       "  </tbody>\n",
       "</table>\n",
       "</div>"
      ],
      "text/plain": [
       "      state  year  pop\n",
       "4th  Nevada  2001  2.4"
      ]
     },
     "execution_count": 4,
     "metadata": {},
     "output_type": "execute_result"
    }
   ],
   "source": [
    "df.sample()"
   ]
  },
  {
   "cell_type": "code",
   "execution_count": 5,
   "id": "9cac906d",
   "metadata": {},
   "outputs": [
    {
     "data": {
      "text/html": [
       "<div>\n",
       "<style scoped>\n",
       "    .dataframe tbody tr th:only-of-type {\n",
       "        vertical-align: middle;\n",
       "    }\n",
       "\n",
       "    .dataframe tbody tr th {\n",
       "        vertical-align: top;\n",
       "    }\n",
       "\n",
       "    .dataframe thead th {\n",
       "        text-align: right;\n",
       "    }\n",
       "</style>\n",
       "<table border=\"1\" class=\"dataframe\">\n",
       "  <thead>\n",
       "    <tr style=\"text-align: right;\">\n",
       "      <th></th>\n",
       "      <th>state</th>\n",
       "      <th>year</th>\n",
       "      <th>pop</th>\n",
       "    </tr>\n",
       "  </thead>\n",
       "  <tbody>\n",
       "    <tr>\n",
       "      <th>3rd</th>\n",
       "      <td>Ohio</td>\n",
       "      <td>2002</td>\n",
       "      <td>3.6</td>\n",
       "    </tr>\n",
       "    <tr>\n",
       "      <th>5th</th>\n",
       "      <td>Nevada</td>\n",
       "      <td>2002</td>\n",
       "      <td>2.9</td>\n",
       "    </tr>\n",
       "    <tr>\n",
       "      <th>6th</th>\n",
       "      <td>Nevada</td>\n",
       "      <td>2003</td>\n",
       "      <td>3.2</td>\n",
       "    </tr>\n",
       "  </tbody>\n",
       "</table>\n",
       "</div>"
      ],
      "text/plain": [
       "      state  year  pop\n",
       "3rd    Ohio  2002  3.6\n",
       "5th  Nevada  2002  2.9\n",
       "6th  Nevada  2003  3.2"
      ]
     },
     "execution_count": 5,
     "metadata": {},
     "output_type": "execute_result"
    }
   ],
   "source": [
    "df.sample(3)"
   ]
  },
  {
   "cell_type": "code",
   "execution_count": 18,
   "id": "7d2ec444-b185-4168-afdf-409c1c5caa3f",
   "metadata": {},
   "outputs": [
    {
     "name": "stdout",
     "output_type": "stream",
     "text": [
      "Empty DataFrame\n",
      "Columns: [month, week, year]\n",
      "Index: []\n"
     ]
    }
   ],
   "source": [
    "df =pd.DataFrame(data, columns=['month', 'week', 'year'])\n",
    "print(df)"
   ]
  },
  {
   "cell_type": "code",
   "execution_count": 19,
   "id": "da331dd8",
   "metadata": {},
   "outputs": [
    {
     "data": {
      "text/plain": [
       "<bound method NDFrame.head of      1    2    3    4\n",
       "m  NaN  NaN  NaN  NaN\n",
       "t  NaN  NaN  NaN  NaN\n",
       "w  NaN  NaN  NaN  NaN\n",
       "f  NaN  NaN  NaN  NaN>"
      ]
     },
     "execution_count": 19,
     "metadata": {},
     "output_type": "execute_result"
    }
   ],
   "source": [
    "obj2 = pd.DataFrame(data,columns=[1,2,3,4], index=['m','t','w','f'])\n",
    "obj2.head"
   ]
  },
  {
   "cell_type": "code",
   "execution_count": 21,
   "id": "99802941",
   "metadata": {},
   "outputs": [
    {
     "data": {
      "text/plain": [
       "<bound method NDFrame.tail of      1    2    3    4\n",
       "m  NaN  NaN  NaN  NaN\n",
       "t  NaN  NaN  NaN  NaN\n",
       "w  NaN  NaN  NaN  NaN\n",
       "f  NaN  NaN  NaN  NaN>"
      ]
     },
     "execution_count": 21,
     "metadata": {},
     "output_type": "execute_result"
    }
   ],
   "source": [
    "obj2 = pd.DataFrame(data,columns=[1,2,3,4], \n",
    "                   index=['m','t','w','f'])\n",
    "obj2\n",
    "obj2.tail"
   ]
  },
  {
   "cell_type": "code",
   "execution_count": 31,
   "id": "8939a40a-0eab-4ed1-8fa3-b4494b093e85",
   "metadata": {},
   "outputs": [
    {
     "data": {
      "text/html": [
       "<div>\n",
       "<style scoped>\n",
       "    .dataframe tbody tr th:only-of-type {\n",
       "        vertical-align: middle;\n",
       "    }\n",
       "\n",
       "    .dataframe tbody tr th {\n",
       "        vertical-align: top;\n",
       "    }\n",
       "\n",
       "    .dataframe thead th {\n",
       "        text-align: right;\n",
       "    }\n",
       "</style>\n",
       "<table border=\"1\" class=\"dataframe\">\n",
       "  <thead>\n",
       "    <tr style=\"text-align: right;\">\n",
       "      <th></th>\n",
       "      <th>year</th>\n",
       "      <th>state</th>\n",
       "      <th>pop</th>\n",
       "      <th>debt</th>\n",
       "    </tr>\n",
       "  </thead>\n",
       "  <tbody>\n",
       "    <tr>\n",
       "      <th>one</th>\n",
       "      <td>2000</td>\n",
       "      <td>Ohio</td>\n",
       "      <td>1.5</td>\n",
       "      <td>NaN</td>\n",
       "    </tr>\n",
       "    <tr>\n",
       "      <th>two</th>\n",
       "      <td>2001</td>\n",
       "      <td>Ohio</td>\n",
       "      <td>1.7</td>\n",
       "      <td>NaN</td>\n",
       "    </tr>\n",
       "    <tr>\n",
       "      <th>three</th>\n",
       "      <td>2002</td>\n",
       "      <td>Ohio</td>\n",
       "      <td>3.6</td>\n",
       "      <td>NaN</td>\n",
       "    </tr>\n",
       "    <tr>\n",
       "      <th>four</th>\n",
       "      <td>2001</td>\n",
       "      <td>Nevada</td>\n",
       "      <td>2.4</td>\n",
       "      <td>NaN</td>\n",
       "    </tr>\n",
       "    <tr>\n",
       "      <th>five</th>\n",
       "      <td>2002</td>\n",
       "      <td>Nevada</td>\n",
       "      <td>2.9</td>\n",
       "      <td>NaN</td>\n",
       "    </tr>\n",
       "    <tr>\n",
       "      <th>six</th>\n",
       "      <td>2003</td>\n",
       "      <td>Nevada</td>\n",
       "      <td>3.2</td>\n",
       "      <td>NaN</td>\n",
       "    </tr>\n",
       "  </tbody>\n",
       "</table>\n",
       "</div>"
      ],
      "text/plain": [
       "       year   state  pop debt\n",
       "one    2000    Ohio  1.5  NaN\n",
       "two    2001    Ohio  1.7  NaN\n",
       "three  2002    Ohio  3.6  NaN\n",
       "four   2001  Nevada  2.4  NaN\n",
       "five   2002  Nevada  2.9  NaN\n",
       "six    2003  Nevada  3.2  NaN"
      ]
     },
     "execution_count": 31,
     "metadata": {},
     "output_type": "execute_result"
    }
   ],
   "source": [
    "frame2 = pd.DataFrame(data, \n",
    "                      columns=['year', 'state', 'pop', 'debt'],\n",
    "index=['one', 'two', 'three', 'four','five', 'six'])\n",
    " \n",
    "frame2 "
   ]
  },
  {
   "cell_type": "markdown",
   "id": "c190386d",
   "metadata": {},
   "source": [
    "# Displaying Index and Columns Names"
   ]
  },
  {
   "cell_type": "code",
   "execution_count": 22,
   "id": "409c0f34-2eb6-4de4-9fff-aa513c2c71dc",
   "metadata": {},
   "outputs": [
    {
     "name": "stdout",
     "output_type": "stream",
     "text": [
      "Index([1, 2, 3, 4], dtype='int64')\n"
     ]
    }
   ],
   "source": [
    "\n",
    "print(obj2.columns)"
   ]
  },
  {
   "cell_type": "code",
   "execution_count": 23,
   "id": "a48303ce",
   "metadata": {},
   "outputs": [
    {
     "name": "stdout",
     "output_type": "stream",
     "text": [
      "Index(['m', 't', 'w', 'f'], dtype='object')\n"
     ]
    }
   ],
   "source": [
    "print(obj2.index)"
   ]
  },
  {
   "cell_type": "code",
   "execution_count": 24,
   "id": "6adea14c",
   "metadata": {},
   "outputs": [
    {
     "data": {
      "text/plain": [
       "m    NaN\n",
       "t    NaN\n",
       "w    NaN\n",
       "f    NaN\n",
       "Name: 2, dtype: object"
      ]
     },
     "execution_count": 24,
     "metadata": {},
     "output_type": "execute_result"
    }
   ],
   "source": [
    "obj2[2]"
   ]
  },
  {
   "cell_type": "code",
   "execution_count": 33,
   "id": "200b52e9",
   "metadata": {},
   "outputs": [],
   "source": [
    "\n",
    "frame2['dept'] = 10"
   ]
  },
  {
   "cell_type": "markdown",
   "id": "b22fb53f",
   "metadata": {},
   "source": [
    "# Deleting data(row or columns From DataFrame)"
   ]
  },
  {
   "cell_type": "code",
   "execution_count": 4,
   "id": "a770aecb",
   "metadata": {},
   "outputs": [
    {
     "name": "stdout",
     "output_type": "stream",
     "text": [
      "          one  two  three  four\n",
      "Ohio        0    1      2     3\n",
      "Colorado    4    5      6     7\n",
      "Utah        8    9     10    11\n",
      "New Yok,   12   13     14    15\n"
     ]
    }
   ],
   "source": [
    "\n",
    "import numpy as np\n",
    "import pandas as pd\n",
    "data_df = pd.DataFrame(np.arange(16).reshape((4, 4)),   \n",
    "             index=['Ohio', 'Colorado', 'Utah','New Yok,'],\n",
    "             columns=['one', 'two', 'three','four'])\n",
    "print(data_df)"
   ]
  },
  {
   "cell_type": "code",
   "execution_count": 59,
   "id": "3351af13",
   "metadata": {},
   "outputs": [
    {
     "name": "stdout",
     "output_type": "stream",
     "text": [
      "         m   t   w   f   s\n",
      "saliha   0   1   2   3   4\n",
      "lala     5   6   7   8   9\n",
      "mami    10  11  12  13  14\n",
      "mama    15  16  17  18  19\n",
      "papa    20  21  22  23  24\n"
     ]
    }
   ],
   "source": [
    "import numpy as np\n",
    "import pandas as pd\n",
    "data_df=pd.DataFrame(np.arange(25).reshape((5,5)),\n",
    "index=['saliha', 'lala', 'mami', 'mama', 'papa'],\n",
    "columns=['m','t','w','f','s'])\n",
    "print(data_df)"
   ]
  },
  {
   "cell_type": "code",
   "execution_count": 57,
   "id": "d78e2307",
   "metadata": {},
   "outputs": [
    {
     "name": "stdout",
     "output_type": "stream",
     "text": [
      "   mon  tue\n",
      "1    0    1\n",
      "2    2    3\n"
     ]
    }
   ],
   "source": [
    "obj_df=pd.DataFrame(np.arange(4).reshape((2,2)),\n",
    "                    index=['1','2'],\n",
    "                    columns=['mon','tue'])\n",
    "print(obj_df)"
   ]
  },
  {
   "cell_type": "markdown",
   "id": "8bc28033",
   "metadata": {},
   "source": [
    "#   Deleting Columns From DataFrame\n"
   ]
  },
  {
   "cell_type": "code",
   "execution_count": 38,
   "id": "be850b5d",
   "metadata": {},
   "outputs": [
    {
     "name": "stdout",
     "output_type": "stream",
     "text": [
      "         m   t   f   s\n",
      "saliha   0   1   3   4\n",
      "lala     5   6   8   9\n",
      "mami    10  11  13  14\n",
      "mama    15  16  18  19\n",
      "papa    20  21  23  24\n"
     ]
    }
   ],
   "source": [
    "data_df = data_df.drop('w', axis=1)\n",
    "print(data_df)\n"
   ]
  },
  {
   "cell_type": "code",
   "execution_count": 56,
   "id": "2d037dd5",
   "metadata": {},
   "outputs": [
    {
     "name": "stdout",
     "output_type": "stream",
     "text": [
      "   tue\n",
      "1    1\n",
      "2    3\n"
     ]
    }
   ],
   "source": [
    "obj_df = obj_df.drop(\"mon\",axis=1,)\n",
    "print(obj_df)"
   ]
  },
  {
   "cell_type": "code",
   "execution_count": 53,
   "id": "14088a13",
   "metadata": {},
   "outputs": [
    {
     "name": "stdout",
     "output_type": "stream",
     "text": [
      "None\n"
     ]
    }
   ],
   "source": [
    "obj_df = obj_df.drop(\"tue\",axis=1,inplace = True)\n",
    "print(obj_df)"
   ]
  },
  {
   "cell_type": "markdown",
   "id": "5b3e18be",
   "metadata": {},
   "source": [
    "# Deleting specific rows From DataFrame "
   ]
  },
  {
   "cell_type": "code",
   "execution_count": 58,
   "id": "15011520",
   "metadata": {},
   "outputs": [
    {
     "name": "stdout",
     "output_type": "stream",
     "text": [
      "   mon  tue\n",
      "2    2    3\n"
     ]
    }
   ],
   "source": [
    "obj_df = obj_df.drop(\"1\",axis=0,)\n",
    "print(obj_df)"
   ]
  },
  {
   "cell_type": "code",
   "execution_count": 60,
   "id": "1d6be058",
   "metadata": {},
   "outputs": [
    {
     "name": "stdout",
     "output_type": "stream",
     "text": [
      "         m   t   w   f   s\n",
      "saliha   0   1   2   3   4\n",
      "mami    10  11  12  13  14\n",
      "mama    15  16  17  18  19\n",
      "papa    20  21  22  23  24\n"
     ]
    }
   ],
   "source": [
    "data_df = data_df.drop(\"lala\")\n",
    "print(data_df)"
   ]
  },
  {
   "cell_type": "code",
   "execution_count": 61,
   "id": "1a535e2e",
   "metadata": {},
   "outputs": [
    {
     "name": "stdout",
     "output_type": "stream",
     "text": [
      "         m   t   w   f   s\n",
      "saliha   0   1   2   3   4\n",
      "mami    10  11  12  13  14\n",
      "papa    20  21  22  23  24\n"
     ]
    }
   ],
   "source": [
    "data_df = data_df.drop(\"mama\")\n",
    "print(data_df)"
   ]
  },
  {
   "cell_type": "code",
   "execution_count": 62,
   "id": "c954c36b",
   "metadata": {},
   "outputs": [
    {
     "name": "stdout",
     "output_type": "stream",
     "text": [
      "         m   t   w   f   s\n",
      "saliha   0   1   2   3   4\n",
      "papa    20  21  22  23  24\n"
     ]
    }
   ],
   "source": [
    "data_df = data_df.drop(\"mami\")\n",
    "print(data_df)"
   ]
  },
  {
   "cell_type": "markdown",
   "id": "e85ddc5b",
   "metadata": {},
   "source": [
    "# Selection with loc and iloc "
   ]
  },
  {
   "cell_type": "code",
   "execution_count": 63,
   "id": "9007e0a7",
   "metadata": {},
   "outputs": [
    {
     "name": "stdout",
     "output_type": "stream",
     "text": [
      "         m   t   w   f   s\n",
      "saliha   0   1   2   3   4\n",
      "lala     5   6   7   8   9\n",
      "mami    10  11  12  13  14\n",
      "mama    15  16  17  18  19\n",
      "papa    20  21  22  23  24\n"
     ]
    }
   ],
   "source": [
    "import numpy as np\n",
    "import pandas as pd\n",
    "data_df=pd.DataFrame(np.arange(25).reshape((5,5)),\n",
    "index=['saliha', 'lala', 'mami', 'mama', 'papa'],\n",
    "columns=['m','t','w','f','s'])\n",
    "print(data_df)"
   ]
  },
  {
   "cell_type": "code",
   "execution_count": 65,
   "id": "4ec63eea",
   "metadata": {},
   "outputs": [
    {
     "name": "stdout",
     "output_type": "stream",
     "text": [
      "       m   t   w\n",
      "lala   5   6   7\n",
      "mama  15  16  17\n"
     ]
    }
   ],
   "source": [
    "print( data_df.loc[['lala','mama'], ['m',  't','w'] ] )"
   ]
  },
  {
   "cell_type": "code",
   "execution_count": 66,
   "id": "6e64ecbe",
   "metadata": {},
   "outputs": [
    {
     "name": "stdout",
     "output_type": "stream",
     "text": [
      "   mon  tue\n",
      "1    0    1\n",
      "2    2    3\n"
     ]
    }
   ],
   "source": [
    "obj_df=pd.DataFrame(np.arange(4).reshape((2,2)),\n",
    "                    index=['1','2'],\n",
    "                    columns=['mon','tue'])\n",
    "print(obj_df)"
   ]
  },
  {
   "cell_type": "code",
   "execution_count": 69,
   "id": "5c08e177",
   "metadata": {},
   "outputs": [
    {
     "name": "stdout",
     "output_type": "stream",
     "text": [
      "   mon\n",
      "1    0\n"
     ]
    }
   ],
   "source": [
    "print(obj_df.loc[['1'],['mon']])"
   ]
  },
  {
   "cell_type": "code",
   "execution_count": 70,
   "id": "350203e4",
   "metadata": {},
   "outputs": [
    {
     "name": "stdout",
     "output_type": "stream",
     "text": [
      "       f   m   t\n",
      "lala   8   5   6\n",
      "mami  13  10  11\n",
      "mama  18  15  16\n",
      "papa  23  20  21\n"
     ]
    }
   ],
   "source": [
    "print( data_df.iloc[1:, [3, 0, 1] ] ) # using number instead of labels\n",
    "                "
   ]
  },
  {
   "cell_type": "code",
   "execution_count": 71,
   "id": "a2d77c6c",
   "metadata": {},
   "outputs": [
    {
     "name": "stdout",
     "output_type": "stream",
     "text": [
      "        m  t  w  f\n",
      "saliha  0  1  2  3\n"
     ]
    }
   ],
   "source": [
    "print ( data_df.iloc[ :1 , :4 ] )\n"
   ]
  },
  {
   "cell_type": "code",
   "execution_count": null,
   "id": "3eb5f0a7",
   "metadata": {},
   "outputs": [],
   "source": []
  }
 ],
 "metadata": {
  "kernelspec": {
   "display_name": "Python 3 (ipykernel)",
   "language": "python",
   "name": "python3"
  },
  "language_info": {
   "codemirror_mode": {
    "name": "ipython",
    "version": 3
   },
   "file_extension": ".py",
   "mimetype": "text/x-python",
   "name": "python",
   "nbconvert_exporter": "python",
   "pygments_lexer": "ipython3",
   "version": "3.11.7"
  }
 },
 "nbformat": 4,
 "nbformat_minor": 5
}
