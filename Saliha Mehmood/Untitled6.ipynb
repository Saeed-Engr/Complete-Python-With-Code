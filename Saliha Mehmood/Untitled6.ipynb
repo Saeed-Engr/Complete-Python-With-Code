{
 "cells": [
  {
   "cell_type": "code",
   "execution_count": 48,
   "id": "f508de5e-c7d7-4e42-8e5f-23faae0a8251",
   "metadata": {},
   "outputs": [
    {
     "name": "stdout",
     "output_type": "stream",
     "text": [
      "Yep, it's Saliha.\n"
     ]
    }
   ],
   "source": [
    "name = \"Saliha\"\n",
    "\n",
    "if name == \"Saliha\":\n",
    "    \n",
    "    print(\"Yep, it's Saliha.\")"
   ]
  },
  {
   "cell_type": "code",
   "execution_count": 49,
   "id": "0d28eefc-d968-4ff4-b852-af8c3c18f96d",
   "metadata": {},
   "outputs": [
    {
     "name": "stdout",
     "output_type": "stream",
     "text": [
      "Yep, it's Saliha.\n"
     ]
    }
   ],
   "source": [
    "if name == \"Saliha\":\n",
    "     status = \"student\"\n",
    "     kingdom = \"animalia\"\n",
    "     print(\"Yep, it's Saliha.\")"
   ]
  },
  {
   "cell_type": "code",
   "execution_count": 7,
   "id": "bd5823b6-4242-4d93-bb8b-8adecccb46f2",
   "metadata": {},
   "outputs": [
    {
     "name": "stdout",
     "output_type": "stream",
     "text": [
      "one wife\n"
     ]
    }
   ],
   "source": [
    " number_of_husbands = 1\n",
    "\n",
    "if number_of_husbands == 1:\n",
    "    \n",
    "     print(\"one wife\")\n",
    "    "
   ]
  },
  {
   "cell_type": "code",
   "execution_count": 7,
   "id": "557143ec-282a-407d-b069-9196cc61a564",
   "metadata": {},
   "outputs": [
    {
     "name": "stdout",
     "output_type": "stream",
     "text": [
      "one wife\n"
     ]
    }
   ],
   "source": [
    " number_of_husbands = 1\n",
    "\n",
    "if number_of_husbands == 1:\n",
    "    \n",
    "     print(\"one wife\")\n",
    "    "
   ]
  },
  {
   "cell_type": "code",
   "execution_count": 15,
   "id": "20f67e6c-a3e4-4162-97ac-99bea12c8308",
   "metadata": {},
   "outputs": [
    {
     "name": "stdout",
     "output_type": "stream",
     "text": [
      "3 is postive number.\n"
     ]
    }
   ],
   "source": [
    "num = 3\n",
    "if num > 0:\n",
    "    print(num, \"is postive number.\")\n",
    "\n",
    "\n"
   ]
  },
  {
   "cell_type": "code",
   "execution_count": 17,
   "id": "67e4d6f8-8303-47bb-b53e-60b2f2a9982a",
   "metadata": {},
   "outputs": [
    {
     "name": "stdout",
     "output_type": "stream",
     "text": [
      "-1 is a postive number.\n"
     ]
    }
   ],
   "source": [
    "num = -1\n",
    "if num < 0:\n",
    "    print(num, \"is a postive number.\")"
   ]
  },
  {
   "cell_type": "code",
   "execution_count": 19,
   "id": "8bd29687-4e88-4c2d-a598-75dad6d5e51c",
   "metadata": {},
   "outputs": [
    {
     "name": "stdout",
     "output_type": "stream",
     "text": [
      "Yep, it's Saliha.\n"
     ]
    }
   ],
   "source": [
    "name = \"Saliha\"\n",
    "\n",
    "if name == \"Saliha\":\n",
    "     print(\"Yep, it's Saliha.\")\n",
    "        \n",
    "if name != \"Saliha\":\n",
    "     print(\"Nope, not Saliha.\")"
   ]
  },
  {
   "cell_type": "code",
   "execution_count": 25,
   "id": "5cdcb310-6766-406b-900a-44e696a49a9a",
   "metadata": {},
   "outputs": [
    {
     "name": "stdout",
     "output_type": "stream",
     "text": [
      "Yep, it's Saliha.\n"
     ]
    }
   ],
   "source": [
    "if name== \"Saliha\":\n",
    "    print(\"Yep, it's Saliha.\")\n",
    "else:\n",
    "    print(\"Nope, not Saliha.\")"
   ]
  },
  {
   "cell_type": "code",
   "execution_count": 30,
   "id": "377987d4-2a6f-4494-b636-e0170976ecb2",
   "metadata": {},
   "outputs": [
    {
     "name": "stdout",
     "output_type": "stream",
     "text": [
      "postive\n"
     ]
    }
   ],
   "source": [
    "num = 4\n",
    "if num>0:\n",
    "    print(\"postive\")\n",
    "else:\n",
    "    print(\"negative\")"
   ]
  },
  {
   "cell_type": "code",
   "execution_count": 46,
   "id": "ec5bf145-e720-4715-805d-315da20dc972",
   "metadata": {},
   "outputs": [
    {
     "name": "stdout",
     "output_type": "stream",
     "text": [
      "postive\n"
     ]
    }
   ],
   "source": [
    " num = 5\n",
    "if num>0:\n",
    "    print(\"postive\")\n",
    "elif num==0:\n",
    "    print(\"zero\")\n",
    "else:\n",
    "   print(\"negative\")"
   ]
  },
  {
   "cell_type": "code",
   "execution_count": 51,
   "id": "056e5825-db7c-4f6c-b69c-55e9d03e1829",
   "metadata": {},
   "outputs": [
    {
     "name": "stdout",
     "output_type": "stream",
     "text": [
      "it is highest grade\n"
     ]
    }
   ],
   "source": [
    "Highest_Grades = [\"A\",\"B\",\"C\",\"D\"]\n",
    "Grade_to_check =\"A\"\n",
    "for a_high_Grade in Highest_Grades:\n",
    "  if Grade_to_check== a_high_Grade:\n",
    "      print(\"it is highest grade\")"
   ]
  },
  {
   "cell_type": "code",
   "execution_count": 52,
   "id": "da09c010-d559-4584-9a76-0e4f0b7ab71f",
   "metadata": {},
   "outputs": [
    {
     "name": "stdin",
     "output_type": "stream",
     "text": [
      "Enter the number 10\n"
     ]
    },
    {
     "name": "stdout",
     "output_type": "stream",
     "text": [
      " 10 * 1 = 10\n",
      " 10 * 2 = 20\n",
      " 10 * 3 = 30\n",
      " 10 * 4 = 40\n",
      " 10 * 5 = 50\n",
      " 10 * 6 = 60\n",
      " 10 * 7 = 70\n",
      " 10 * 8 = 80\n",
      " 10 * 9 = 90\n",
      " 10 * 10 = 100\n"
     ]
    }
   ],
   "source": [
    "table = int(input(\"Enter the number\"))\n",
    "\n",
    "for num in range(1,11):\n",
    "    print(f\" {table} * {num} = {table*num}\")"
   ]
  },
  {
   "cell_type": "code",
   "execution_count": 53,
   "id": "e8df4924-1e89-4034-b382-41839e4ab425",
   "metadata": {},
   "outputs": [
    {
     "name": "stdin",
     "output_type": "stream",
     "text": [
      "Enter the number 7\n"
     ]
    },
    {
     "name": "stdout",
     "output_type": "stream",
     "text": [
      " \n",
      " 4 * 1 = 4\n",
      " 4 * 2 = 8\n",
      " 4 * 3 = 12\n",
      " 4 * 4 = 16\n",
      " 4 * 5 = 20\n",
      " 4 * 6 = 24\n",
      " 4 * 7 = 28\n",
      " 4 * 8 = 32\n",
      " 4 * 9 = 36\n",
      " 4 * 10 = 40\n",
      " \n",
      " 5 * 1 = 5\n",
      " 5 * 2 = 10\n",
      " 5 * 3 = 15\n",
      " 5 * 4 = 20\n",
      " 5 * 5 = 25\n",
      " 5 * 6 = 30\n",
      " 5 * 7 = 35\n",
      " 5 * 8 = 40\n",
      " 5 * 9 = 45\n",
      " 5 * 10 = 50\n",
      " \n",
      " 6 * 1 = 6\n",
      " 6 * 2 = 12\n",
      " 6 * 3 = 18\n",
      " 6 * 4 = 24\n",
      " 6 * 5 = 30\n",
      " 6 * 6 = 36\n",
      " 6 * 7 = 42\n",
      " 6 * 8 = 48\n",
      " 6 * 9 = 54\n",
      " 6 * 10 = 60\n",
      " \n",
      " 7 * 1 = 7\n",
      " 7 * 2 = 14\n",
      " 7 * 3 = 21\n",
      " 7 * 4 = 28\n",
      " 7 * 5 = 35\n",
      " 7 * 6 = 42\n",
      " 7 * 7 = 49\n",
      " 7 * 8 = 56\n",
      " 7 * 9 = 63\n",
      " 7 * 10 = 70\n"
     ]
    }
   ],
   "source": [
    "table = int(input(\"Enter the number\"))\n",
    "\n",
    "for table in range(4,table+1):\n",
    "    print(\" \")\n",
    "    for num in range(1,11):\n",
    "        \n",
    "        print(f\" {table} * {num} = {table*num}\")"
   ]
  },
  {
   "cell_type": "code",
   "execution_count": null,
   "id": "0488c2b6-0364-442b-a437-fa576a3e6f8a",
   "metadata": {},
   "outputs": [],
   "source": []
  }
 ],
 "metadata": {
  "kernelspec": {
   "display_name": "Python 3 (ipykernel)",
   "language": "python",
   "name": "python3"
  },
  "language_info": {
   "codemirror_mode": {
    "name": "ipython",
    "version": 3
   },
   "file_extension": ".py",
   "mimetype": "text/x-python",
   "name": "python",
   "nbconvert_exporter": "python",
   "pygments_lexer": "ipython3",
   "version": "3.11.7"
  }
 },
 "nbformat": 4,
 "nbformat_minor": 5
}
