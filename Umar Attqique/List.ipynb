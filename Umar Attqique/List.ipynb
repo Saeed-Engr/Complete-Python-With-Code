{
 "cells": [
  {
   "cell_type": "markdown",
   "id": "24402b85",
   "metadata": {},
   "source": [
    "## List"
   ]
  },
  {
   "cell_type": "code",
   "execution_count": 5,
   "id": "4eb32b0d-ee5e-48f5-b927-be0886e4ca6a",
   "metadata": {},
   "outputs": [
    {
     "name": "stdout",
     "output_type": "stream",
     "text": [
      "['umar', 'Attique', 'Khan', 12, True, 13, 34]\n",
      "<class 'list'>\n"
     ]
    }
   ],
   "source": [
    "list = ['umar',\"Attique\",'Khan',12,True,13,34]\n",
    "print(list)\n",
    "print(type(list))"
   ]
  },
  {
   "cell_type": "code",
   "execution_count": 54,
   "id": "482f7c40-e7b8-4249-8e04-d4544e647166",
   "metadata": {},
   "outputs": [
    {
     "name": "stdout",
     "output_type": "stream",
     "text": [
      "['banana', 'mango', 'cherry', 'apple', 'banana', 'apple', 'grapes', 'apple', 'dates', 'apricot']\n",
      "['cabbage', 'turnip', 'carrot', 'reddish', 'pumpkin', 'angled luffa', 'cabbagel', 'cucumber', 'potato']\n",
      "[12, 32, 43, 54, 65, 67, 34, 32]\n",
      "<class 'list'>\n",
      "<class 'list'>\n",
      "<class 'list'>\n"
     ]
    }
   ],
   "source": [
    "fru = ['banana','mango','cherry','apple','banana','apple','grapes','apple','dates','apricot']\n",
    "veg = ['cabbage','turnip','carrot','reddish','pumpkin','angled luffa','cabbagel','cucumber','potato']\n",
    "num = [12,32,43,54,65,67,34,32]\n",
    "print(fru)\n",
    "print(veg)\n",
    "print(num)\n",
    "print(type(fru))\n",
    "print(type(veg))\n",
    "print(type(num))"
   ]
  },
  {
   "cell_type": "markdown",
   "id": "4670eb2a",
   "metadata": {},
   "source": [
    "## Using `Append()`:\n",
    "   It is used to add a single item at the end of list."
   ]
  },
  {
   "cell_type": "code",
   "execution_count": 55,
   "id": "c151df0c-208f-4314-a00a-870a8c9a0ceb",
   "metadata": {},
   "outputs": [
    {
     "name": "stdout",
     "output_type": "stream",
     "text": [
      "['banana', 'mango', 'cherry', 'apple', 'banana', 'apple', 'grapes', 'apple', 'dates', 'apricot', 'plum']\n",
      "['cabbage', 'turnip', 'carrot', 'reddish', 'pumpkin', 'angled luffa', 'cabbagel', 'cucumber', 'potato', 'Brinjle']\n",
      "[12, 32, 43, 54, 65, 67, 34, 32, 100]\n"
     ]
    }
   ],
   "source": [
    "fru.append('plum')\n",
    "print(fru)\n",
    "veg.append('Brinjle')\n",
    "print(veg)\n",
    "num.append(100)\n",
    "print(num)"
   ]
  },
  {
   "cell_type": "markdown",
   "id": "554be532",
   "metadata": {},
   "source": [
    "## Using `len()`:\n",
    "   It is used to check the number of elements present in a list."
   ]
  },
  {
   "cell_type": "code",
   "execution_count": 12,
   "id": "4ca00cc2-cf01-4c50-90ed-bc99692f70d5",
   "metadata": {},
   "outputs": [
    {
     "name": "stdout",
     "output_type": "stream",
     "text": [
      "13\n",
      "11\n",
      "9\n"
     ]
    }
   ],
   "source": [
    "print(len(fru))\n",
    "print(len(veg))\n",
    "print(len(num))"
   ]
  },
  {
   "cell_type": "markdown",
   "id": "a280e14d",
   "metadata": {},
   "source": [
    "## Using `Extend()`:\n",
    " It is used to add a list of item in an existing list."
   ]
  },
  {
   "cell_type": "code",
   "execution_count": 56,
   "id": "7512fa03",
   "metadata": {},
   "outputs": [
    {
     "name": "stdout",
     "output_type": "stream",
     "text": [
      "['cabbage', 'turnip', 'carrot', 'reddish', 'pumpkin', 'angled luffa', 'cabbagel', 'cucumber', 'potato', 'Brinjle', 'lady finger', 'tomato', 'spinach']\n",
      "['banana', 'mango', 'cherry', 'apple', 'banana', 'apple', 'grapes', 'apple', 'dates', 'apricot', 'plum', 'pomegranate', 'peach', 'guava']\n",
      "[12, 32, 43, 54, 65, 67, 34, 32, 100, 12, 23, 43, 54]\n"
     ]
    }
   ],
   "source": [
    "veg.extend(['lady finger','tomato','spinach'])\n",
    "print(veg)\n",
    "fru.extend(['pomegranate','peach','guava'])\n",
    "print(fru)\n",
    "num.extend([12,23,43,54])\n",
    "print(num)"
   ]
  },
  {
   "cell_type": "markdown",
   "id": "dd3162b8",
   "metadata": {},
   "source": [
    "## Using `Remove()`:\n",
    "It is used to remove a specified element in a list."
   ]
  },
  {
   "cell_type": "code",
   "execution_count": 57,
   "id": "c0971076",
   "metadata": {},
   "outputs": [
    {
     "name": "stdout",
     "output_type": "stream",
     "text": [
      "['turnip', 'carrot', 'reddish', 'pumpkin', 'angled luffa', 'cabbagel', 'cucumber', 'potato', 'Brinjle', 'lady finger', 'tomato', 'spinach']\n",
      "['banana', 'mango', 'cherry', 'apple', 'banana', 'apple', 'grapes', 'apple', 'dates', 'apricot', 'plum', 'peach', 'guava']\n",
      "[32, 43, 54, 65, 67, 34, 32, 100, 12, 23, 43, 54]\n"
     ]
    }
   ],
   "source": [
    "veg.remove('cabbage')\n",
    "print(veg)\n",
    "fru.remove('pomegranate')\n",
    "print(fru)\n",
    "num.remove(12)\n",
    "print(num)\n"
   ]
  },
  {
   "cell_type": "markdown",
   "id": "4c44bc58",
   "metadata": {},
   "source": [
    "## Using `Insert()`:\n",
    "It is used to add a single item in a list at a specified index position."
   ]
  },
  {
   "cell_type": "code",
   "execution_count": 58,
   "id": "8243156f",
   "metadata": {},
   "outputs": [
    {
     "name": "stdout",
     "output_type": "stream",
     "text": [
      "['Tomato', 'turnip', 'carrot', 'reddish', 'pumpkin', 'angled luffa', 'cabbagel', 'cucumber', 'potato', 'Brinjle', 'lady finger', 'tomato', 'spinach']\n",
      "['banana', 'Guava', 'mango', 'cherry', 'apple', 'banana', 'apple', 'grapes', 'apple', 'dates', 'apricot', 'plum', 'peach', 'guava']\n",
      "[32, 43, 54, 65, 67, 1000000, 34, 32, 100, 12, 23, 43, 54]\n"
     ]
    }
   ],
   "source": [
    "veg.insert(0,'Tomato')\n",
    "print(veg)\n",
    "fru.insert(1,'Guava')\n",
    "print(fru)\n",
    "num.insert(5,1000000)\n",
    "print(num)"
   ]
  },
  {
   "cell_type": "markdown",
   "id": "2dc40d57",
   "metadata": {},
   "source": [
    "## Using `count()`:\n",
    "It is used to count the occurence of an item in a list."
   ]
  },
  {
   "cell_type": "code",
   "execution_count": 59,
   "id": "f3269e13",
   "metadata": {},
   "outputs": [
    {
     "name": "stdout",
     "output_type": "stream",
     "text": [
      "1\n",
      "3\n",
      "0\n"
     ]
    }
   ],
   "source": [
    "veg1 = veg.count('carrot')\n",
    "print(veg1)\n",
    "fru1 = fru.count('apple')\n",
    "print(fru1)\n",
    "num1 = num.count(101)\n",
    "print(num1)"
   ]
  },
  {
   "cell_type": "markdown",
   "id": "9b962251",
   "metadata": {},
   "source": [
    "## Using `pop()`:\n",
    "It is used to remove the single element in alist by using indexing.If indexing is not given then last item is removed in a list."
   ]
  },
  {
   "cell_type": "code",
   "execution_count": 60,
   "id": "89fcb52b",
   "metadata": {},
   "outputs": [
    {
     "name": "stdout",
     "output_type": "stream",
     "text": [
      "angled luffa\n",
      "['Tomato', 'turnip', 'carrot', 'reddish', 'pumpkin', 'cabbagel', 'cucumber', 'potato', 'Brinjle', 'lady finger', 'tomato', 'spinach']\n",
      "3\n",
      "['banana', 'Guava', 'mango', 'cherry', 'apple', 'banana', 'apple', 'grapes', 'apple', 'dates', 'apricot', 'plum', 'peach']\n",
      "32\n",
      "[43, 54, 65, 67, 1000000, 34, 32, 100, 12, 23, 43, 54]\n"
     ]
    }
   ],
   "source": [
    "veg2 = veg.pop(5)\n",
    "print(veg2)\n",
    "print(veg)\n",
    "fru2 = fru.pop()\n",
    "print(fru1)\n",
    "print(fru)\n",
    "num2 = num.pop(0)\n",
    "print(num2)\n",
    "print(num)"
   ]
  },
  {
   "cell_type": "markdown",
   "id": "2fd53e34",
   "metadata": {},
   "source": [
    "## Using `Sort()`:\n",
    "It is used to manage the items in a systematic way."
   ]
  },
  {
   "cell_type": "code",
   "execution_count": 65,
   "id": "9ee627b2",
   "metadata": {},
   "outputs": [
    {
     "name": "stdout",
     "output_type": "stream",
     "text": [
      "['Brinjle', 'Tomato', 'cabbagel', 'carrot', 'cucumber', 'lady finger', 'potato', 'pumpkin', 'reddish', 'spinach', 'tomato', 'turnip']\n",
      "['Guava', 'apple', 'apple', 'apple', 'apricot', 'banana', 'banana', 'cherry', 'dates', 'grapes', 'mango', 'peach', 'plum']\n",
      "[1000000, 100, 67, 65, 54, 54, 43, 43, 34, 32, 23, 12]\n"
     ]
    }
   ],
   "source": [
    "veg.sort()\n",
    "print(veg)\n",
    "fru.sort()\n",
    "print(fru)\n",
    "num.sort(reverse=True)\n",
    "print(num)"
   ]
  },
  {
   "cell_type": "markdown",
   "id": "ea57d995",
   "metadata": {},
   "source": [
    "## Using `copy()`:"
   ]
  },
  {
   "cell_type": "code",
   "execution_count": 85,
   "id": "9ba3e2dc",
   "metadata": {},
   "outputs": [
    {
     "name": "stdout",
     "output_type": "stream",
     "text": [
      "[1000000, 100, 67, 65, 54, 54, 43, 43, 34, 32, 23, 12]\n",
      "[1000000, 100, 67, 65, 54, 54, 43, 43, 34, 32, 23, 12]\n",
      "After updataing the list\n",
      "[1000000, 100, 67, 65, 54, 54, 43, 43, 34, 32, 23, 12]\n",
      "[1000000, 100, 67, 65, 54, 54, 43, 43, 34, 32, 23, 12, 23]\n"
     ]
    }
   ],
   "source": [
    "copied_list = num.copy() # It can't print the updated items in a list\n",
    "print(copied_list)\n",
    "list2 = num # It can print the updated item in a list\n",
    "print(list2)\n",
    "num.append(23)\n",
    "print(\"After updataing the list\")\n",
    "print(copied_list)\n",
    "print(list2)"
   ]
  },
  {
   "cell_type": "markdown",
   "id": "258aec59",
   "metadata": {},
   "source": [
    "## Slicing in list\n",
    "- There are two types of slicing.\n",
    "- 1. Positive slicing(from left to right).\n",
    "- 2. Negative slicing(from right to left but print the item from left to right)."
   ]
  },
  {
   "cell_type": "code",
   "execution_count": 66,
   "id": "f835cad7",
   "metadata": {},
   "outputs": [
    {
     "name": "stdout",
     "output_type": "stream",
     "text": [
      "['Brinjle', 'Tomato', 'cabbagel', 'carrot', 'cucumber', 'lady finger', 'potato', 'pumpkin', 'reddish', 'spinach', 'tomato', 'turnip']\n",
      "['Guava', 'apple', 'apple', 'apple', 'apricot', 'banana', 'banana', 'cherry', 'dates', 'grapes', 'mango', 'peach', 'plum']\n",
      "[1000000, 100, 67, 65, 54, 54, 43, 43, 34, 32, 23, 12]\n"
     ]
    }
   ],
   "source": [
    "print(veg)\n",
    "print(fru)\n",
    "print(num)"
   ]
  },
  {
   "cell_type": "code",
   "execution_count": 80,
   "id": "aebacc56",
   "metadata": {},
   "outputs": [
    {
     "name": "stdout",
     "output_type": "stream",
     "text": [
      "['Tomato', 'cabbagel', 'carrot', 'cucumber']\n",
      "[1000000, 100, 67, 65, 54, 54, 43, 43, 34, 32, 23, 12]\n",
      "['potato', 'pumpkin', 'reddish', 'spinach', 'tomato', 'turnip']\n",
      "['Guava', 'apple', 'apple', 'apple', 'apricot']\n",
      "['pumpkin', 'reddish', 'spinach', 'tomato']\n",
      "['Brinjle', 'Tomato', 'cabbagel', 'carrot', 'cucumber', 'lady finger', 'potato', 'pumpkin', 'reddish', 'spinach', 'tomato']\n"
     ]
    }
   ],
   "source": [
    "print(veg[1:5]) # print items from index 1 to 5 by positive slicing\n",
    "print(num[:]) # print the whole items of a list\n",
    "print(veg[6:])\n",
    "print(fru[:5])\n",
    "print(veg[-5:-1]) # slicing by using negative indexing\n",
    "print(veg[:-1]) # Print the whole items\n"
   ]
  }
 ],
 "metadata": {
  "kernelspec": {
   "display_name": "Python 3 (ipykernel)",
   "language": "python",
   "name": "python3"
  },
  "language_info": {
   "codemirror_mode": {
    "name": "ipython",
    "version": 3
   },
   "file_extension": ".py",
   "mimetype": "text/x-python",
   "name": "python",
   "nbconvert_exporter": "python",
   "pygments_lexer": "ipython3",
   "version": "3.11.0"
  }
 },
 "nbformat": 4,
 "nbformat_minor": 5
}
