{
 "cells": [
  {
   "cell_type": "markdown",
   "metadata": {},
   "source": [
    "## Numpy"
   ]
  },
  {
   "cell_type": "code",
   "execution_count": 1,
   "metadata": {},
   "outputs": [],
   "source": [
    "import numpy as np"
   ]
  },
  {
   "cell_type": "markdown",
   "metadata": {},
   "source": [
    "## Zero(D) array:\n",
    "- The array that contains only one value."
   ]
  },
  {
   "cell_type": "code",
   "execution_count": 8,
   "metadata": {},
   "outputs": [
    {
     "name": "stdout",
     "output_type": "stream",
     "text": [
      "1\n",
      "<class 'numpy.ndarray'>\n"
     ]
    }
   ],
   "source": [
    "s_arr = np.array(1)\n",
    "print(s_arr)\n",
    "print(type(s_arr)) # to check array class"
   ]
  },
  {
   "cell_type": "markdown",
   "metadata": {},
   "source": [
    "## One (D) Array:\n",
    "- They are also known as single or one dimensional array."
   ]
  },
  {
   "cell_type": "code",
   "execution_count": 55,
   "metadata": {},
   "outputs": [
    {
     "name": "stdout",
     "output_type": "stream",
     "text": [
      "[1 2 3 4]\n",
      "4\n",
      "Array after concatenation :  [1 2 3 4 5 6 7 8]\n",
      "Dinmension of array is  1\n"
     ]
    }
   ],
   "source": [
    "arr = np.array([1,2,3,4])\n",
    "arr2 = np.array([5,6,7,8])\n",
    "print(arr)\n",
    "print(len(arr)) #  to check length of array\n",
    "\n",
    "result = np.concatenate((arr,arr2)) # Concatenation of array by using method.\n",
    "print(\"Array after concatenation : \",result)\n",
    "\n",
    "print(\"Dinmension of array is \",arr.ndim)"
   ]
  },
  {
   "cell_type": "markdown",
   "metadata": {},
   "source": [
    "## Two (D) Array:\n",
    "- The type in which elements are defined in on dimensional array."
   ]
  },
  {
   "cell_type": "code",
   "execution_count": 25,
   "metadata": {},
   "outputs": [
    {
     "name": "stdout",
     "output_type": "stream",
     "text": [
      "[[ 1  2  3  4  5]\n",
      " [ 6  7  8  9 10]]\n",
      "Dinmension of array is  2\n",
      "Transposed array is \n",
      "[[ 1  6]\n",
      " [ 2  7]\n",
      " [ 3  8]\n",
      " [ 4  9]\n",
      " [ 5 10]]\n",
      "The sum will be :  55\n",
      "The mean will be :  [3.5 4.5 5.5 6.5 7.5]\n"
     ]
    }
   ],
   "source": [
    "arr = np.array([[1,2,3,4,5],[6,7,8,9,10]]) # Remeber that both of the sublists must be of equal length\n",
    "print(arr)\n",
    "\n",
    "print(\"Dinmension of array is \",arr.ndim)\n",
    "\n",
    "# Use of `Transpose()` method \n",
    "transpose_arr = np.transpose(arr)\n",
    "print(\"Transposed array is \")\n",
    "print(transpose_arr)\n",
    "\n",
    "# Use of `sum() method`\n",
    "sum = np.sum(arr)\n",
    "print(\"The sum will be : \",sum)\n",
    "\n",
    "# Use of `mean()` method\n",
    "mean = np.mean(arr,axis=0)\n",
    "print(\"The mean will be : \",mean)"
   ]
  },
  {
   "cell_type": "markdown",
   "metadata": {},
   "source": [
    "## Use of some methods of numpy"
   ]
  },
  {
   "cell_type": "code",
   "execution_count": 43,
   "metadata": {},
   "outputs": [
    {
     "name": "stdout",
     "output_type": "stream",
     "text": [
      "[[ 1  2  3  4]\n",
      " [ 4  5  6  7]\n",
      " [ 8  9 10 11]]\n",
      "The shape will be :  (3, 4)\n"
     ]
    }
   ],
   "source": [
    "d_2 = np.array([[1,2,3,4],\n",
    "                [4,5,6,7],\n",
    "                [8,9,10,11]])\n",
    "print(d_2)\n",
    "print(\"The shape will be : \",d_2.shape)"
   ]
  },
  {
   "cell_type": "code",
   "execution_count": 44,
   "metadata": {},
   "outputs": [
    {
     "name": "stdout",
     "output_type": "stream",
     "text": [
      "The minimum value is :  1\n"
     ]
    }
   ],
   "source": [
    "# use of `min()` method\n",
    "min = np.min(d_2)\n",
    "print(\"The minimum value is : \",min)"
   ]
  },
  {
   "cell_type": "code",
   "execution_count": 45,
   "metadata": {},
   "outputs": [
    {
     "name": "stdout",
     "output_type": "stream",
     "text": [
      "Maximum value is :  11\n"
     ]
    }
   ],
   "source": [
    "# Use of `max()` method\n",
    "max = np.max(d_2)\n",
    "print(\"Maximum value is : \",max)"
   ]
  },
  {
   "cell_type": "code",
   "execution_count": 46,
   "metadata": {},
   "outputs": [
    {
     "name": "stdout",
     "output_type": "stream",
     "text": [
      "Standard deviation will be :  3.0776975521032313\n"
     ]
    }
   ],
   "source": [
    "#calculate standard deviation of array\n",
    "sdeviation = np.std(d_2)\n",
    "print(\"Standard deviation will be : \",sdeviation)"
   ]
  },
  {
   "cell_type": "code",
   "execution_count": 47,
   "metadata": {},
   "outputs": [
    {
     "name": "stdout",
     "output_type": "stream",
     "text": [
      "Flattened array is :  [ 1  2  3  4  4  5  6  7  8  9 10 11]\n"
     ]
    }
   ],
   "source": [
    "# Flatten the array in single dimension by suin `ravel()` method\n",
    "flatten =np.ravel(d_2)\n",
    "print(\"Flattened array is : \",flatten)"
   ]
  },
  {
   "cell_type": "code",
   "execution_count": 48,
   "metadata": {},
   "outputs": [
    {
     "name": "stdout",
     "output_type": "stream",
     "text": [
      "The unique elements will be :  [ 1  2  3  4  5  6  7  8  9 10 11]\n"
     ]
    }
   ],
   "source": [
    "# using of `Uniaue()` method \n",
    "unique = np.unique(d_2)\n",
    "print(\"The unique elements will be : \",unique)"
   ]
  },
  {
   "cell_type": "code",
   "execution_count": 52,
   "metadata": {},
   "outputs": [
    {
     "name": "stdout",
     "output_type": "stream",
     "text": [
      "Cumulative sum will be \n",
      "[[ 1  2  3  4]\n",
      " [ 5  7  9 11]\n",
      " [13 16 19 22]]\n"
     ]
    }
   ],
   "source": [
    "# using of `cumulative_sum()` method\n",
    "cumsum = np.cumsum(d_2,axis=0)\n",
    "print(\"Cumulative sum will be \")\n",
    "print(cumsum)"
   ]
  },
  {
   "cell_type": "code",
   "execution_count": 53,
   "metadata": {},
   "outputs": [
    {
     "name": "stdout",
     "output_type": "stream",
     "text": [
      "Cumulative sum will be \n",
      "[[ 1  3  6 10]\n",
      " [ 4  9 15 22]\n",
      " [ 8 17 27 38]]\n"
     ]
    }
   ],
   "source": [
    "# using of `cumulative_sum()` method\n",
    "cumsum = np.cumsum(d_2,axis=1)\n",
    "print(\"Cumulative sum will be \")\n",
    "print(cumsum)"
   ]
  },
  {
   "cell_type": "code",
   "execution_count": 70,
   "metadata": {},
   "outputs": [
    {
     "data": {
      "text/plain": [
       "array([[0, 1, 2, 3],\n",
       "       [0, 1, 2, 3],\n",
       "       [0, 1, 2, 3]], dtype=int64)"
      ]
     },
     "execution_count": 70,
     "metadata": {},
     "output_type": "execute_result"
    }
   ],
   "source": [
    "np.argsort(d_2)"
   ]
  },
  {
   "cell_type": "markdown",
   "metadata": {},
   "source": [
    "## Perform some other methods"
   ]
  },
  {
   "cell_type": "code",
   "execution_count": 60,
   "metadata": {},
   "outputs": [
    {
     "data": {
      "text/plain": [
       "array(['apple', 'banana', 'orange'], dtype='<U6')"
      ]
     },
     "execution_count": 60,
     "metadata": {},
     "output_type": "execute_result"
    }
   ],
   "source": [
    "arr1 = np.array(['apple', 'banana', 'orange'])\n",
    "arr1"
   ]
  },
  {
   "cell_type": "code",
   "execution_count": 71,
   "metadata": {},
   "outputs": [
    {
     "name": "stdout",
     "output_type": "stream",
     "text": [
      "Shape of array is :  (3, 4)\n",
      "Dta type of array :  <U11\n"
     ]
    }
   ],
   "source": [
    "arr = np.array([[1,2,4,'umar'],\n",
    "    [5,'Eng','Umar','Attique'],\n",
    "    [7,'Eng','Sir','Saeed']])\n",
    "print(\"Shape of array is : \",arr.shape)\n",
    "print(\"Dta type of array : \",arr.dtype)"
   ]
  },
  {
   "cell_type": "code",
   "execution_count": 65,
   "metadata": {},
   "outputs": [
    {
     "name": "stdout",
     "output_type": "stream",
     "text": [
      "Number of elements in the array: 12\n"
     ]
    }
   ],
   "source": [
    "# 2. Count the number of elements in the array\n",
    "num_elements = np.size(arr)\n",
    "print(\"Number of elements in the array:\", num_elements)"
   ]
  },
  {
   "cell_type": "code",
   "execution_count": 68,
   "metadata": {},
   "outputs": [
    {
     "name": "stdout",
     "output_type": "stream",
     "text": [
      "Indices that would sort the array \n"
     ]
    },
    {
     "data": {
      "text/plain": [
       "array([[0, 1, 2, 3],\n",
       "       [0, 3, 1, 2],\n",
       "       [0, 1, 3, 2]], dtype=int64)"
      ]
     },
     "execution_count": 68,
     "metadata": {},
     "output_type": "execute_result"
    }
   ],
   "source": [
    "# Find the indices that wouls sort the array by usnig `argsort()` method\n",
    "indices = np.argsort(arr)\n",
    "print(\"Indices that would sort the array \")\n",
    "indices"
   ]
  },
  {
   "cell_type": "code",
   "execution_count": 72,
   "metadata": {},
   "outputs": [
    {
     "name": "stdout",
     "output_type": "stream",
     "text": [
      "Numeric array will be \n",
      "[['1' '2' '4' '1']\n",
      " ['5' '1' '1' '1']\n",
      " ['7' '1' '1' '1']]\n"
     ]
    }
   ],
   "source": [
    "# replace non_numeric value in any digit you want\n",
    "numeric_arr = np.where(np.char.isdigit(arr),arr,1)\n",
    "print(\"Numeric array will be \")\n",
    "print(numeric_arr)"
   ]
  },
  {
   "cell_type": "code",
   "execution_count": 73,
   "metadata": {},
   "outputs": [
    {
     "name": "stdout",
     "output_type": "stream",
     "text": [
      "All elements converted into string \n",
      "[['1' '2' '4' 'umar']\n",
      " ['5' 'Eng' 'Umar' 'Attique']\n",
      " ['7' 'Eng' 'Sir' 'Saeed']]\n"
     ]
    }
   ],
   "source": [
    "# Convert all elements into string type\n",
    "arr_str = np.char.array(arr)\n",
    "print(\"All elements converted into string \")\n",
    "print(arr_str)"
   ]
  },
  {
   "cell_type": "code",
   "execution_count": 75,
   "metadata": {},
   "outputs": [
    {
     "name": "stdout",
     "output_type": "stream",
     "text": [
      "\n",
      "Unique elements in the array:\n",
      "['1' '2' '4' '5' '7' 'Attique' 'Eng' 'Saeed' 'Sir' 'Umar' 'umar']\n",
      "Counts of unique elements:\n",
      "[1 1 1 1 1 1 2 1 1 1 1]\n"
     ]
    }
   ],
   "source": [
    "# Uniaue elements with counting\n",
    "unique_elements, counts = np.unique(arr, return_counts=True)\n",
    "print(\"\\nUnique elements in the array:\")\n",
    "print(unique_elements)\n",
    "print(\"Counts of unique elements:\")\n",
    "print(counts)"
   ]
  },
  {
   "cell_type": "markdown",
   "metadata": {},
   "source": [
    "## Three(D) array"
   ]
  },
  {
   "cell_type": "code",
   "execution_count": 3,
   "metadata": {},
   "outputs": [
    {
     "name": "stdout",
     "output_type": "stream",
     "text": [
      "[[[ 1  2  3  2  4]\n",
      "  [ 4  5  6  4  2]\n",
      "  [ 7  8  9 10 11]\n",
      "  [ 4  6  7  4  3]]]\n",
      "Number of dimensions :  3\n"
     ]
    }
   ],
   "source": [
    "arr_3 = np.array([[[1,2,3,2,4],\n",
    "        [4,5,6,4,2],\n",
    "        [7,8,9,10,11],\n",
    "        [4,6,7,4,3]]])\n",
    "print(arr_3)\n",
    "print(\"Number of dimensions : \", arr_3.ndim)"
   ]
  },
  {
   "cell_type": "code",
   "execution_count": 89,
   "metadata": {},
   "outputs": [
    {
     "name": "stdout",
     "output_type": "stream",
     "text": [
      "Reshaped array \n",
      "[[[ 1  2  3  2  4]\n",
      "  [ 4  5  6  4  2]]\n",
      "\n",
      " [[ 7  8  9 10 11]\n",
      "  [ 4  6  7  4  3]]]\n",
      " Other form of Reshaped array \n",
      "[[ 1  2  3  2  4  4  5  6  4  2]\n",
      " [ 7  8  9 10 11  4  6  7  4  3]]\n"
     ]
    }
   ],
   "source": [
    "# Using of `reshape()` method\n",
    "reshaped = arr_3.reshape(2,2,5)\n",
    "print(\"Reshaped array \")\n",
    "print(reshaped)\n",
    "\n",
    "reshaped = arr_3.reshape(2,10)\n",
    "print(\" Other form of Reshaped array \")\n",
    "print(reshaped)"
   ]
  },
  {
   "cell_type": "code",
   "execution_count": 93,
   "metadata": {},
   "outputs": [
    {
     "name": "stdout",
     "output_type": "stream",
     "text": [
      "Random Array is\n",
      "[[ 1  8 10]\n",
      " [ 8  7  5]\n",
      " [ 5 10  9]\n",
      " [ 1  1  7]]\n"
     ]
    }
   ],
   "source": [
    "# generating matrix with random numbers\n",
    "random_array = np.random.randint(1,11,size=(4,3))\n",
    "print(\"Random Array is\")\n",
    "print(random_array)"
   ]
  },
  {
   "cell_type": "markdown",
   "metadata": {},
   "source": [
    "### Indexing and slicing"
   ]
  },
  {
   "cell_type": "code",
   "execution_count": 107,
   "metadata": {},
   "outputs": [
    {
     "data": {
      "text/plain": [
       "array([[[ 1,  2,  3,  2,  4],\n",
       "        [ 4,  5,  6,  4,  2],\n",
       "        [ 7,  8,  9, 10, 11],\n",
       "        [ 4,  6,  7,  4,  3]]])"
      ]
     },
     "execution_count": 107,
     "metadata": {},
     "output_type": "execute_result"
    }
   ],
   "source": [
    "arr_3"
   ]
  },
  {
   "cell_type": "code",
   "execution_count": 5,
   "metadata": {},
   "outputs": [
    {
     "name": "stdout",
     "output_type": "stream",
     "text": [
      "Element at (0, 3): 4\n",
      "Complete row at index 2: [ 9 10 11 12]\n",
      "Complete column at index 1: [ 2  6 10 14]\n"
     ]
    }
   ],
   "source": [
    "import numpy as np\n",
    "\n",
    "# Assuming arr_3 is defined like this for demonstration purposes\n",
    "arr_3 = np.array([\n",
    "    [1, 2, 3, 4],\n",
    "    [5, 6, 7, 8],\n",
    "    [9, 10, 11, 12],\n",
    "    [13, 14, 15, 16]\n",
    "])\n",
    "\n",
    "# Accessing an element\n",
    "element = arr_3[0, 3]  # Accessing element at row 0, column 3\n",
    "print(\"Element at (0, 3):\", element)\n",
    "\n",
    "# Accessing a complete row\n",
    "row = arr_3[2, :]  # Accessing the complete row at index 2 (third row)\n",
    "print(\"Complete row at index 2:\", row)\n",
    "\n",
    "# Accessing a complete column\n",
    "column = arr_3[:, 1]  # Accessing the complete column at index 1 (second column)\n",
    "print(\"Complete column at index 1:\", column)\n"
   ]
  }
 ],
 "metadata": {
  "kernelspec": {
   "display_name": "python_eda",
   "language": "python",
   "name": "python3"
  },
  "language_info": {
   "codemirror_mode": {
    "name": "ipython",
    "version": 3
   },
   "file_extension": ".py",
   "mimetype": "text/x-python",
   "name": "python",
   "nbconvert_exporter": "python",
   "pygments_lexer": "ipython3",
   "version": "3.11.0"
  }
 },
 "nbformat": 4,
 "nbformat_minor": 2
}
