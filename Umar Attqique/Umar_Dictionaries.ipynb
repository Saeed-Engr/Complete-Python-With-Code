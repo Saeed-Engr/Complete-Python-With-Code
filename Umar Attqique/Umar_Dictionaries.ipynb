{
 "cells": [
  {
   "cell_type": "markdown",
   "id": "bb5a6257",
   "metadata": {},
   "source": [
    "## Dictonaries {}:\n",
    "- Dictionaries are collections of key-value pairs.\n",
    "- They are defined by using curly braces {}.\n",
    "- Keys must be unique and immutable.\n",
    "- Values can be of any data type.\n",
    "- Keys must be unique.\n",
    "- Only Values in dictionaries are immutable."
   ]
  },
  {
   "cell_type": "code",
   "execution_count": 19,
   "id": "4e2edcd7",
   "metadata": {},
   "outputs": [
    {
     "name": "stdout",
     "output_type": "stream",
     "text": [
      "{'name': 'umar', 'roll no': 1199, 'section': '1M'}\n",
      "<class 'dict'>\n",
      "3\n"
     ]
    }
   ],
   "source": [
    "dict = {'name':'umar','roll no':1199,'section':'1M'}\n",
    "dict1 = {'name':'Ashir','age':12,'class':8}\n",
    "print(dict)\n",
    "# check the type \n",
    "print(type(dict))\n",
    "# check the number of items\n",
    "print(len(dict))"
   ]
  },
  {
   "cell_type": "code",
   "execution_count": 20,
   "id": "9e1bb62f",
   "metadata": {},
   "outputs": [
    {
     "name": "stdout",
     "output_type": "stream",
     "text": [
      "dict_values(['umar', 1199, '1M'])\n",
      "dict_keys(['name', 'roll no', 'section'])\n"
     ]
    }
   ],
   "source": [
    "print(dict.values()) # print all the values\n",
    "print(dict.keys()) # print all the keys"
   ]
  },
  {
   "cell_type": "code",
   "execution_count": 45,
   "id": "86f83ed2",
   "metadata": {},
   "outputs": [
    {
     "name": "stdout",
     "output_type": "stream",
     "text": [
      "{'name': 'Ashir', 'roll no': 1199, 'section': '1M', 'age': 12, 'class': 8, 'student': 'Arsalan', 'grade': 12, 'marks': 8}\n"
     ]
    }
   ],
   "source": [
    "# Concatenation of dictionaries\n",
    "dict = {'name':'umar','roll no':1199,'section':'1M'}\n",
    "dict1 = {'name':'Ashir','age':12,'class':8}\n",
    "dict2 = {'student':'Arsalan','grade':12,'marks':8}\n",
    "concatenated_dict = {**dict,**dict1,**dict2}\n",
    "print(concatenated_dict)"
   ]
  },
  {
   "cell_type": "code",
   "execution_count": 38,
   "id": "ad868b23",
   "metadata": {},
   "outputs": [
    {
     "name": "stdout",
     "output_type": "stream",
     "text": [
      "{'name': 'Ashir', 'age': 12, 'class': 8, 'student': 'Arsalan', 'grade': 12, 'marks': 8}\n"
     ]
    }
   ],
   "source": [
    "# we can also concatenate the sring by using update method\n",
    "dict1.update(dict2)\n",
    "print(dict1)"
   ]
  },
  {
   "cell_type": "code",
   "execution_count": 39,
   "id": "23fe836c",
   "metadata": {},
   "outputs": [
    {
     "name": "stdout",
     "output_type": "stream",
     "text": [
      "{'name': 'umar', 'roll no': 1199, 'section': '1M', 'Adress': 'BWP'}\n"
     ]
    }
   ],
   "source": [
    "# Additin of new item in an existing dictionary\n",
    "dict['Adress']='BWP'\n",
    "print(dict)"
   ]
  },
  {
   "cell_type": "code",
   "execution_count": 40,
   "id": "f0a5cee8",
   "metadata": {},
   "outputs": [
    {
     "name": "stdout",
     "output_type": "stream",
     "text": [
      "Items of dictinaries\n",
      "dict_items([('name', 'Ashir'), ('age', 12), ('class', 8), ('student', 'Arsalan'), ('grade', 12), ('marks', 8)])\n",
      "dict_items([('student', 'Arsalan'), ('grade', 12), ('marks', 8)])\n"
     ]
    }
   ],
   "source": [
    "# Print the items in dictionaries\n",
    "print(\"Items of dictinaries\")\n",
    "print(dict1.items())\n",
    "print(dict2.items())"
   ]
  },
  {
   "cell_type": "code",
   "execution_count": 32,
   "id": "4b8e5e3d",
   "metadata": {},
   "outputs": [
    {
     "name": "stdout",
     "output_type": "stream",
     "text": [
      "{'name': 'umar', 'roll no': 1199, 'section': '1M', 'Adress': 'BWP'}\n",
      "name:umar\n"
     ]
    }
   ],
   "source": [
    "# print the value along with key by using `if` statement\n",
    "print(dict)\n",
    "key = 'name'\n",
    "if key in dict:\n",
    "    print(f'{key}:{dict[key]}')\n",
    "else:\n",
    "    print(\"Key is not found\")\n"
   ]
  },
  {
   "cell_type": "code",
   "execution_count": 44,
   "id": "07bf2754",
   "metadata": {},
   "outputs": [
    {
     "data": {
      "text/plain": [
       "{'roll no': 1199, 'section': '1M', 'Adress': 'BWP'}"
      ]
     },
     "execution_count": 44,
     "metadata": {},
     "output_type": "execute_result"
    }
   ],
   "source": [
    "dict"
   ]
  },
  {
   "cell_type": "markdown",
   "id": "d4603d9c",
   "metadata": {},
   "source": [
    "## Methods that are used in dictionaries commonly:\n"
   ]
  },
  {
   "cell_type": "markdown",
   "id": "baedb05e",
   "metadata": {},
   "source": [
    "### Using `pop()` :"
   ]
  },
  {
   "cell_type": "code",
   "execution_count": 46,
   "id": "24672b76",
   "metadata": {},
   "outputs": [
    {
     "name": "stdout",
     "output_type": "stream",
     "text": [
      "umar\n",
      "{'roll no': 1199, 'section': '1M'}\n"
     ]
    }
   ],
   "source": [
    "dict\n",
    "name = dict.pop('name')\n",
    "print(name)\n",
    "print(dict)"
   ]
  },
  {
   "cell_type": "markdown",
   "id": "c1a44c70",
   "metadata": {},
   "source": [
    "### Using update `update()`:"
   ]
  },
  {
   "cell_type": "code",
   "execution_count": 51,
   "id": "55172468",
   "metadata": {},
   "outputs": [
    {
     "name": "stdout",
     "output_type": "stream",
     "text": [
      "{'apple': 44, 'banana': 120, 'mango': 230}\n",
      "{'apple': 44, 'banana': 80, 'mango': 180}\n"
     ]
    }
   ],
   "source": [
    "price = {'apple':44,'banana': 120,'mango':230} \n",
    "print(price)\n",
    "discounts = {'banana':80,'mango':180}\n",
    "price.update(discounts)\n",
    "print(price)"
   ]
  },
  {
   "cell_type": "markdown",
   "id": "d52b50fa",
   "metadata": {},
   "source": [
    "### Using `get()`:"
   ]
  },
  {
   "cell_type": "code",
   "execution_count": 53,
   "id": "9c196fb5",
   "metadata": {},
   "outputs": [
    {
     "name": "stdout",
     "output_type": "stream",
     "text": [
      "44\n",
      "230\n",
      "120\n"
     ]
    }
   ],
   "source": [
    "price = {'apple':44,'banana': 120,'mango':230} \n",
    "print(price.get('apple'))\n",
    "print(price.get('mango'))\n",
    "print(price.get('banana'))"
   ]
  },
  {
   "cell_type": "markdown",
   "id": "8dbe0e19",
   "metadata": {},
   "source": [
    "### Using `clear()`:"
   ]
  },
  {
   "cell_type": "code",
   "execution_count": 55,
   "id": "45ac981c",
   "metadata": {},
   "outputs": [
    {
     "name": "stdout",
     "output_type": "stream",
     "text": [
      "<class 'dict'>\n",
      "None\n"
     ]
    }
   ],
   "source": [
    "price = {'apple':44,'banana': 120,'mango':230} \n",
    "print(type(price))\n",
    "print(price.clear())"
   ]
  },
  {
   "cell_type": "markdown",
   "id": "9c6570b1",
   "metadata": {},
   "source": [
    "## Nested Dict{}:"
   ]
  },
  {
   "cell_type": "code",
   "execution_count": 5,
   "id": "434e2f58",
   "metadata": {},
   "outputs": [
    {
     "name": "stdout",
     "output_type": "stream",
     "text": [
      "{'person1': {'name': 'asad', 'class': 'ninth', 'roll no': 1122, 'age': 21}, 'person2': {'name': 'Ashir', 'class': 'eighth', 'roll no': 2233}}\n",
      "2\n",
      "<class 'dict'>\n"
     ]
    }
   ],
   "source": [
    "nested_dict = {\n",
    "    'person1':{'name':'asad','class':'ninth','roll no':1122,'age':21},\n",
    "    'person2':{'name':'Ashir','class':'eighth','roll no':2233},\n",
    "}\n",
    "print(nested_dict)\n",
    "print(len(nested_dict))\n",
    "print(type(nested_dict))"
   ]
  },
  {
   "cell_type": "markdown",
   "id": "b401a82b",
   "metadata": {},
   "source": [
    "# Tuples():\n",
    "- They are immutable.\n",
    "- They accept the duplication of item.\n",
    "- It can store different data types.\n",
    "- They are written in parantheses()."
   ]
  },
  {
   "cell_type": "code",
   "execution_count": 59,
   "id": "5df47f6b",
   "metadata": {},
   "outputs": [
    {
     "name": "stdout",
     "output_type": "stream",
     "text": [
      "(12, 'umar', True, 12.34)\n",
      "4\n",
      "<class 'tuple'>\n"
     ]
    }
   ],
   "source": [
    "a=(12,'umar',True,12.34)\n",
    "print(a)\n",
    "print(len(a))\n",
    "print(type(a))\n"
   ]
  },
  {
   "cell_type": "markdown",
   "id": "15e8c5c4",
   "metadata": {},
   "source": [
    "### Concatenation of tuples:"
   ]
  },
  {
   "cell_type": "code",
   "execution_count": 60,
   "id": "28bb0e0f",
   "metadata": {},
   "outputs": [
    {
     "data": {
      "text/plain": [
       "(12, 'umar', True, 11.2, 34, 'zain', False, 44.9)"
      ]
     },
     "execution_count": 60,
     "metadata": {},
     "output_type": "execute_result"
    }
   ],
   "source": [
    "a=(12,'umar',True,11.2)\n",
    "b=(34,'zain',False,44.9)\n",
    "a+b"
   ]
  },
  {
   "cell_type": "markdown",
   "id": "cdc6e000",
   "metadata": {},
   "source": [
    "#### Tules can accept the dupliation of items."
   ]
  },
  {
   "cell_type": "code",
   "execution_count": 62,
   "id": "71a8d716",
   "metadata": {},
   "outputs": [
    {
     "name": "stdout",
     "output_type": "stream",
     "text": [
      "(12, 12, 34, 23, 23, 100, 101, 100, 34, 89, 76, 89)\n",
      "<class 'tuple'>\n"
     ]
    }
   ],
   "source": [
    "num =( 12,12,34,23,23,100,101,100,34,89,76,89)\n",
    "print(num)\n",
    "print(type(num))"
   ]
  },
  {
   "cell_type": "markdown",
   "id": "b8eebe9e",
   "metadata": {},
   "source": [
    "### Using `count()`:"
   ]
  },
  {
   "cell_type": "code",
   "execution_count": 64,
   "id": "127d16ce",
   "metadata": {},
   "outputs": [
    {
     "name": "stdout",
     "output_type": "stream",
     "text": [
      "2\n",
      "4\n"
     ]
    }
   ],
   "source": [
    "num =( 12,12,34,23,23,100,101,100,34,89,76,89)\n",
    "print(num.count(12))\n",
    "name = ('a','b','a','b','c','c','b','g','b','h')\n",
    "print(name.count('b'))"
   ]
  },
  {
   "cell_type": "markdown",
   "id": "d27df106",
   "metadata": {},
   "source": [
    "### Using `index()`:"
   ]
  },
  {
   "cell_type": "code",
   "execution_count": 69,
   "id": "3181945b",
   "metadata": {},
   "outputs": [
    {
     "name": "stdout",
     "output_type": "stream",
     "text": [
      "0\n",
      "9\n"
     ]
    }
   ],
   "source": [
    "num =( 12,12,34,23,23,100,101,100,34,89,76,89)\n",
    "name = ('a','b','a','b','c','c','b','g','b','h')\n",
    "print(num.index(12))\n",
    "print(name.index('h'))"
   ]
  },
  {
   "cell_type": "markdown",
   "id": "e718a4c2",
   "metadata": {},
   "source": [
    "### Using `membership(operator):"
   ]
  },
  {
   "cell_type": "code",
   "execution_count": 71,
   "id": "30fe05ec",
   "metadata": {},
   "outputs": [
    {
     "name": "stdout",
     "output_type": "stream",
     "text": [
      "False\n",
      "True\n",
      "True\n",
      "False\n"
     ]
    }
   ],
   "source": [
    "num =( 12,12,34,23,23,100,101,100,34,89,76,89)\n",
    "name = ('a','b','a','b','c','c','b','g','b','h')\n",
    "print('z' in name)\n",
    "print(12 in num)\n",
    "print('a' in name)\n",
    "print(100 in name)"
   ]
  }
 ],
 "metadata": {
  "kernelspec": {
   "display_name": "Python 3 (ipykernel)",
   "language": "python",
   "name": "python3"
  },
  "language_info": {
   "codemirror_mode": {
    "name": "ipython",
    "version": 3
   },
   "file_extension": ".py",
   "mimetype": "text/x-python",
   "name": "python",
   "nbconvert_exporter": "python",
   "pygments_lexer": "ipython3",
   "version": "3.11.0"
  }
 },
 "nbformat": 4,
 "nbformat_minor": 5
}
