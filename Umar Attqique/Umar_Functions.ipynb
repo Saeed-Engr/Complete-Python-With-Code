{
 "cells": [
  {
   "cell_type": "markdown",
   "id": "48e56ac6-d79c-41c8-9477-9974280ba587",
   "metadata": {},
   "source": [
    "## Functions in python"
   ]
  },
  {
   "cell_type": "code",
   "execution_count": 7,
   "id": "9771e8db-e3c7-44fe-ad6b-7ce095034b57",
   "metadata": {},
   "outputs": [
    {
     "name": "stdin",
     "output_type": "stream",
     "text": [
      "Enter the 1st number 12\n",
      "Enter the 2nd number 45\n"
     ]
    },
    {
     "name": "stdout",
     "output_type": "stream",
     "text": [
      "57\n"
     ]
    }
   ],
   "source": [
    "def add_number():\n",
    "    \n",
    "    \n",
    "    number1 = int(input(\"Enter the 1st number\"))\n",
    "\n",
    "    number2 = int(input(\"Enter the 2nd number\"))\n",
    "\n",
    "    print(number1 + number2)\n",
    "add_number()"
   ]
  },
  {
   "cell_type": "code",
   "execution_count": 8,
   "id": "b7285bf3-5629-4217-b02f-42cac8d42844",
   "metadata": {},
   "outputs": [
    {
     "name": "stdin",
     "output_type": "stream",
     "text": [
      "Enter the 1st number 34\n",
      "Enter the 2nd number 45\n"
     ]
    },
    {
     "name": "stdout",
     "output_type": "stream",
     "text": [
      "-11\n"
     ]
    }
   ],
   "source": [
    "def sub_number():\n",
    "    \n",
    "    \n",
    "    number1 = int(input(\"Enter the 1st number\"))\n",
    "\n",
    "    number2 = int(input(\"Enter the 2nd number\"))\n",
    "\n",
    "    print(number1 - number2)\n",
    "sub_number()"
   ]
  },
  {
   "cell_type": "code",
   "execution_count": 9,
   "id": "da223793-8695-49be-8861-ffc08608ae4f",
   "metadata": {},
   "outputs": [
    {
     "name": "stdin",
     "output_type": "stream",
     "text": [
      "Enter the 1st number 23\n",
      "Enter the 2nd number 5\n"
     ]
    },
    {
     "name": "stdout",
     "output_type": "stream",
     "text": [
      "115\n"
     ]
    }
   ],
   "source": [
    "def mul_number():\n",
    "    \n",
    "    \n",
    "    number1 = int(input(\"Enter the 1st number\"))\n",
    "\n",
    "    number2 = int(input(\"Enter the 2nd number\"))\n",
    "\n",
    "    print(number1 * number2)\n",
    "mul_number()"
   ]
  },
  {
   "cell_type": "code",
   "execution_count": 10,
   "id": "b760b900-3cc7-40af-879f-302d58f2e4e3",
   "metadata": {},
   "outputs": [
    {
     "name": "stdin",
     "output_type": "stream",
     "text": [
      "Enter the 1st number 45\n",
      "Enter the 2nd number 9\n"
     ]
    },
    {
     "name": "stdout",
     "output_type": "stream",
     "text": [
      "5.0\n"
     ]
    }
   ],
   "source": [
    "def div_number():\n",
    "    \n",
    "    \n",
    "    number1 = int(input(\"Enter the 1st number\"))\n",
    "\n",
    "    number2 = int(input(\"Enter the 2nd number\"))\n",
    "\n",
    "    print(number1 / number2)\n",
    "div_number()"
   ]
  },
  {
   "cell_type": "code",
   "execution_count": 11,
   "id": "d81f69cb-033e-4397-a908-217b433a18cd",
   "metadata": {},
   "outputs": [
    {
     "name": "stdin",
     "output_type": "stream",
     "text": [
      "Enter the 1st number 12\n",
      "Enter the 2nd number 3\n"
     ]
    },
    {
     "name": "stdout",
     "output_type": "stream",
     "text": [
      "0\n"
     ]
    }
   ],
   "source": [
    "def mod_number():\n",
    "    \n",
    "    \n",
    "    number1 = int(input(\"Enter the 1st number\"))\n",
    "\n",
    "    number2 = int(input(\"Enter the 2nd number\"))\n",
    "\n",
    "    print(number1 % number2)\n",
    "mod_number()"
   ]
  },
  {
   "cell_type": "code",
   "execution_count": 39,
   "id": "08a7afc0-6b1d-4a7f-8af0-64408b3e7898",
   "metadata": {},
   "outputs": [
    {
     "name": "stdin",
     "output_type": "stream",
     "text": [
      "Enter the choice :  +\n",
      "Enter the number 1 :  34\n",
      "Enter the number 2 :  5\n"
     ]
    },
    {
     "name": "stdout",
     "output_type": "stream",
     "text": [
      "The sum will be :  39\n"
     ]
    },
    {
     "name": "stdin",
     "output_type": "stream",
     "text": [
      "Enter the choice :  3\n",
      "Enter the number 1 :  2\n",
      "Enter the number 2 :  1\n"
     ]
    },
    {
     "name": "stdout",
     "output_type": "stream",
     "text": [
      "Invalid choice\n"
     ]
    }
   ],
   "source": [
    "def calculator():\n",
    "     while(True):\n",
    "          choice = input(\"Enter the choice : \")\n",
    "          num1 = int(input(\"Enter the number 1 : \"))\n",
    "          num2 = int(input(\"Enter the number 2 : \"))\n",
    "          if choice == '+':\n",
    "              print(\"The sum will be : \",num1+num2)\n",
    "          elif choice == '-':\n",
    "              print('The sub will be : ',num1-num2)\n",
    "          elif choice == '*':\n",
    "              print('The mul will be : ',num1*num2)\n",
    "          elif choice == '/':\n",
    "              print(\"The div will be : \",num1/num2)\n",
    "          elif choice == '%':\n",
    "              print(\"The modolous will be : \",num1%num2)\n",
    "          else:\n",
    "             print(\"Invalid choice\")\n",
    "             break\n",
    "calculator()"
   ]
  },
  {
   "cell_type": "markdown",
   "id": "7817c5b3-10ef-4d9a-9250-c4fa6b77e1f3",
   "metadata": {},
   "source": [
    "## Parameterized functions"
   ]
  },
  {
   "cell_type": "code",
   "execution_count": 12,
   "id": "a89ef26b-53c2-4322-830b-e1cd9a2c87e4",
   "metadata": {},
   "outputs": [
    {
     "name": "stdout",
     "output_type": "stream",
     "text": [
      "The sum will be :  120\n"
     ]
    }
   ],
   "source": [
    "def add_number(num1,num2):\n",
    "    print(\"The sum will be : \",num1+num2)\n",
    "add_number(100,20)"
   ]
  },
  {
   "cell_type": "markdown",
   "id": "a840204e-b3ad-4885-b386-1a1760e7c542",
   "metadata": {},
   "source": [
    "## Local and global variables"
   ]
  },
  {
   "cell_type": "code",
   "execution_count": 14,
   "id": "ef82ae0c-a9ea-4ef2-9fc6-fc7ae77da805",
   "metadata": {},
   "outputs": [
    {
     "name": "stdout",
     "output_type": "stream",
     "text": [
      "Umar Khan is very sharp\n"
     ]
    }
   ],
   "source": [
    "def Name():\n",
    "    name = 'Umar'\n",
    "    print(f'{name} Khan is very sharp')  # The variable that defines inside the function\n",
    "Name()"
   ]
  },
  {
   "cell_type": "code",
   "execution_count": 16,
   "id": "dbd259d9-b7e8-4853-b8ca-9eef559ddb66",
   "metadata": {},
   "outputs": [
    {
     "name": "stdout",
     "output_type": "stream",
     "text": [
      "<function name at 0x00000247F8B72F80>\n"
     ]
    }
   ],
   "source": [
    "print(name) # name variable is not defined because its scope inside the function"
   ]
  },
  {
   "cell_type": "code",
   "execution_count": 17,
   "id": "203ad9d3-7b8c-412c-aac0-9a6a08712ff9",
   "metadata": {},
   "outputs": [
    {
     "name": "stdout",
     "output_type": "stream",
     "text": [
      "Umar Khan is very sharp\n"
     ]
    }
   ],
   "source": [
    "name = 'Umar'\n",
    "def Name():\n",
    "    print(f'{name} Khan is very sharp')  # The variable that defines outside the function\n",
    "Name()"
   ]
  },
  {
   "cell_type": "code",
   "execution_count": 18,
   "id": "5f936649-0e6e-4a0a-912d-db32911bd5ce",
   "metadata": {},
   "outputs": [
    {
     "data": {
      "text/plain": [
       "'Umar'"
      ]
     },
     "execution_count": 18,
     "metadata": {},
     "output_type": "execute_result"
    }
   ],
   "source": [
    "name"
   ]
  },
  {
   "cell_type": "code",
   "execution_count": 38,
   "id": "af7047d2-892c-413f-8dc7-fb91dfe35f96",
   "metadata": {},
   "outputs": [
    {
     "name": "stdin",
     "output_type": "stream",
     "text": [
      "Press 'y' to continue and 'n' to exit:  y\n",
      "Enter the number:  65\n"
     ]
    },
    {
     "name": "stdout",
     "output_type": "stream",
     "text": [
      "Number is odd\n"
     ]
    },
    {
     "name": "stdin",
     "output_type": "stream",
     "text": [
      "Press 'y' to continue and 'n' to exit:  n\n"
     ]
    },
    {
     "name": "stdout",
     "output_type": "stream",
     "text": [
      "Thank you\n"
     ]
    }
   ],
   "source": [
    "def even_odd():\n",
    "    while True:\n",
    "        select = input(\"Press 'y' to continue and 'n' to exit: \")\n",
    "        if select == 'y':\n",
    "            num = int(input(\"Enter the number: \"))\n",
    "            if num % 2 == 0:\n",
    "                print(\"Number is even\")\n",
    "            else:\n",
    "                print(\"Number is odd\")\n",
    "        elif select == 'n':\n",
    "            print(\"Thank you\")\n",
    "            break\n",
    "        else:\n",
    "            print(\"Invalid choice\")\n",
    "\n",
    "even_odd()\n"
   ]
  },
  {
   "cell_type": "markdown",
   "id": "9ad52cc3-ab63-4bd9-83cc-0e5673ff5bdf",
   "metadata": {},
   "source": [
    "## Factorial"
   ]
  },
  {
   "cell_type": "code",
   "execution_count": null,
   "id": "7e6912a5-e2fe-496f-85dc-496a1d28c9e5",
   "metadata": {},
   "outputs": [],
   "source": [
    "def factorial():\n",
    "    num = int(input(\"Enter the number: \"))\n",
    "    fact = 1\n",
    "    i = 1\n",
    "    while i <= num:\n",
    "        fact *= i\n",
    "        i += 1\n",
    "    print(\"Factorial is:\", fact)\n",
    "\n",
    "factorial()\n"
   ]
  },
  {
   "cell_type": "code",
   "execution_count": null,
   "id": "96154bce-21ac-47cb-95d4-59d2c5e9b762",
   "metadata": {},
   "outputs": [],
   "source": [
    "def reverse():\n",
    "    str = input(\"Enter the string : \")\n",
    "    reversed_str= str[::-str]\n",
    "    print(\"Reversed string will be : \",reversed_string)\n",
    "reverse()"
   ]
  },
  {
   "cell_type": "code",
   "execution_count": null,
   "id": "27209c23-d79d-4f99-9c9a-3109ce525cc4",
   "metadata": {},
   "outputs": [],
   "source": []
  },
  {
   "cell_type": "code",
   "execution_count": null,
   "id": "084f6781-2294-41c6-bb79-f3a8842c0232",
   "metadata": {},
   "outputs": [],
   "source": []
  },
  {
   "cell_type": "code",
   "execution_count": null,
   "id": "a92d60f3-0abc-491e-9f26-314aaab19820",
   "metadata": {},
   "outputs": [],
   "source": []
  }
 ],
 "metadata": {
  "kernelspec": {
   "display_name": "Python 3 (ipykernel)",
   "language": "python",
   "name": "python3"
  },
  "language_info": {
   "codemirror_mode": {
    "name": "ipython",
    "version": 3
   },
   "file_extension": ".py",
   "mimetype": "text/x-python",
   "name": "python",
   "nbconvert_exporter": "python",
   "pygments_lexer": "ipython3",
   "version": "3.10.13"
  }
 },
 "nbformat": 4,
 "nbformat_minor": 5
}
