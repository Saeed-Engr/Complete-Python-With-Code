{
 "cells": [
  {
   "cell_type": "markdown",
   "metadata": {},
   "source": [
    "## Pandas Series"
   ]
  },
  {
   "cell_type": "code",
   "execution_count": 1,
   "metadata": {},
   "outputs": [],
   "source": [
    "import pandas as pd"
   ]
  },
  {
   "cell_type": "code",
   "execution_count": 6,
   "metadata": {},
   "outputs": [
    {
     "data": {
      "text/plain": [
       "0    1\n",
       "1    2\n",
       "2    3\n",
       "3    4\n",
       "4    5\n",
       "5    6\n",
       "dtype: int64"
      ]
     },
     "execution_count": 6,
     "metadata": {},
     "output_type": "execute_result"
    }
   ],
   "source": [
    "series = pd.Series([1,2,3,4,5,6])\n",
    "series"
   ]
  },
  {
   "cell_type": "code",
   "execution_count": 7,
   "metadata": {},
   "outputs": [
    {
     "data": {
      "text/plain": [
       "0         1\n",
       "1      Umar\n",
       "2         3\n",
       "3      Alam\n",
       "4         5\n",
       "5    Hamzah\n",
       "dtype: object"
      ]
     },
     "execution_count": 7,
     "metadata": {},
     "output_type": "execute_result"
    }
   ],
   "source": [
    "# we can add different data types \n",
    "dtypes = [1,'Umar',3,'Alam',5,'Hamzah']\n",
    "pd.Series(dtypes)"
   ]
  },
  {
   "cell_type": "markdown",
   "metadata": {},
   "source": [
    "## Pandas series ha two things as follows:\n",
    "- Values.\n",
    "- Index."
   ]
  },
  {
   "cell_type": "code",
   "execution_count": 14,
   "metadata": {},
   "outputs": [
    {
     "data": {
      "text/plain": [
       "array([1, 2, 3, 4, 5, 6], dtype=int64)"
      ]
     },
     "execution_count": 14,
     "metadata": {},
     "output_type": "execute_result"
    }
   ],
   "source": [
    "series = pd.Series([1,2,3,4,5,6])\n",
    "series.values"
   ]
  },
  {
   "cell_type": "code",
   "execution_count": 15,
   "metadata": {},
   "outputs": [
    {
     "data": {
      "text/plain": [
       "RangeIndex(start=0, stop=6, step=1)"
      ]
     },
     "execution_count": 15,
     "metadata": {},
     "output_type": "execute_result"
    }
   ],
   "source": [
    "series.index"
   ]
  },
  {
   "cell_type": "markdown",
   "metadata": {},
   "source": [
    "#### We can add our own indexes in our data"
   ]
  },
  {
   "cell_type": "code",
   "execution_count": 16,
   "metadata": {},
   "outputs": [
    {
     "data": {
      "text/plain": [
       "Jan    1\n",
       "Feb    2\n",
       "Mar    3\n",
       "Apr    4\n",
       "May    5\n",
       "Jun    6\n",
       "dtype: int64"
      ]
     },
     "execution_count": 16,
     "metadata": {},
     "output_type": "execute_result"
    }
   ],
   "source": [
    "series = pd.Series([1,2,3,4,5,6],index = ['Jan','Feb','Mar','Apr','May','Jun'])\n",
    "series"
   ]
  },
  {
   "cell_type": "code",
   "execution_count": 21,
   "metadata": {},
   "outputs": [
    {
     "name": "stdout",
     "output_type": "stream",
     "text": [
      "[1 2 3 4 5 6]\n",
      "\n",
      "Index(['Jan', 'Feb', 'Mar', 'Apr', 'May', 'Jun'], dtype='object')\n"
     ]
    }
   ],
   "source": [
    "print(series.values)\n",
    "print()\n",
    "print(series.index)"
   ]
  },
  {
   "cell_type": "markdown",
   "metadata": {},
   "source": [
    "## Create a pands series to store a student data of numbers he in each subject."
   ]
  },
  {
   "cell_type": "code",
   "execution_count": 70,
   "metadata": {},
   "outputs": [
    {
     "data": {
      "text/plain": [
       "Eng          95\n",
       "Math         90\n",
       "Urdu         85\n",
       "History      82\n",
       "Pak-study    69\n",
       "Bio          79\n",
       "Phy          89\n",
       "Che          90\n",
       "dtype: int64"
      ]
     },
     "execution_count": 70,
     "metadata": {},
     "output_type": "execute_result"
    }
   ],
   "source": [
    "result = pd.Series([95,90,85,82,69,79,89,90],\n",
    "                    index = ['Eng','Math','Urdu','History','Pak-study','Bio','Phy','Che'])\n",
    "result"
   ]
  },
  {
   "cell_type": "code",
   "execution_count": 45,
   "metadata": {},
   "outputs": [
    {
     "name": "stdout",
     "output_type": "stream",
     "text": [
      "95\n",
      "Eng\n"
     ]
    }
   ],
   "source": [
    "print(result['Eng'])\n",
    "# to print the idex by help of value.\n",
    "value = 95\n",
    "index = result[result == value].index[0] # The index number must be 1 or 0 here .index[].\n",
    "print(index)"
   ]
  },
  {
   "cell_type": "code",
   "execution_count": 51,
   "metadata": {},
   "outputs": [
    {
     "name": "stdout",
     "output_type": "stream",
     "text": [
      "79\n",
      "Bio\n"
     ]
    }
   ],
   "source": [
    "print(result['Bio'])\n",
    "value = 79\n",
    "index = result[result == value].index[0] # The index number must be 1 or 0 here .index[]. \n",
    "print(index)"
   ]
  },
  {
   "cell_type": "code",
   "execution_count": 52,
   "metadata": {},
   "outputs": [
    {
     "name": "stdout",
     "output_type": "stream",
     "text": [
      "90\n",
      "Math\n"
     ]
    }
   ],
   "source": [
    "print(result['Math'])\n",
    "value = 90\n",
    "index = result[result == value].index[0] # The index number must be 1 or 0 here .index[].\n",
    "print(index)"
   ]
  },
  {
   "cell_type": "code",
   "execution_count": 58,
   "metadata": {},
   "outputs": [
    {
     "name": "stdout",
     "output_type": "stream",
     "text": [
      "History    82\n",
      "Che        90\n",
      "dtype: int64\n",
      "\n",
      "Bio    79\n",
      "Che    90\n",
      "dtype: int64\n"
     ]
    }
   ],
   "source": [
    "print(result[[3,7]])\n",
    "print()\n",
    "print(result[['Bio','Che']])"
   ]
  },
  {
   "cell_type": "markdown",
   "metadata": {},
   "source": [
    "## Perform comparison operator"
   ]
  },
  {
   "cell_type": "code",
   "execution_count": 63,
   "metadata": {},
   "outputs": [
    {
     "name": "stdout",
     "output_type": "stream",
     "text": [
      "Eng           True\n",
      "Math          True\n",
      "Urdu          True\n",
      "History       True\n",
      "Pak-study    False\n",
      "Bio          False\n",
      "Phy           True\n",
      "Che           True\n",
      "dtype: bool\n",
      "\n",
      "Eng        95\n",
      "Math       90\n",
      "Urdu       85\n",
      "History    82\n",
      "Phy        89\n",
      "Che        90\n",
      "dtype: int64\n"
     ]
    }
   ],
   "source": [
    "print(result>80)\n",
    "print()\n",
    "print(result[result>80])"
   ]
  },
  {
   "cell_type": "markdown",
   "metadata": {},
   "source": [
    "### perfrom some arithematic operator."
   ]
  },
  {
   "cell_type": "code",
   "execution_count": 71,
   "metadata": {},
   "outputs": [
    {
     "data": {
      "text/plain": [
       "Eng          190\n",
       "Math         180\n",
       "Urdu         170\n",
       "History      164\n",
       "Pak-study    138\n",
       "Bio          158\n",
       "Phy          178\n",
       "Che          180\n",
       "dtype: int64"
      ]
     },
     "execution_count": 71,
     "metadata": {},
     "output_type": "execute_result"
    }
   ],
   "source": [
    "result1 = result*2\n",
    "result1"
   ]
  },
  {
   "cell_type": "code",
   "execution_count": 72,
   "metadata": {},
   "outputs": [
    {
     "data": {
      "text/plain": [
       "Eng          105\n",
       "Math         100\n",
       "Urdu          95\n",
       "History       92\n",
       "Pak-study     79\n",
       "Bio           89\n",
       "Phy           99\n",
       "Che          100\n",
       "dtype: int64"
      ]
     },
     "execution_count": 72,
     "metadata": {},
     "output_type": "execute_result"
    }
   ],
   "source": [
    "result2 = result+10\n",
    "result2"
   ]
  },
  {
   "cell_type": "code",
   "execution_count": 73,
   "metadata": {},
   "outputs": [
    {
     "data": {
      "text/plain": [
       "Eng          1.90\n",
       "Math         1.80\n",
       "Urdu         1.70\n",
       "History      1.64\n",
       "Pak-study    1.38\n",
       "Bio          1.58\n",
       "Phy          1.78\n",
       "Che          1.80\n",
       "dtype: float64"
      ]
     },
     "execution_count": 73,
     "metadata": {},
     "output_type": "execute_result"
    }
   ],
   "source": [
    "result3 = result/50\n",
    "result3"
   ]
  },
  {
   "cell_type": "code",
   "execution_count": 74,
   "metadata": {},
   "outputs": [
    {
     "data": {
      "text/plain": [
       "Eng          45\n",
       "Math         40\n",
       "Urdu         35\n",
       "History      32\n",
       "Pak-study    19\n",
       "Bio          29\n",
       "Phy          39\n",
       "Che          40\n",
       "dtype: int64"
      ]
     },
     "execution_count": 74,
     "metadata": {},
     "output_type": "execute_result"
    }
   ],
   "source": [
    "result4 = result-50\n",
    "result4"
   ]
  },
  {
   "cell_type": "code",
   "execution_count": 78,
   "metadata": {},
   "outputs": [
    {
     "data": {
      "text/plain": [
       "Eng          95\n",
       "Math         90\n",
       "Urdu         85\n",
       "History      82\n",
       "Pak-study    69\n",
       "Bio          79\n",
       "Phy          89\n",
       "Che          90\n",
       "dtype: int64"
      ]
     },
     "execution_count": 78,
     "metadata": {},
     "output_type": "execute_result"
    }
   ],
   "source": [
    "result"
   ]
  },
  {
   "cell_type": "code",
   "execution_count": 79,
   "metadata": {},
   "outputs": [
    {
     "name": "stdout",
     "output_type": "stream",
     "text": [
      "True\n",
      "False\n"
     ]
    }
   ],
   "source": [
    "print('Eng' in result)\n",
    "print('90' in result)"
   ]
  },
  {
   "cell_type": "markdown",
   "metadata": {},
   "source": [
    "## Create numy array and convert it into pandas series."
   ]
  },
  {
   "cell_type": "code",
   "execution_count": 80,
   "metadata": {},
   "outputs": [],
   "source": [
    "import numpy as np"
   ]
  },
  {
   "cell_type": "code",
   "execution_count": 83,
   "metadata": {},
   "outputs": [
    {
     "name": "stdout",
     "output_type": "stream",
     "text": [
      "[1 4 5 6 7 8 2] ['a' 'e' 'i' 'o' 'u' 'z' 'x']\n"
     ]
    },
    {
     "data": {
      "text/plain": [
       "1    a\n",
       "4    e\n",
       "5    i\n",
       "6    o\n",
       "7    u\n",
       "8    z\n",
       "2    x\n",
       "dtype: object"
      ]
     },
     "execution_count": 83,
     "metadata": {},
     "output_type": "execute_result"
    }
   ],
   "source": [
    "arr1 = np.array([1,4,5,6,7,8,2])\n",
    "arr2 = np.array(['a','e','i','o','u','z','x'])\n",
    "print(arr1,arr2)\n",
    "series = pd.Series(arr2,index = arr1)\n",
    "series"
   ]
  },
  {
   "cell_type": "markdown",
   "metadata": {},
   "source": [
    "## Creating a dictionary and converting into panda series."
   ]
  },
  {
   "cell_type": "code",
   "execution_count": 87,
   "metadata": {},
   "outputs": [
    {
     "name": "stdout",
     "output_type": "stream",
     "text": [
      "{'Umar': 934, 'Faizan': 988, 'Zain': 844, 'Asfand': 681, 'Saqib': 937}\n",
      "<class 'dict'>\n",
      "Umar      934\n",
      "Faizan    988\n",
      "Zain      844\n",
      "Asfand    681\n",
      "Saqib     937\n",
      "dtype: int64\n"
     ]
    }
   ],
   "source": [
    "results = {'Umar':934,'Faizan':988,'Zain':844,'Asfand':681,'Saqib':937}\n",
    "print(results)\n",
    "print(type(results))\n",
    "s_data = pd.Series(results)\n",
    "print(s_data)"
   ]
  },
  {
   "cell_type": "markdown",
   "metadata": {},
   "source": [
    "## Check if values are more then  index."
   ]
  },
  {
   "cell_type": "code",
   "execution_count": 88,
   "metadata": {},
   "outputs": [
    {
     "name": "stdout",
     "output_type": "stream",
     "text": [
      "Umar       934.0\n",
      "Faizan     988.0\n",
      "Asfand     681.0\n",
      "Zain       844.0\n",
      "Saqib      937.0\n",
      "Mehboob      NaN\n",
      "Alam         NaN\n",
      "dtype: float64\n"
     ]
    }
   ],
   "source": [
    "results = {'Umar':934,'Faizan':988,'Zain':844,'Asfand':681,'Saqib':937}\n",
    "indexes = pd.Series(results,index=['Umar','Faizan','Asfand','Zain','Saqib','Mehboob','Alam'])\n",
    "print(indexes)"
   ]
  },
  {
   "cell_type": "code",
   "execution_count": 89,
   "metadata": {},
   "outputs": [
    {
     "data": {
      "text/plain": [
       "Umar       False\n",
       "Faizan     False\n",
       "Asfand     False\n",
       "Zain       False\n",
       "Saqib      False\n",
       "Mehboob     True\n",
       "Alam        True\n",
       "dtype: bool"
      ]
     },
     "execution_count": 89,
     "metadata": {},
     "output_type": "execute_result"
    }
   ],
   "source": [
    "indexes.isnull()"
   ]
  },
  {
   "cell_type": "markdown",
   "metadata": {},
   "source": [
    "## Changing the indexes"
   ]
  },
  {
   "cell_type": "code",
   "execution_count": 95,
   "metadata": {},
   "outputs": [
    {
     "name": "stdout",
     "output_type": "stream",
     "text": [
      "uma    2\n",
      "zai    4\n",
      "fai    1\n",
      "asf    5\n",
      "irf    6\n",
      "saq    7\n",
      "var    5\n",
      "ban    4\n",
      "olw    3\n",
      "dtype: int64\n",
      "u    2\n",
      "z    4\n",
      "f    1\n",
      "a    5\n",
      "i    6\n",
      "s    7\n",
      "v    5\n",
      "b    4\n",
      "o    3\n",
      "dtype: int64\n"
     ]
    }
   ],
   "source": [
    "umar = pd.Series([2,4,1,5,6,7,5,4,3],\n",
    "            index = ['uma','zai','fai','asf','irf','saq','var','ban','olw'])\n",
    "print(umar)\n",
    "umar.index = ['u','z','f','a','i','s','v','b','o']\n",
    "print(umar)"
   ]
  }
 ],
 "metadata": {
  "kernelspec": {
   "display_name": "python_eda",
   "language": "python",
   "name": "python3"
  },
  "language_info": {
   "codemirror_mode": {
    "name": "ipython",
    "version": 3
   },
   "file_extension": ".py",
   "mimetype": "text/x-python",
   "name": "python",
   "nbconvert_exporter": "python",
   "pygments_lexer": "ipython3",
   "version": "3.11.0"
  }
 },
 "nbformat": 4,
 "nbformat_minor": 2
}
