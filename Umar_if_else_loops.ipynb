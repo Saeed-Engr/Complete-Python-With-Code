{
 "cells": [
  {
   "cell_type": "markdown",
   "id": "4f10167a",
   "metadata": {},
   "source": [
    "# If_else_conditional statements"
   ]
  },
  {
   "cell_type": "code",
   "execution_count": 2,
   "id": "01d241ca",
   "metadata": {},
   "outputs": [
    {
     "name": "stdout",
     "output_type": "stream",
     "text": [
      "You are right\n"
     ]
    }
   ],
   "source": [
    "n =12\n",
    "if n==12:\n",
    "    print(\"You are right\")\n",
    "else:\n",
    "    print(\"You are wrong\")"
   ]
  },
  {
   "cell_type": "markdown",
   "id": "0e12540e",
   "metadata": {},
   "source": [
    "### Negative and Positive number"
   ]
  },
  {
   "cell_type": "code",
   "execution_count": 4,
   "id": "1e1eb919",
   "metadata": {},
   "outputs": [
    {
     "name": "stdout",
     "output_type": "stream",
     "text": [
      "The number is negative\n"
     ]
    }
   ],
   "source": [
    "num = -1\n",
    "if num>=0:\n",
    "    print(\"The number is positive\")\n",
    "if num<0:\n",
    "    print(\"The number is negative\")"
   ]
  },
  {
   "cell_type": "code",
   "execution_count": null,
   "id": "ba20fbb3",
   "metadata": {},
   "outputs": [],
   "source": [
    "num = 12\n",
    "if num>=0:\n",
    "    print(\"The number is positive\")\n",
    "if num<0:\n",
    "    print(\"The number is negative\")"
   ]
  },
  {
   "cell_type": "markdown",
   "id": "b94307d0",
   "metadata": {},
   "source": [
    "### Separation of even and odd numbers"
   ]
  },
  {
   "cell_type": "code",
   "execution_count": 5,
   "id": "4096e7c8",
   "metadata": {},
   "outputs": [
    {
     "name": "stdout",
     "output_type": "stream",
     "text": [
      "The number is odd\n"
     ]
    }
   ],
   "source": [
    "num = 13\n",
    "if num%2 == 0:\n",
    "    print(\"The number is even\")\n",
    "if num%2 != 0:\n",
    "    print(\"The number is odd\")"
   ]
  },
  {
   "cell_type": "markdown",
   "id": "5bda46e0",
   "metadata": {},
   "source": [
    "## Grading system(mini programe)"
   ]
  },
  {
   "cell_type": "code",
   "execution_count": 17,
   "id": "81c60d7b",
   "metadata": {},
   "outputs": [
    {
     "name": "stdout",
     "output_type": "stream",
     "text": [
      "The grade is B+ and percentage is  76.0\n"
     ]
    }
   ],
   "source": [
    "sub1 = 78\n",
    "sub2 = 70\n",
    "sub3 = 70\n",
    "sub4 = 86\n",
    "total_marks = 400\n",
    "sum = sub1+sub2+sub3+sub4\n",
    "per = sum/total_marks*100\n",
    "\n",
    "if per>=90 and per<=100:\n",
    "    print(\"The grade is A+ and percentage is \",per)\n",
    "elif per<90 and per>=80:\n",
    "    print(\"The grade is A and percentage is \",per)\n",
    "elif per<80 and per>=70:\n",
    "    print(\"The grade is B+ and percentage is \",per)\n",
    "elif per<70 and per>=60:\n",
    "    print(\"The grade is B and percentage is \",per)\n",
    "elif per<60 and per>=50:\n",
    "    print(\"The grade is C+ and percentage is \",per)\n",
    "elif per<50 and per<=40:\n",
    "    print(\"The grade is C and percentage is \",per)\n",
    "else:\n",
    "    print(\"You are failed and percentage is \",per)"
   ]
  },
  {
   "cell_type": "markdown",
   "id": "aa2a11b6",
   "metadata": {},
   "source": [
    "## loops in python"
   ]
  },
  {
   "cell_type": "code",
   "execution_count": 1,
   "id": "e44d16d8",
   "metadata": {},
   "outputs": [
    {
     "name": "stdout",
     "output_type": "stream",
     "text": [
      "umar\n",
      "Asfand\n",
      "Zain\n",
      "Faizan\n",
      "Aslam\n"
     ]
    }
   ],
   "source": [
    "name = ['umar','Asfand','Zain','Faizan','Aslam']\n",
    "for i in name:\n",
    "    print(i)"
   ]
  },
  {
   "cell_type": "code",
   "execution_count": 9,
   "id": "6de6625a",
   "metadata": {},
   "outputs": [
    {
     "name": "stdout",
     "output_type": "stream",
     "text": [
      "english 0\n",
      "urdu 1\n",
      "math 2\n",
      "algebra 3\n"
     ]
    }
   ],
   "source": [
    "#print along with indexing\n",
    "sub = ['english','urdu','math','algebra']\n",
    "i=0\n",
    "while i < len(sub):\n",
    "    print(f\"{sub[i]} {i}\")\n",
    "    i+=1"
   ]
  },
  {
   "cell_type": "markdown",
   "id": "4214c125",
   "metadata": {},
   "source": [
    "### Create a list of even and odd numbers"
   ]
  },
  {
   "cell_type": "code",
   "execution_count": 11,
   "id": "b3d8b0e5",
   "metadata": {},
   "outputs": [
    {
     "name": "stdout",
     "output_type": "stream",
     "text": [
      "1 Number is odd\n",
      "2 Number is even\n",
      "3 Number is odd\n",
      "4 Number is even\n",
      "5 Number is odd\n",
      "6 Number is even\n",
      "7 Number is odd\n",
      "8 Number is even\n",
      "9 Number is odd\n",
      "10 Number is even\n",
      "11 Number is odd\n",
      "12 Number is even\n",
      "13 Number is odd\n",
      "14 Number is even\n",
      "15 Number is odd\n",
      "16 Number is even\n",
      "17 Number is odd\n",
      "18 Number is even\n",
      "19 Number is odd\n"
     ]
    }
   ],
   "source": [
    "for i in range(1,20):\n",
    "    if i%2 == 0:\n",
    "        print(i,\"Number is even\")\n",
    "    if i%2 != 0:\n",
    "        print(i,\"Number is odd\")\n",
    "    "
   ]
  },
  {
   "cell_type": "markdown",
   "id": "1849c9e1",
   "metadata": {},
   "source": [
    "## Factorial of a number"
   ]
  },
  {
   "cell_type": "code",
   "execution_count": 17,
   "id": "adac1dd8",
   "metadata": {},
   "outputs": [
    {
     "name": "stdout",
     "output_type": "stream",
     "text": [
      "The factorial of  5  is  120\n"
     ]
    }
   ],
   "source": [
    "num = 5\n",
    "i = 1\n",
    "fact=1\n",
    "while i <= 5:\n",
    "    fact*=i\n",
    "    i+=1\n",
    "\n",
    "print(\"The factorial of \",num ,\" is \",fact)"
   ]
  },
  {
   "cell_type": "markdown",
   "id": "337bc577",
   "metadata": {},
   "source": [
    "## Create the table by using loop"
   ]
  },
  {
   "cell_type": "code",
   "execution_count": 18,
   "id": "39bc156a",
   "metadata": {},
   "outputs": [
    {
     "name": "stdout",
     "output_type": "stream",
     "text": [
      "5 * 1 =  5\n",
      "5 * 2 =  10\n",
      "5 * 3 =  15\n",
      "5 * 4 =  20\n",
      "5 * 5 =  25\n",
      "5 * 6 =  30\n",
      "5 * 7 =  35\n",
      "5 * 8 =  40\n",
      "5 * 9 =  45\n",
      "5 * 10 =  50\n"
     ]
    }
   ],
   "source": [
    "num = 5\n",
    "for i in range(1,11):\n",
    "    print(f\"{num} * {i} = \",num*i)"
   ]
  },
  {
   "cell_type": "code",
   "execution_count": null,
   "id": "bbce9bcb",
   "metadata": {},
   "outputs": [],
   "source": [
    "num = int(input(\"Enter the number : \"))\n",
    "for i in range(1,11):\n",
    "    print(f\"{num} * {i} = \",num*i)\n",
    "    # I was unable to run this code because i am facing little probel by using input command in my IDE.\n",
    "    # But i am sure that this is right code"
   ]
  },
  {
   "cell_type": "code",
   "execution_count": null,
   "id": "b694aa0b",
   "metadata": {},
   "outputs": [],
   "source": [
    "num = int(input(\"Enter the number\"))\n",
    "start = int(input(\"Enter the starting point\"))\n",
    "end = int(input(\"Enter the ending poit : \"))\n",
    "while start <= end:\n",
    "    print(f\"{num} * {start} = \",num*start)\n",
    "    start+=1\n"
   ]
  },
  {
   "cell_type": "code",
   "execution_count": 20,
   "id": "1e6342ef",
   "metadata": {},
   "outputs": [
    {
     "name": "stdout",
     "output_type": "stream",
     "text": [
      " \n",
      "2 * 1 =  2\n",
      "2 * 2 =  4\n",
      "2 * 3 =  6\n",
      "2 * 4 =  8\n",
      "2 * 5 =  10\n",
      "2 * 6 =  12\n",
      "2 * 7 =  14\n",
      "2 * 8 =  16\n",
      "2 * 9 =  18\n",
      "2 * 10 =  20\n",
      " \n",
      "3 * 1 =  3\n",
      "3 * 2 =  6\n",
      "3 * 3 =  9\n",
      "3 * 4 =  12\n",
      "3 * 5 =  15\n",
      "3 * 6 =  18\n",
      "3 * 7 =  21\n",
      "3 * 8 =  24\n",
      "3 * 9 =  27\n",
      "3 * 10 =  30\n",
      " \n",
      "4 * 1 =  4\n",
      "4 * 2 =  8\n",
      "4 * 3 =  12\n",
      "4 * 4 =  16\n",
      "4 * 5 =  20\n",
      "4 * 6 =  24\n",
      "4 * 7 =  28\n",
      "4 * 8 =  32\n",
      "4 * 9 =  36\n",
      "4 * 10 =  40\n",
      " \n",
      "5 * 1 =  5\n",
      "5 * 2 =  10\n",
      "5 * 3 =  15\n",
      "5 * 4 =  20\n",
      "5 * 5 =  25\n",
      "5 * 6 =  30\n",
      "5 * 7 =  35\n",
      "5 * 8 =  40\n",
      "5 * 9 =  45\n",
      "5 * 10 =  50\n"
     ]
    }
   ],
   "source": [
    "for num in range (2,6):\n",
    "    print(\" \")\n",
    "    for i in range(1,11):\n",
    "        print(f\"{num} * {i} = \",num*i)"
   ]
  },
  {
   "cell_type": "markdown",
   "id": "d928776b",
   "metadata": {},
   "source": [
    "# Programe on Email validation"
   ]
  },
  {
   "cell_type": "code",
   "execution_count": null,
   "id": "d074772c",
   "metadata": {},
   "outputs": [],
   "source": [
    "#email = input(\"Enter your email : \")#g@g.in,g@g.com\n",
    "email = 'umarattique'\n",
    "j,d,k=0,0,0\n",
    "if len(email) >= 6:\n",
    "    if email[0].isalpha():\n",
    "        if ('@' in email) and (email.count()==1):\n",
    "            if(email[-3]=='.') ^ (email[-4]=='.'):\n",
    "                for i in email:\n",
    "                    if i == i.isspace:\n",
    "                        k=1\n",
    "                    elif i.isalpha():\n",
    "                        if i==i.upper():\n",
    "                            j=1\n",
    "                    elif i.isdigit():\n",
    "                        continue\n",
    "                    elif i =='_' or i=='.' or i == '@':\n",
    "                        continue\n",
    "                    else:\n",
    "                        d=1\n",
    "                if k==1 or j==1 or d==1:\n",
    "                    print(\"Wrong email 5\")\n",
    "                else:\n",
    "                    print(\"Right email\")\n",
    "            else:\n",
    "                print(\"Wrong email 4\")\n",
    "        else:\n",
    "            print(\"Wrong email 3\")\n",
    "    else:\n",
    "        print(\"Wrong email 2\")\n",
    "else:\n",
    "    print(\"Wrong email 1\")\n"
   ]
  }
 ],
 "metadata": {
  "kernelspec": {
   "display_name": "Python 3 (ipykernel)",
   "language": "python",
   "name": "python3"
  },
  "language_info": {
   "codemirror_mode": {
    "name": "ipython",
    "version": 3
   },
   "file_extension": ".py",
   "mimetype": "text/x-python",
   "name": "python",
   "nbconvert_exporter": "python",
   "pygments_lexer": "ipython3",
   "version": "3.11.0"
  }
 },
 "nbformat": 4,
 "nbformat_minor": 5
}
