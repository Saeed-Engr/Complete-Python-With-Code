{
 "cells": [
  {
   "cell_type": "code",
   "execution_count": 2,
   "id": "30677901-41fd-4c63-a377-6eb41eefcc12",
   "metadata": {},
   "outputs": [
    {
     "name": "stdout",
     "output_type": "stream",
     "text": [
      "4\n"
     ]
    }
   ],
   "source": [
    "#operators\n",
    "print(2+2)"
   ]
  },
  {
   "cell_type": "code",
   "execution_count": 3,
   "id": "b529a732-ff28-4e5a-8f4e-f489fec6c934",
   "metadata": {},
   "outputs": [
    {
     "name": "stdout",
     "output_type": "stream",
     "text": [
      "30\n"
     ]
    }
   ],
   "source": [
    "print(5*6)"
   ]
  },
  {
   "cell_type": "code",
   "execution_count": 4,
   "id": "81bd3ec1-f5d9-4e3d-9b18-9b7db1209672",
   "metadata": {},
   "outputs": [
    {
     "name": "stdout",
     "output_type": "stream",
     "text": [
      "1\n"
     ]
    }
   ],
   "source": [
    "print(6-5)"
   ]
  },
  {
   "cell_type": "code",
   "execution_count": 5,
   "id": "3b663d90-1be0-4264-a3d1-04d094e33a58",
   "metadata": {},
   "outputs": [
    {
     "name": "stdout",
     "output_type": "stream",
     "text": [
      "0\n"
     ]
    }
   ],
   "source": [
    "print(9%3)"
   ]
  },
  {
   "cell_type": "code",
   "execution_count": 6,
   "id": "d3f2b6f6-a412-4220-a3c2-55abb1afed3b",
   "metadata": {},
   "outputs": [
    {
     "name": "stdout",
     "output_type": "stream",
     "text": [
      "2.0\n"
     ]
    }
   ],
   "source": [
    "print(6/3)"
   ]
  },
  {
   "cell_type": "code",
   "execution_count": 7,
   "id": "ab1a4caf-1f1b-4974-a310-818db014be2d",
   "metadata": {},
   "outputs": [
    {
     "name": "stdout",
     "output_type": "stream",
     "text": [
      "1.0\n"
     ]
    }
   ],
   "source": [
    "print(2+5-3*4/2)"
   ]
  },
  {
   "cell_type": "markdown",
   "id": "ea2abecf-7b28-4040-ad7f-3cf6c7050873",
   "metadata": {},
   "source": [
    "##strings"
   ]
  },
  {
   "cell_type": "code",
   "execution_count": 9,
   "id": "2ed87867-e435-4620-94e1-f763d789a89a",
   "metadata": {},
   "outputs": [
    {
     "name": "stdout",
     "output_type": "stream",
     "text": [
      "waqas\n"
     ]
    }
   ],
   "source": [
    "print(\"waqas\")"
   ]
  },
  {
   "cell_type": "code",
   "execution_count": 10,
   "id": "5ddaf9a5-32bd-420c-ab89-8a933aa0e2d7",
   "metadata": {},
   "outputs": [
    {
     "name": "stdout",
     "output_type": "stream",
     "text": [
      "hello\n"
     ]
    }
   ],
   "source": [
    " number =10\n",
    "if number > 0:\n",
    "    print(\"hello\")\n",
    "elif number < 0:\n",
    "    print(\"hello khan\")\n",
    "else:\n",
    "    print (\"hello imran\")"
   ]
  },
  {
   "cell_type": "markdown",
   "id": "825527aa-f5a4-43c0-a824-a55d8be0a8e4",
   "metadata": {},
   "source": [
    " ###create function"
   ]
  },
  {
   "cell_type": "code",
   "execution_count": 19,
   "id": "9afffd89-9785-438b-9aec-1b12c097842a",
   "metadata": {},
   "outputs": [],
   "source": [
    "def add_number():\n",
    "\n",
    "    number1 = int(input(\"enter the ist no\"))\n",
    "\n",
    "    number2 = int(input(\"enter 2nd no\"))\n",
    "\n",
    "    print(number1 + number2)"
   ]
  },
  {
   "cell_type": "code",
   "execution_count": 20,
   "id": "d8a9a1b9-e4a5-4577-998a-3ed1671f3621",
   "metadata": {},
   "outputs": [
    {
     "name": "stdin",
     "output_type": "stream",
     "text": [
      "enter the ist no 39\n",
      "enter 2nd no 21\n"
     ]
    },
    {
     "name": "stdout",
     "output_type": "stream",
     "text": [
      "60\n"
     ]
    }
   ],
   "source": [
    "add_number()"
   ]
  },
  {
   "cell_type": "code",
   "execution_count": 21,
   "id": "09d51b62-7a0f-47e3-9e37-93221785b6c2",
   "metadata": {},
   "outputs": [],
   "source": [
    "def multiple():\n",
    "    num1 = int(input(\"enter 1st no\"))\n",
    "    num2 = int(input(\"enter 2nd no\"))\n",
    "    total =(num1*num2)\n",
    "    print(total)"
   ]
  },
  {
   "cell_type": "code",
   "execution_count": 22,
   "id": "8c42254f-788e-4f70-b28c-5d76761cb037",
   "metadata": {},
   "outputs": [
    {
     "name": "stdin",
     "output_type": "stream",
     "text": [
      "enter 1st no 50\n",
      "enter 2nd no 3\n"
     ]
    },
    {
     "name": "stdout",
     "output_type": "stream",
     "text": [
      "150\n"
     ]
    }
   ],
   "source": [
    "multiple()"
   ]
  },
  {
   "cell_type": "code",
   "execution_count": null,
   "id": "79849e8e-a226-4130-83fe-02ee1b8b5e20",
   "metadata": {},
   "outputs": [],
   "source": []
  }
 ],
 "metadata": {
  "kernelspec": {
   "display_name": "Python 3 (ipykernel)",
   "language": "python",
   "name": "python3"
  },
  "language_info": {
   "codemirror_mode": {
    "name": "ipython",
    "version": 3
   },
   "file_extension": ".py",
   "mimetype": "text/x-python",
   "name": "python",
   "nbconvert_exporter": "python",
   "pygments_lexer": "ipython3",
   "version": "3.11.7"
  }
 },
 "nbformat": 4,
 "nbformat_minor": 5
}
