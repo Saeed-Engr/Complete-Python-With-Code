{
 "cells": [
  {
   "cell_type": "code",
   "execution_count": null,
   "id": "c57381fe-ae98-4e1e-a0bc-b86562b2f167",
   "metadata": {},
   "outputs": [],
   "source": [
    "                                                               function"
   ]
  },
  {
   "cell_type": "code",
   "execution_count": null,
   "id": "ac5906db-ab85-499c-8fe4-b7f074881e29",
   "metadata": {},
   "outputs": [],
   "source": [
    "                                                                Addition"
   ]
  },
  {
   "cell_type": "code",
   "execution_count": 3,
   "id": "ff6a10bc-69e0-4af1-933e-9c650ee0a5e2",
   "metadata": {},
   "outputs": [],
   "source": [
    "def add_number(): \n",
    "                           \n",
    "    print(2+3)"
   ]
  },
  {
   "cell_type": "code",
   "execution_count": 5,
   "id": "b2c075f0-1906-46e8-b3ac-69004736fff5",
   "metadata": {},
   "outputs": [
    {
     "name": "stdout",
     "output_type": "stream",
     "text": [
      "5\n"
     ]
    }
   ],
   "source": [
    "add_number()"
   ]
  },
  {
   "cell_type": "code",
   "execution_count": 6,
   "id": "77965df0-cf04-4249-bce4-fd0b4f844843",
   "metadata": {},
   "outputs": [],
   "source": [
    "def add_number():\n",
    "    \n",
    "    \n",
    "    number1 = int(input(\"Enter the 1st number\"))\n",
    "\n",
    "    number2 = int(input(\"Enter the 2nd number\"))\n",
    "\n",
    "    print(number1 + number2)\n"
   ]
  },
  {
   "cell_type": "code",
   "execution_count": 7,
   "id": "4375a737-897d-4ac9-b382-7d26840dd5f8",
   "metadata": {},
   "outputs": [
    {
     "name": "stdin",
     "output_type": "stream",
     "text": [
      "Enter the 1st number 40\n",
      "Enter the 2nd number 40\n"
     ]
    },
    {
     "name": "stdout",
     "output_type": "stream",
     "text": [
      "80\n"
     ]
    }
   ],
   "source": [
    "add_number()"
   ]
  },
  {
   "cell_type": "code",
   "execution_count": null,
   "id": "6eeedeef-1eb1-440a-893a-55997f1a3cda",
   "metadata": {},
   "outputs": [],
   "source": [
    "                                                       subtraction"
   ]
  },
  {
   "cell_type": "code",
   "execution_count": 8,
   "id": "c78a5954-bb65-4540-a06b-b0ed5b78d94a",
   "metadata": {},
   "outputs": [],
   "source": [
    "def sub_number():\n",
    "    number1 = int(input(\"Enter the 1st number\"))\n",
    "\n",
    "    number2 = int(input(\"Enter the 2nd number\"))\n",
    "\n",
    "    number3 = number1 - number2\n",
    "\n",
    "    print(number3)"
   ]
  },
  {
   "cell_type": "code",
   "execution_count": 10,
   "id": "e6fd398c-52c1-4634-83da-460bf004dbfc",
   "metadata": {},
   "outputs": [
    {
     "name": "stdin",
     "output_type": "stream",
     "text": [
      "Enter the 1st number 70\n",
      "Enter the 2nd number 6\n"
     ]
    },
    {
     "name": "stdout",
     "output_type": "stream",
     "text": [
      "64\n"
     ]
    }
   ],
   "source": [
    "sub_number()"
   ]
  },
  {
   "cell_type": "code",
   "execution_count": null,
   "id": "757b0c8b-00e5-4765-90d4-57f3dfeedd8f",
   "metadata": {},
   "outputs": [],
   "source": [
    "                                                            Multiplication"
   ]
  },
  {
   "cell_type": "code",
   "execution_count": 11,
   "id": "d3ac51fe-c89a-423d-8ec7-2107e475c420",
   "metadata": {},
   "outputs": [],
   "source": [
    "def multiple():\n",
    "    num1 = int(input(\"Enter the 1st number\"))\n",
    "\n",
    "    num2 = int (input(\"Enter the 2nd number\"))\n",
    "\n",
    "    total = (num1 * num2)\n",
    "\n",
    "    print(total)"
   ]
  },
  {
   "cell_type": "code",
   "execution_count": 12,
   "id": "c86ada89-3d58-4fe2-bc20-14070479849f",
   "metadata": {},
   "outputs": [
    {
     "name": "stdin",
     "output_type": "stream",
     "text": [
      "Enter the 1st number 3\n",
      "Enter the 2nd number 7\n"
     ]
    },
    {
     "name": "stdout",
     "output_type": "stream",
     "text": [
      "21\n"
     ]
    }
   ],
   "source": [
    "multiple()"
   ]
  },
  {
   "cell_type": "code",
   "execution_count": 22,
   "id": "8345a5d7-3348-4c49-a0fc-8fcbf54c987f",
   "metadata": {},
   "outputs": [],
   "source": [
    "def mul():\n",
    "    num= 4*8\n",
    "    print(num)\n"
   ]
  },
  {
   "cell_type": "code",
   "execution_count": 23,
   "id": "ee08f56a-b60b-4543-a067-f90c6ae42d9a",
   "metadata": {},
   "outputs": [
    {
     "name": "stdout",
     "output_type": "stream",
     "text": [
      "32\n"
     ]
    }
   ],
   "source": [
    "mul()"
   ]
  },
  {
   "cell_type": "code",
   "execution_count": 26,
   "id": "e231b62b-349a-40a2-94eb-158bc57146fa",
   "metadata": {},
   "outputs": [],
   "source": [
    "def multiple():\n",
    "    num1 = float(input(\"Enter the 1st value\"))\n",
    "\n",
    "    num2 = int(input(\"Enter the 2nd number\"))\n",
    "\n",
    "    total = (num1 * num2)\n",
    "\n",
    "    print(total)"
   ]
  },
  {
   "cell_type": "code",
   "execution_count": 27,
   "id": "7968c549-744d-4241-8a08-8c17aafb18e6",
   "metadata": {},
   "outputs": [
    {
     "name": "stdin",
     "output_type": "stream",
     "text": [
      "Enter the 1st value 2.5\n",
      "Enter the 2nd number 45\n"
     ]
    },
    {
     "name": "stdout",
     "output_type": "stream",
     "text": [
      "112.5\n"
     ]
    }
   ],
   "source": [
    "multiple()"
   ]
  },
  {
   "cell_type": "code",
   "execution_count": null,
   "id": "8c22ab5f-8df4-4942-a203-342fc670781e",
   "metadata": {},
   "outputs": [],
   "source": [
    "                                                                 division"
   ]
  },
  {
   "cell_type": "code",
   "execution_count": 34,
   "id": "1da9f744-4700-4c56-b4e6-1dab7666f153",
   "metadata": {},
   "outputs": [],
   "source": [
    "def div():\n",
    "    a = 10\n",
    "\n",
    "    b = 6\n",
    "\n",
    "    result = a/b\n",
    "    print(result)"
   ]
  },
  {
   "cell_type": "code",
   "execution_count": 35,
   "id": "12522e0f-68cf-41bd-98ff-eb5f599b89a7",
   "metadata": {},
   "outputs": [
    {
     "name": "stdout",
     "output_type": "stream",
     "text": [
      "1.6666666666666667\n"
     ]
    }
   ],
   "source": [
    "div()"
   ]
  },
  {
   "cell_type": "code",
   "execution_count": 37,
   "id": "781f2931-1997-4b62-aeb9-e8641d6c14ee",
   "metadata": {},
   "outputs": [],
   "source": [
    "def div():\n",
    "    a = 10\n",
    "\n",
    "    b = 2\n",
    "\n",
    "    result = a/b\n",
    "    print(result)"
   ]
  },
  {
   "cell_type": "code",
   "execution_count": 38,
   "id": "3b38aba5-58fb-41b7-8f73-2ed4cfd2b5ff",
   "metadata": {},
   "outputs": [
    {
     "name": "stdout",
     "output_type": "stream",
     "text": [
      "5.0\n"
     ]
    }
   ],
   "source": [
    "div()"
   ]
  },
  {
   "cell_type": "code",
   "execution_count": 39,
   "id": "15075f1b-f1b5-4a98-87cc-779807f1a6bb",
   "metadata": {},
   "outputs": [],
   "source": [
    "def div():\n",
    "    a = 10\n",
    "\n",
    "    b = 2\n",
    "\n",
    "    result = a//b\n",
    "    print(result)"
   ]
  },
  {
   "cell_type": "code",
   "execution_count": 40,
   "id": "9f95b739-5dca-4360-b512-6b6238643f3e",
   "metadata": {},
   "outputs": [
    {
     "name": "stdout",
     "output_type": "stream",
     "text": [
      "5\n"
     ]
    }
   ],
   "source": [
    "div()"
   ]
  },
  {
   "cell_type": "code",
   "execution_count": null,
   "id": "6789dbec-5805-4ee4-9bae-123a9213a3ab",
   "metadata": {},
   "outputs": [],
   "source": [
    "                                                                    reminder"
   ]
  },
  {
   "cell_type": "code",
   "execution_count": 45,
   "id": "e11687e3-7c22-4d82-bf89-35230dd6c004",
   "metadata": {},
   "outputs": [],
   "source": [
    "def reminder():\n",
    "    num1 = int(input(\"Enter the first value\"))\n",
    "\n",
    "    num2 = int(input(\"Enter the 2nd value\"))\n",
    "\n",
    "    total = num1 % num2\n",
    "\n",
    "    print(total)"
   ]
  },
  {
   "cell_type": "code",
   "execution_count": 47,
   "id": "b49fd9ae-1906-4e43-8b9e-bda661be9a04",
   "metadata": {},
   "outputs": [
    {
     "name": "stdin",
     "output_type": "stream",
     "text": [
      "Enter the first value 3\n",
      "Enter the 2nd value 2\n"
     ]
    },
    {
     "name": "stdout",
     "output_type": "stream",
     "text": [
      "1\n"
     ]
    }
   ],
   "source": [
    " reminder()"
   ]
  },
  {
   "cell_type": "code",
   "execution_count": 48,
   "id": "4de2f6d5-5ae5-4edb-aa83-33e0e096cde1",
   "metadata": {},
   "outputs": [],
   "source": [
    "def reminder():\n",
    "    num1 = int(input(\"Enter the first value\"))\n",
    "\n",
    "    num2 = int(input(\"Enter the 2nd value\"))\n",
    "\n",
    "    total = num1 % num2\n",
    "\n",
    "    print(total)"
   ]
  },
  {
   "cell_type": "code",
   "execution_count": 49,
   "id": "83d19a29-924d-4404-b3d1-e814b3a68f3c",
   "metadata": {},
   "outputs": [
    {
     "name": "stdin",
     "output_type": "stream",
     "text": [
      "Enter the first value 100\n",
      "Enter the 2nd value 20\n"
     ]
    },
    {
     "name": "stdout",
     "output_type": "stream",
     "text": [
      "0\n"
     ]
    }
   ],
   "source": [
    "reminder()\n"
   ]
  },
  {
   "cell_type": "code",
   "execution_count": null,
   "id": "167903d8-0a75-4948-9bec-cd5ec03b1554",
   "metadata": {},
   "outputs": [],
   "source": [
    "                                                       PARAMETERIZED FUNCTION"
   ]
  },
  {
   "cell_type": "code",
   "execution_count": 50,
   "id": "eb94189a-c539-4402-9f84-a82e80fc8ebb",
   "metadata": {},
   "outputs": [],
   "source": [
    "def add_numbers(num1, num2):\n",
    "    print(num1+num2)"
   ]
  },
  {
   "cell_type": "code",
   "execution_count": 52,
   "id": "c92292b5-9651-4fae-b257-22f7f6248134",
   "metadata": {},
   "outputs": [
    {
     "name": "stdout",
     "output_type": "stream",
     "text": [
      "178\n"
     ]
    }
   ],
   "source": [
    "add_numbers(89,89)"
   ]
  },
  {
   "cell_type": "code",
   "execution_count": 53,
   "id": "8f557e68-ede2-48b3-907e-59adea89176d",
   "metadata": {},
   "outputs": [],
   "source": [
    "def sub(num1, num2):\n",
    "\n",
    "    print(num1-num2)"
   ]
  },
  {
   "cell_type": "code",
   "execution_count": 58,
   "id": "dff0f0a3-9616-4914-85f1-1c24318eb63b",
   "metadata": {},
   "outputs": [
    {
     "name": "stdout",
     "output_type": "stream",
     "text": [
      "18\n"
     ]
    }
   ],
   "source": [
    "sub(78,60)"
   ]
  },
  {
   "cell_type": "code",
   "execution_count": 61,
   "id": "0b10e97b-965a-4ab2-81eb-c146a729c551",
   "metadata": {},
   "outputs": [],
   "source": [
    "def add_numbers(number1,number2):\n",
    "\n",
    "    print(number1+number2)"
   ]
  },
  {
   "cell_type": "code",
   "execution_count": 62,
   "id": "63404959-da73-46e8-83c9-f973556eeb70",
   "metadata": {},
   "outputs": [
    {
     "name": "stdout",
     "output_type": "stream",
     "text": [
      "300\n"
     ]
    }
   ],
   "source": [
    "add_numbers(number2=200, number1=100)"
   ]
  },
  {
   "cell_type": "code",
   "execution_count": 63,
   "id": "7e0a9c9f-1fa2-4c81-85d3-63b5d431bf63",
   "metadata": {},
   "outputs": [],
   "source": [
    "def full_name(first,middle,last):\n",
    "\n",
    "    print(first+middle+last)\n",
    "    "
   ]
  },
  {
   "cell_type": "code",
   "execution_count": 64,
   "id": "2fd07968-4f2b-4baa-ad31-10443d572980",
   "metadata": {},
   "outputs": [
    {
     "name": "stdout",
     "output_type": "stream",
     "text": [
      "sairanaveedch\n"
     ]
    }
   ],
   "source": [
    "full_name(\"saira\",\"naveed\",\"ch\")"
   ]
  },
  {
   "cell_type": "code",
   "execution_count": 65,
   "id": "ca791cf5-bb04-4ca6-9892-ba783aefb30d",
   "metadata": {},
   "outputs": [],
   "source": [
    "def fullName(middle=\"naveed\",last=\"ch\",first=\"saira\"):\n",
    "\n",
    " print(first+middle+last)"
   ]
  },
  {
   "cell_type": "code",
   "execution_count": 66,
   "id": "0518befb-9581-44b8-a70b-e2f7d0621cf7",
   "metadata": {},
   "outputs": [
    {
     "name": "stdout",
     "output_type": "stream",
     "text": [
      "sairanaveedch\n"
     ]
    }
   ],
   "source": [
    "fullName()"
   ]
  },
  {
   "cell_type": "code",
   "execution_count": null,
   "id": "522a96d5-f55d-4d6c-94c2-ac00b2c00bdd",
   "metadata": {},
   "outputs": [],
   "source": [
    "def fullName(first,middle=\"saira\",last):\n",
    "\n",
    "    print(first+middle+last)"
   ]
  },
  {
   "cell_type": "code",
   "execution_count": 69,
   "id": "88fd7112-639f-4946-a23e-dd58d537986e",
   "metadata": {},
   "outputs": [
    {
     "name": "stdout",
     "output_type": "stream",
     "text": [
      "sairanaveedch\n"
     ]
    }
   ],
   "source": [
    "fullName(\"naveed\",\"ch\")"
   ]
  },
  {
   "cell_type": "code",
   "execution_count": null,
   "id": "abc5a0d3-e567-4df4-9ce5-8a870f20b1dd",
   "metadata": {},
   "outputs": [],
   "source": []
  }
 ],
 "metadata": {
  "kernelspec": {
   "display_name": "Python 3 (ipykernel)",
   "language": "python",
   "name": "python3"
  },
  "language_info": {
   "codemirror_mode": {
    "name": "ipython",
    "version": 3
   },
   "file_extension": ".py",
   "mimetype": "text/x-python",
   "name": "python",
   "nbconvert_exporter": "python",
   "pygments_lexer": "ipython3",
   "version": "3.11.7"
  }
 },
 "nbformat": 4,
 "nbformat_minor": 5
}
