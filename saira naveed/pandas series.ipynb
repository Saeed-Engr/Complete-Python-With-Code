{
 "cells": [
  {
   "cell_type": "code",
   "execution_count": null,
   "id": "eb3f8aec-1d5f-4055-8f05-64d459d631d4",
   "metadata": {},
   "outputs": [],
   "source": [
    "                                                       ####pandas series####"
   ]
  },
  {
   "cell_type": "code",
   "execution_count": 3,
   "id": "44dbbbfa-97f6-46ac-90d7-c5fe33bc04d6",
   "metadata": {},
   "outputs": [
    {
     "name": "stdout",
     "output_type": "stream",
     "text": [
      "Series from list:\n",
      "0    1\n",
      "1    2\n",
      "2    3\n",
      "3    4\n",
      "4    5\n",
      "dtype: int64\n"
     ]
    }
   ],
   "source": [
    "import pandas as pd\n",
    "data_list = [1, 2, 3, 4, 5]\n",
    "series_from_list = pd.Series(data_list)\n",
    "print(\"Series from list:\")\n",
    "print(series_from_list)"
   ]
  },
  {
   "cell_type": "code",
   "execution_count": 15,
   "id": "77c9754a-872b-443b-85a2-06c7d61aba77",
   "metadata": {},
   "outputs": [
    {
     "name": "stdout",
     "output_type": "stream",
     "text": [
      "[ 7  8  9 10]\n",
      "RangeIndex(start=0, stop=4, step=1)\n"
     ]
    }
   ],
   "source": [
    "list_series = pd.Series([7,8,9,10])\n",
    "print (list_series.values)\n",
    "print (list_series.index)"
   ]
  },
  {
   "cell_type": "code",
   "execution_count": 16,
   "id": "db2b8963-e186-4709-a855-c2a216194ce6",
   "metadata": {},
   "outputs": [
    {
     "name": "stdout",
     "output_type": "stream",
     "text": [
      "list_series.values:\n",
      "[ 7  8  9 10]\n"
     ]
    }
   ],
   "source": [
    "list_series = pd.Series([7,8,9,10])\n",
    "print (\"list_series.values:\")\n",
    "print (list_series.values)"
   ]
  },
  {
   "cell_type": "code",
   "execution_count": 17,
   "id": "370fd663-f0f7-4e16-86ff-d929988391cb",
   "metadata": {},
   "outputs": [
    {
     "name": "stdout",
     "output_type": "stream",
     "text": [
      "Series from list:\n",
      "0    0\n",
      "1    1\n",
      "2    2\n",
      "3    3\n",
      "4    4\n",
      "dtype: int64\n"
     ]
    }
   ],
   "source": [
    "series_from_list = pd.Series([0,1,2,3,4])\n",
    "print(\"Series from list:\")\n",
    "print(series_from_list)"
   ]
  },
  {
   "cell_type": "code",
   "execution_count": 18,
   "id": "2507d435-a13f-4822-a5f4-6ced1005a9d6",
   "metadata": {},
   "outputs": [
    {
     "name": "stdout",
     "output_type": "stream",
     "text": [
      "a    5\n",
      "b    5\n",
      "c    5\n",
      "d    5\n",
      "dtype: int64\n"
     ]
    }
   ],
   "source": [
    "s = pd.Series(5, index=['a', 'b', 'c', 'd'])\n",
    "print(s)"
   ]
  },
  {
   "cell_type": "code",
   "execution_count": 19,
   "id": "0bde6e86-be03-4d08-bac2-5ef3e56abc24",
   "metadata": {},
   "outputs": [
    {
     "name": "stdout",
     "output_type": "stream",
     "text": [
      "0    11\n",
      "1    22\n",
      "2    33\n",
      "3    44\n",
      "4    55\n",
      "dtype: int64\n",
      "0     2\n",
      "1     4\n",
      "2     6\n",
      "3     8\n",
      "4    10\n",
      "dtype: int64\n"
     ]
    }
   ],
   "source": [
    "s1 = pd.Series([1, 2, 3, 4, 5])\n",
    "s2 = pd.Series([10, 20, 30, 40, 50])\n",
    "\n",
    "print(s1 + s2)\n",
    "print(s1 * 2)"
   ]
  },
  {
   "cell_type": "code",
   "execution_count": 20,
   "id": "04ba1afe-e8e2-47ec-8565-c30bac152b71",
   "metadata": {},
   "outputs": [
    {
     "name": "stdout",
     "output_type": "stream",
     "text": [
      "0    11\n",
      "1    22\n",
      "2    33\n",
      "3    44\n",
      "4    55\n",
      "dtype: int64\n",
      "0     10\n",
      "1     40\n",
      "2     90\n",
      "3    160\n",
      "4    250\n",
      "dtype: int64\n"
     ]
    }
   ],
   "source": [
    "s1 = pd.Series([1, 2, 3, 4, 5])\n",
    "s2 = pd.Series([10, 20, 30, 40, 50])\n",
    "\n",
    "print(s1 + s2)\n",
    "print(s1 * s2)"
   ]
  },
  {
   "cell_type": "code",
   "execution_count": 21,
   "id": "8ed29f62-2cec-4945-b0aa-f80f7f5895c1",
   "metadata": {},
   "outputs": [
    {
     "name": "stdout",
     "output_type": "stream",
     "text": [
      "2    3\n",
      "3    4\n",
      "4    5\n",
      "dtype: int64\n"
     ]
    }
   ],
   "source": [
    "print(s1[s1 > 2])"
   ]
  },
  {
   "cell_type": "code",
   "execution_count": 22,
   "id": "ec69bcb5-4b32-471f-99d8-32d2389c2ac8",
   "metadata": {},
   "outputs": [
    {
     "name": "stdout",
     "output_type": "stream",
     "text": [
      "0     1\n",
      "1     4\n",
      "2     9\n",
      "3    16\n",
      "4    25\n",
      "dtype: int64\n"
     ]
    }
   ],
   "source": [
    "def square(x):\n",
    "    return x ** 2\n",
    "\n",
    "print(s1.apply(square))"
   ]
  },
  {
   "cell_type": "code",
   "execution_count": 23,
   "id": "6d82aa63-5753-4259-bc37-4cef09103de0",
   "metadata": {},
   "outputs": [
    {
     "name": "stdout",
     "output_type": "stream",
     "text": [
      "3.0\n",
      "15\n",
      "5\n",
      "1\n",
      "count    5.000000\n",
      "mean     3.000000\n",
      "std      1.581139\n",
      "min      1.000000\n",
      "25%      2.000000\n",
      "50%      3.000000\n",
      "75%      4.000000\n",
      "max      5.000000\n",
      "dtype: float64\n"
     ]
    }
   ],
   "source": [
    "print(s1.mean())\n",
    "print(s1.sum())\n",
    "print(s1.max())\n",
    "print(s1.min())\n",
    "print(s1.describe())"
   ]
  },
  {
   "cell_type": "code",
   "execution_count": 25,
   "id": "1bdac0f8-de08-4bd6-8c4e-a30edc2d736e",
   "metadata": {},
   "outputs": [
    {
     "name": "stdout",
     "output_type": "stream",
     "text": [
      "Series from NumPy array:\n",
      "0    10\n",
      "1    20\n",
      "2    30\n",
      "3    40\n",
      "4    50\n",
      "dtype: int32\n"
     ]
    }
   ],
   "source": [
    "import numpy as np\n",
    "\n",
    "data_array = np.array([10, 20, 30, 40, 50])\n",
    "series_from_array = pd.Series(data_array)\n",
    "print(\"Series from NumPy array:\")\n",
    "print(series_from_array)"
   ]
  },
  {
   "cell_type": "code",
   "execution_count": 26,
   "id": "5e9c202d-b689-43b3-87cc-7b2554ff7ae1",
   "metadata": {},
   "outputs": [
    {
     "name": "stdout",
     "output_type": "stream",
     "text": [
      "a    3\n",
      "b    2\n",
      "c    4\n",
      "d    5\n",
      "e    6\n",
      "dtype: int32\n"
     ]
    }
   ],
   "source": [
    "import numpy as np\n",
    "ar = np.array([3,2,4,5,6])   # creating array \n",
    "ind = np.array( ['a', 'b', 'c', 'd', 'e']) \n",
    "\n",
    "obj2 = pd.Series(ar, index = ind)    \n",
    "print(obj2)"
   ]
  },
  {
   "cell_type": "code",
   "execution_count": 27,
   "id": "d62a51d2-2ad7-457d-892b-0ed021f52894",
   "metadata": {},
   "outputs": [
    {
     "name": "stdout",
     "output_type": "stream",
     "text": [
      "Series from dictionary:\n",
      "a    100\n",
      "b    200\n",
      "c    300\n",
      "dtype: int64\n"
     ]
    }
   ],
   "source": [
    "data_dict = {'a': 100, 'b': 200, 'c': 300}\n",
    "series_from_dict = pd.Series(data_dict)\n",
    "print(\"Series from dictionary:\")\n",
    "print(series_from_dict)"
   ]
  },
  {
   "cell_type": "code",
   "execution_count": 28,
   "id": "2967e2aa-c266-4e0a-a5f9-3856b23bd8e6",
   "metadata": {},
   "outputs": [
    {
     "name": "stdout",
     "output_type": "stream",
     "text": [
      "\n",
      "Series from scalar value:\n",
      "a    7\n",
      "b    7\n",
      "c    7\n",
      "d    7\n",
      "dtype: int64\n"
     ]
    }
   ],
   "source": [
    "series_from_scalar = pd.Series(7, index=['a', 'b', 'c', 'd'])\n",
    "print(\"\\nSeries from scalar value:\")\n",
    "print(series_from_scalar)"
   ]
  },
  {
   "cell_type": "code",
   "execution_count": null,
   "id": "af440d48-cd5f-4a69-80d5-e38472fe06b6",
   "metadata": {},
   "outputs": [],
   "source": []
  },
  {
   "cell_type": "code",
   "execution_count": null,
   "id": "c8278139-9a18-4c3b-8449-408a254c0800",
   "metadata": {},
   "outputs": [],
   "source": []
  }
 ],
 "metadata": {
  "kernelspec": {
   "display_name": "Python 3 (ipykernel)",
   "language": "python",
   "name": "python3"
  },
  "language_info": {
   "codemirror_mode": {
    "name": "ipython",
    "version": 3
   },
   "file_extension": ".py",
   "mimetype": "text/x-python",
   "name": "python",
   "nbconvert_exporter": "python",
   "pygments_lexer": "ipython3",
   "version": "3.11.7"
  }
 },
 "nbformat": 4,
 "nbformat_minor": 5
}
